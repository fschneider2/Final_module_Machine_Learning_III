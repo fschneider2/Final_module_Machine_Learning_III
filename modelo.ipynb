{
 "cells": [
  {
   "cell_type": "code",
   "execution_count": 4,
   "metadata": {},
   "outputs": [
    {
     "name": "stderr",
     "output_type": "stream",
     "text": [
      "2023-02-06 01:22:40.572893: I tensorflow/core/platform/cpu_feature_guard.cc:193] This TensorFlow binary is optimized with oneAPI Deep Neural Network Library (oneDNN) to use the following CPU instructions in performance-critical operations:  AVX2 FMA\n",
      "To enable them in other operations, rebuild TensorFlow with the appropriate compiler flags.\n",
      "2023-02-06 01:22:40.715165: W tensorflow/compiler/xla/stream_executor/platform/default/dso_loader.cc:64] Could not load dynamic library 'libcudart.so.11.0'; dlerror: libcudart.so.11.0: cannot open shared object file: No such file or directory\n",
      "2023-02-06 01:22:40.715190: I tensorflow/compiler/xla/stream_executor/cuda/cudart_stub.cc:29] Ignore above cudart dlerror if you do not have a GPU set up on your machine.\n",
      "2023-02-06 01:22:41.573249: W tensorflow/compiler/xla/stream_executor/platform/default/dso_loader.cc:64] Could not load dynamic library 'libnvinfer.so.7'; dlerror: libnvinfer.so.7: cannot open shared object file: No such file or directory\n",
      "2023-02-06 01:22:41.573316: W tensorflow/compiler/xla/stream_executor/platform/default/dso_loader.cc:64] Could not load dynamic library 'libnvinfer_plugin.so.7'; dlerror: libnvinfer_plugin.so.7: cannot open shared object file: No such file or directory\n",
      "2023-02-06 01:22:41.573326: W tensorflow/compiler/tf2tensorrt/utils/py_utils.cc:38] TF-TRT Warning: Cannot dlopen some TensorRT libraries. If you would like to use Nvidia GPU with TensorRT, please make sure the missing libraries mentioned above are installed properly.\n"
     ]
    }
   ],
   "source": [
    "import pandas as pd \n",
    "import numpy as np \n",
    "from sklearn import preprocessing\n",
    "from sklearn.model_selection import train_test_split\n",
    "from sklearn.metrics import accuracy_score\n",
    "from sklearn.metrics import classification_report\n",
    "from sklearn.metrics import confusion_matrix\n",
    "from keras.models import Sequential\n",
    "from keras.utils import to_categorical\n",
    "from keras.layers import Dense\n",
    "import plotly.graph_objects as go\n",
    "import matplotlib.pyplot as plt\n",
    "import seaborn as sns"
   ]
  },
  {
   "attachments": {},
   "cell_type": "markdown",
   "metadata": {},
   "source": [
    "##### Após feita a importação, realizo a leitura do DF, fazendo uma primeira análise do DataFrame."
   ]
  },
  {
   "cell_type": "code",
   "execution_count": 5,
   "metadata": {},
   "outputs": [],
   "source": [
    "df = pd.read_csv('Stars.csv')"
   ]
  },
  {
   "cell_type": "code",
   "execution_count": 6,
   "metadata": {},
   "outputs": [
    {
     "data": {
      "text/html": [
       "<div>\n",
       "<style scoped>\n",
       "    .dataframe tbody tr th:only-of-type {\n",
       "        vertical-align: middle;\n",
       "    }\n",
       "\n",
       "    .dataframe tbody tr th {\n",
       "        vertical-align: top;\n",
       "    }\n",
       "\n",
       "    .dataframe thead th {\n",
       "        text-align: right;\n",
       "    }\n",
       "</style>\n",
       "<table border=\"1\" class=\"dataframe\">\n",
       "  <thead>\n",
       "    <tr style=\"text-align: right;\">\n",
       "      <th></th>\n",
       "      <th>Temperature</th>\n",
       "      <th>L</th>\n",
       "      <th>R</th>\n",
       "      <th>A_M</th>\n",
       "      <th>Color</th>\n",
       "      <th>Spectral_Class</th>\n",
       "      <th>Type</th>\n",
       "    </tr>\n",
       "  </thead>\n",
       "  <tbody>\n",
       "    <tr>\n",
       "      <th>0</th>\n",
       "      <td>3068</td>\n",
       "      <td>0.002400</td>\n",
       "      <td>0.1700</td>\n",
       "      <td>16.12</td>\n",
       "      <td>Red</td>\n",
       "      <td>M</td>\n",
       "      <td>0</td>\n",
       "    </tr>\n",
       "    <tr>\n",
       "      <th>1</th>\n",
       "      <td>3042</td>\n",
       "      <td>0.000500</td>\n",
       "      <td>0.1542</td>\n",
       "      <td>16.60</td>\n",
       "      <td>Red</td>\n",
       "      <td>M</td>\n",
       "      <td>0</td>\n",
       "    </tr>\n",
       "    <tr>\n",
       "      <th>2</th>\n",
       "      <td>2600</td>\n",
       "      <td>0.000300</td>\n",
       "      <td>0.1020</td>\n",
       "      <td>18.70</td>\n",
       "      <td>Red</td>\n",
       "      <td>M</td>\n",
       "      <td>0</td>\n",
       "    </tr>\n",
       "    <tr>\n",
       "      <th>3</th>\n",
       "      <td>2800</td>\n",
       "      <td>0.000200</td>\n",
       "      <td>0.1600</td>\n",
       "      <td>16.65</td>\n",
       "      <td>Red</td>\n",
       "      <td>M</td>\n",
       "      <td>0</td>\n",
       "    </tr>\n",
       "    <tr>\n",
       "      <th>4</th>\n",
       "      <td>1939</td>\n",
       "      <td>0.000138</td>\n",
       "      <td>0.1030</td>\n",
       "      <td>20.06</td>\n",
       "      <td>Red</td>\n",
       "      <td>M</td>\n",
       "      <td>0</td>\n",
       "    </tr>\n",
       "    <tr>\n",
       "      <th>...</th>\n",
       "      <td>...</td>\n",
       "      <td>...</td>\n",
       "      <td>...</td>\n",
       "      <td>...</td>\n",
       "      <td>...</td>\n",
       "      <td>...</td>\n",
       "      <td>...</td>\n",
       "    </tr>\n",
       "    <tr>\n",
       "      <th>235</th>\n",
       "      <td>38940</td>\n",
       "      <td>374830.000000</td>\n",
       "      <td>1356.0000</td>\n",
       "      <td>-9.93</td>\n",
       "      <td>Blue</td>\n",
       "      <td>O</td>\n",
       "      <td>5</td>\n",
       "    </tr>\n",
       "    <tr>\n",
       "      <th>236</th>\n",
       "      <td>30839</td>\n",
       "      <td>834042.000000</td>\n",
       "      <td>1194.0000</td>\n",
       "      <td>-10.63</td>\n",
       "      <td>Blue</td>\n",
       "      <td>O</td>\n",
       "      <td>5</td>\n",
       "    </tr>\n",
       "    <tr>\n",
       "      <th>237</th>\n",
       "      <td>8829</td>\n",
       "      <td>537493.000000</td>\n",
       "      <td>1423.0000</td>\n",
       "      <td>-10.73</td>\n",
       "      <td>White</td>\n",
       "      <td>A</td>\n",
       "      <td>5</td>\n",
       "    </tr>\n",
       "    <tr>\n",
       "      <th>238</th>\n",
       "      <td>9235</td>\n",
       "      <td>404940.000000</td>\n",
       "      <td>1112.0000</td>\n",
       "      <td>-11.23</td>\n",
       "      <td>White</td>\n",
       "      <td>A</td>\n",
       "      <td>5</td>\n",
       "    </tr>\n",
       "    <tr>\n",
       "      <th>239</th>\n",
       "      <td>37882</td>\n",
       "      <td>294903.000000</td>\n",
       "      <td>1783.0000</td>\n",
       "      <td>-7.80</td>\n",
       "      <td>Blue</td>\n",
       "      <td>O</td>\n",
       "      <td>5</td>\n",
       "    </tr>\n",
       "  </tbody>\n",
       "</table>\n",
       "<p>240 rows × 7 columns</p>\n",
       "</div>"
      ],
      "text/plain": [
       "     Temperature              L          R    A_M  Color Spectral_Class  Type\n",
       "0           3068       0.002400     0.1700  16.12    Red              M     0\n",
       "1           3042       0.000500     0.1542  16.60    Red              M     0\n",
       "2           2600       0.000300     0.1020  18.70    Red              M     0\n",
       "3           2800       0.000200     0.1600  16.65    Red              M     0\n",
       "4           1939       0.000138     0.1030  20.06    Red              M     0\n",
       "..           ...            ...        ...    ...    ...            ...   ...\n",
       "235        38940  374830.000000  1356.0000  -9.93   Blue              O     5\n",
       "236        30839  834042.000000  1194.0000 -10.63   Blue              O     5\n",
       "237         8829  537493.000000  1423.0000 -10.73  White              A     5\n",
       "238         9235  404940.000000  1112.0000 -11.23  White              A     5\n",
       "239        37882  294903.000000  1783.0000  -7.80   Blue              O     5\n",
       "\n",
       "[240 rows x 7 columns]"
      ]
     },
     "execution_count": 6,
     "metadata": {},
     "output_type": "execute_result"
    }
   ],
   "source": [
    "df"
   ]
  },
  {
   "cell_type": "code",
   "execution_count": 7,
   "metadata": {},
   "outputs": [
    {
     "name": "stdout",
     "output_type": "stream",
     "text": [
      "<class 'pandas.core.frame.DataFrame'>\n",
      "RangeIndex: 240 entries, 0 to 239\n",
      "Data columns (total 7 columns):\n",
      " #   Column          Non-Null Count  Dtype  \n",
      "---  ------          --------------  -----  \n",
      " 0   Temperature     240 non-null    int64  \n",
      " 1   L               240 non-null    float64\n",
      " 2   R               240 non-null    float64\n",
      " 3   A_M             240 non-null    float64\n",
      " 4   Color           240 non-null    object \n",
      " 5   Spectral_Class  240 non-null    object \n",
      " 6   Type            240 non-null    int64  \n",
      "dtypes: float64(3), int64(2), object(2)\n",
      "memory usage: 13.2+ KB\n"
     ]
    }
   ],
   "source": [
    "df.info()"
   ]
  },
  {
   "attachments": {},
   "cell_type": "markdown",
   "metadata": {},
   "source": [
    "##### Sabendo da necessidade de transformação dos dados STR para INT, utilizo a função LabelEncoder em cada uma das colunas STR, da biblioteca sklearn | preprocessing. Primeiro instanciando a função e após aplicando nas colunas necessárias."
   ]
  },
  {
   "cell_type": "code",
   "execution_count": 8,
   "metadata": {},
   "outputs": [],
   "source": [
    "l_e_ = preprocessing.LabelEncoder()"
   ]
  },
  {
   "cell_type": "code",
   "execution_count": 9,
   "metadata": {},
   "outputs": [],
   "source": [
    "df['Color'] = l_e_.fit_transform(df['Color'])\n",
    "df['Spectral_Class'] = l_e_.fit_transform(df['Spectral_Class'])"
   ]
  },
  {
   "cell_type": "code",
   "execution_count": 10,
   "metadata": {},
   "outputs": [
    {
     "data": {
      "text/html": [
       "<div>\n",
       "<style scoped>\n",
       "    .dataframe tbody tr th:only-of-type {\n",
       "        vertical-align: middle;\n",
       "    }\n",
       "\n",
       "    .dataframe tbody tr th {\n",
       "        vertical-align: top;\n",
       "    }\n",
       "\n",
       "    .dataframe thead th {\n",
       "        text-align: right;\n",
       "    }\n",
       "</style>\n",
       "<table border=\"1\" class=\"dataframe\">\n",
       "  <thead>\n",
       "    <tr style=\"text-align: right;\">\n",
       "      <th></th>\n",
       "      <th>Temperature</th>\n",
       "      <th>L</th>\n",
       "      <th>R</th>\n",
       "      <th>A_M</th>\n",
       "      <th>Color</th>\n",
       "      <th>Spectral_Class</th>\n",
       "      <th>Type</th>\n",
       "    </tr>\n",
       "  </thead>\n",
       "  <tbody>\n",
       "    <tr>\n",
       "      <th>0</th>\n",
       "      <td>3068</td>\n",
       "      <td>0.002400</td>\n",
       "      <td>0.1700</td>\n",
       "      <td>16.12</td>\n",
       "      <td>8</td>\n",
       "      <td>5</td>\n",
       "      <td>0</td>\n",
       "    </tr>\n",
       "    <tr>\n",
       "      <th>1</th>\n",
       "      <td>3042</td>\n",
       "      <td>0.000500</td>\n",
       "      <td>0.1542</td>\n",
       "      <td>16.60</td>\n",
       "      <td>8</td>\n",
       "      <td>5</td>\n",
       "      <td>0</td>\n",
       "    </tr>\n",
       "    <tr>\n",
       "      <th>2</th>\n",
       "      <td>2600</td>\n",
       "      <td>0.000300</td>\n",
       "      <td>0.1020</td>\n",
       "      <td>18.70</td>\n",
       "      <td>8</td>\n",
       "      <td>5</td>\n",
       "      <td>0</td>\n",
       "    </tr>\n",
       "    <tr>\n",
       "      <th>3</th>\n",
       "      <td>2800</td>\n",
       "      <td>0.000200</td>\n",
       "      <td>0.1600</td>\n",
       "      <td>16.65</td>\n",
       "      <td>8</td>\n",
       "      <td>5</td>\n",
       "      <td>0</td>\n",
       "    </tr>\n",
       "    <tr>\n",
       "      <th>4</th>\n",
       "      <td>1939</td>\n",
       "      <td>0.000138</td>\n",
       "      <td>0.1030</td>\n",
       "      <td>20.06</td>\n",
       "      <td>8</td>\n",
       "      <td>5</td>\n",
       "      <td>0</td>\n",
       "    </tr>\n",
       "    <tr>\n",
       "      <th>...</th>\n",
       "      <td>...</td>\n",
       "      <td>...</td>\n",
       "      <td>...</td>\n",
       "      <td>...</td>\n",
       "      <td>...</td>\n",
       "      <td>...</td>\n",
       "      <td>...</td>\n",
       "    </tr>\n",
       "    <tr>\n",
       "      <th>235</th>\n",
       "      <td>38940</td>\n",
       "      <td>374830.000000</td>\n",
       "      <td>1356.0000</td>\n",
       "      <td>-9.93</td>\n",
       "      <td>0</td>\n",
       "      <td>6</td>\n",
       "      <td>5</td>\n",
       "    </tr>\n",
       "    <tr>\n",
       "      <th>236</th>\n",
       "      <td>30839</td>\n",
       "      <td>834042.000000</td>\n",
       "      <td>1194.0000</td>\n",
       "      <td>-10.63</td>\n",
       "      <td>0</td>\n",
       "      <td>6</td>\n",
       "      <td>5</td>\n",
       "    </tr>\n",
       "    <tr>\n",
       "      <th>237</th>\n",
       "      <td>8829</td>\n",
       "      <td>537493.000000</td>\n",
       "      <td>1423.0000</td>\n",
       "      <td>-10.73</td>\n",
       "      <td>9</td>\n",
       "      <td>0</td>\n",
       "      <td>5</td>\n",
       "    </tr>\n",
       "    <tr>\n",
       "      <th>238</th>\n",
       "      <td>9235</td>\n",
       "      <td>404940.000000</td>\n",
       "      <td>1112.0000</td>\n",
       "      <td>-11.23</td>\n",
       "      <td>9</td>\n",
       "      <td>0</td>\n",
       "      <td>5</td>\n",
       "    </tr>\n",
       "    <tr>\n",
       "      <th>239</th>\n",
       "      <td>37882</td>\n",
       "      <td>294903.000000</td>\n",
       "      <td>1783.0000</td>\n",
       "      <td>-7.80</td>\n",
       "      <td>0</td>\n",
       "      <td>6</td>\n",
       "      <td>5</td>\n",
       "    </tr>\n",
       "  </tbody>\n",
       "</table>\n",
       "<p>240 rows × 7 columns</p>\n",
       "</div>"
      ],
      "text/plain": [
       "     Temperature              L          R    A_M  Color  Spectral_Class  Type\n",
       "0           3068       0.002400     0.1700  16.12      8               5     0\n",
       "1           3042       0.000500     0.1542  16.60      8               5     0\n",
       "2           2600       0.000300     0.1020  18.70      8               5     0\n",
       "3           2800       0.000200     0.1600  16.65      8               5     0\n",
       "4           1939       0.000138     0.1030  20.06      8               5     0\n",
       "..           ...            ...        ...    ...    ...             ...   ...\n",
       "235        38940  374830.000000  1356.0000  -9.93      0               6     5\n",
       "236        30839  834042.000000  1194.0000 -10.63      0               6     5\n",
       "237         8829  537493.000000  1423.0000 -10.73      9               0     5\n",
       "238         9235  404940.000000  1112.0000 -11.23      9               0     5\n",
       "239        37882  294903.000000  1783.0000  -7.80      0               6     5\n",
       "\n",
       "[240 rows x 7 columns]"
      ]
     },
     "execution_count": 10,
     "metadata": {},
     "output_type": "execute_result"
    }
   ],
   "source": [
    "df"
   ]
  },
  {
   "attachments": {},
   "cell_type": "markdown",
   "metadata": {},
   "source": [
    "##### Análisando visualmente a discrepancia entre os dados, realizo a normalização de cada uma das colunas, dividindo cada valor, pelo maior valor da coluna."
   ]
  },
  {
   "cell_type": "code",
   "execution_count": 11,
   "metadata": {},
   "outputs": [],
   "source": [
    "columns_ = df.columns\n",
    "\n",
    "for column in columns_:\n",
    "    if column != 'Type':\n",
    "        df[column] = df[column] / df[column].max()"
   ]
  },
  {
   "cell_type": "code",
   "execution_count": 12,
   "metadata": {},
   "outputs": [
    {
     "data": {
      "text/html": [
       "<div>\n",
       "<style scoped>\n",
       "    .dataframe tbody tr th:only-of-type {\n",
       "        vertical-align: middle;\n",
       "    }\n",
       "\n",
       "    .dataframe tbody tr th {\n",
       "        vertical-align: top;\n",
       "    }\n",
       "\n",
       "    .dataframe thead th {\n",
       "        text-align: right;\n",
       "    }\n",
       "</style>\n",
       "<table border=\"1\" class=\"dataframe\">\n",
       "  <thead>\n",
       "    <tr style=\"text-align: right;\">\n",
       "      <th></th>\n",
       "      <th>Temperature</th>\n",
       "      <th>L</th>\n",
       "      <th>R</th>\n",
       "      <th>A_M</th>\n",
       "      <th>Color</th>\n",
       "      <th>Spectral_Class</th>\n",
       "      <th>Type</th>\n",
       "    </tr>\n",
       "  </thead>\n",
       "  <tbody>\n",
       "    <tr>\n",
       "      <th>0</th>\n",
       "      <td>0.076700</td>\n",
       "      <td>2.825457e-09</td>\n",
       "      <td>0.000087</td>\n",
       "      <td>0.803589</td>\n",
       "      <td>0.5000</td>\n",
       "      <td>0.833333</td>\n",
       "      <td>0</td>\n",
       "    </tr>\n",
       "    <tr>\n",
       "      <th>1</th>\n",
       "      <td>0.076050</td>\n",
       "      <td>5.886370e-10</td>\n",
       "      <td>0.000079</td>\n",
       "      <td>0.827517</td>\n",
       "      <td>0.5000</td>\n",
       "      <td>0.833333</td>\n",
       "      <td>0</td>\n",
       "    </tr>\n",
       "    <tr>\n",
       "      <th>2</th>\n",
       "      <td>0.065000</td>\n",
       "      <td>3.531822e-10</td>\n",
       "      <td>0.000052</td>\n",
       "      <td>0.932203</td>\n",
       "      <td>0.5000</td>\n",
       "      <td>0.833333</td>\n",
       "      <td>0</td>\n",
       "    </tr>\n",
       "    <tr>\n",
       "      <th>3</th>\n",
       "      <td>0.070000</td>\n",
       "      <td>2.354548e-10</td>\n",
       "      <td>0.000082</td>\n",
       "      <td>0.830010</td>\n",
       "      <td>0.5000</td>\n",
       "      <td>0.833333</td>\n",
       "      <td>0</td>\n",
       "    </tr>\n",
       "    <tr>\n",
       "      <th>4</th>\n",
       "      <td>0.048475</td>\n",
       "      <td>1.624638e-10</td>\n",
       "      <td>0.000053</td>\n",
       "      <td>1.000000</td>\n",
       "      <td>0.5000</td>\n",
       "      <td>0.833333</td>\n",
       "      <td>0</td>\n",
       "    </tr>\n",
       "    <tr>\n",
       "      <th>...</th>\n",
       "      <td>...</td>\n",
       "      <td>...</td>\n",
       "      <td>...</td>\n",
       "      <td>...</td>\n",
       "      <td>...</td>\n",
       "      <td>...</td>\n",
       "      <td>...</td>\n",
       "    </tr>\n",
       "    <tr>\n",
       "      <th>235</th>\n",
       "      <td>0.973500</td>\n",
       "      <td>4.412776e-01</td>\n",
       "      <td>0.695920</td>\n",
       "      <td>-0.495015</td>\n",
       "      <td>0.0000</td>\n",
       "      <td>1.000000</td>\n",
       "      <td>5</td>\n",
       "    </tr>\n",
       "    <tr>\n",
       "      <th>236</th>\n",
       "      <td>0.770975</td>\n",
       "      <td>9.818959e-01</td>\n",
       "      <td>0.612779</td>\n",
       "      <td>-0.529910</td>\n",
       "      <td>0.0000</td>\n",
       "      <td>1.000000</td>\n",
       "      <td>5</td>\n",
       "    </tr>\n",
       "    <tr>\n",
       "      <th>237</th>\n",
       "      <td>0.220725</td>\n",
       "      <td>6.327765e-01</td>\n",
       "      <td>0.730305</td>\n",
       "      <td>-0.534895</td>\n",
       "      <td>0.5625</td>\n",
       "      <td>0.000000</td>\n",
       "      <td>5</td>\n",
       "    </tr>\n",
       "    <tr>\n",
       "      <th>238</th>\n",
       "      <td>0.230875</td>\n",
       "      <td>4.767253e-01</td>\n",
       "      <td>0.570695</td>\n",
       "      <td>-0.559821</td>\n",
       "      <td>0.5625</td>\n",
       "      <td>0.000000</td>\n",
       "      <td>5</td>\n",
       "    </tr>\n",
       "    <tr>\n",
       "      <th>239</th>\n",
       "      <td>0.947050</td>\n",
       "      <td>3.471816e-01</td>\n",
       "      <td>0.915063</td>\n",
       "      <td>-0.388833</td>\n",
       "      <td>0.0000</td>\n",
       "      <td>1.000000</td>\n",
       "      <td>5</td>\n",
       "    </tr>\n",
       "  </tbody>\n",
       "</table>\n",
       "<p>240 rows × 7 columns</p>\n",
       "</div>"
      ],
      "text/plain": [
       "     Temperature             L         R       A_M   Color  Spectral_Class  \\\n",
       "0       0.076700  2.825457e-09  0.000087  0.803589  0.5000        0.833333   \n",
       "1       0.076050  5.886370e-10  0.000079  0.827517  0.5000        0.833333   \n",
       "2       0.065000  3.531822e-10  0.000052  0.932203  0.5000        0.833333   \n",
       "3       0.070000  2.354548e-10  0.000082  0.830010  0.5000        0.833333   \n",
       "4       0.048475  1.624638e-10  0.000053  1.000000  0.5000        0.833333   \n",
       "..           ...           ...       ...       ...     ...             ...   \n",
       "235     0.973500  4.412776e-01  0.695920 -0.495015  0.0000        1.000000   \n",
       "236     0.770975  9.818959e-01  0.612779 -0.529910  0.0000        1.000000   \n",
       "237     0.220725  6.327765e-01  0.730305 -0.534895  0.5625        0.000000   \n",
       "238     0.230875  4.767253e-01  0.570695 -0.559821  0.5625        0.000000   \n",
       "239     0.947050  3.471816e-01  0.915063 -0.388833  0.0000        1.000000   \n",
       "\n",
       "     Type  \n",
       "0       0  \n",
       "1       0  \n",
       "2       0  \n",
       "3       0  \n",
       "4       0  \n",
       "..    ...  \n",
       "235     5  \n",
       "236     5  \n",
       "237     5  \n",
       "238     5  \n",
       "239     5  \n",
       "\n",
       "[240 rows x 7 columns]"
      ]
     },
     "execution_count": 12,
     "metadata": {},
     "output_type": "execute_result"
    }
   ],
   "source": [
    "df"
   ]
  },
  {
   "cell_type": "code",
   "execution_count": 13,
   "metadata": {},
   "outputs": [
    {
     "data": {
      "text/plain": [
       "(240, 7)"
      ]
     },
     "execution_count": 13,
     "metadata": {},
     "output_type": "execute_result"
    }
   ],
   "source": [
    "df.shape"
   ]
  },
  {
   "cell_type": "code",
   "execution_count": 14,
   "metadata": {},
   "outputs": [
    {
     "data": {
      "text/plain": [
       "Temperature       0\n",
       "L                 0\n",
       "R                 0\n",
       "A_M               0\n",
       "Color             0\n",
       "Spectral_Class    0\n",
       "Type              0\n",
       "dtype: int64"
      ]
     },
     "execution_count": 14,
     "metadata": {},
     "output_type": "execute_result"
    }
   ],
   "source": [
    "df.isnull().sum()"
   ]
  },
  {
   "cell_type": "code",
   "execution_count": 15,
   "metadata": {},
   "outputs": [
    {
     "data": {
      "text/plain": [
       "0"
      ]
     },
     "execution_count": 15,
     "metadata": {},
     "output_type": "execute_result"
    }
   ],
   "source": [
    "df.duplicated().sum()"
   ]
  },
  {
   "cell_type": "code",
   "execution_count": 16,
   "metadata": {},
   "outputs": [],
   "source": [
    "df = df.sort_values('Type')"
   ]
  },
  {
   "attachments": {},
   "cell_type": "markdown",
   "metadata": {},
   "source": [
    "##### A intenção é de realizar uma análise mais aprofundada dos dados, tanto por classe quanto por distribuição dos dados em dimensão|classe.\n",
    "\n",
    "##### Para isso optei por plotar gráficos de cada dimensão(coluna), fazendo uma análise por classe, para isso optei pela tecnologia plotly, assim consigo análisar tanto individualmente(selecionando) quanto comparar com as demais classes, isso em um unico gráfico. A função abaixo passa por cada uma das colunas do DF, monta a figura, passa por cada uma das classes, e adiciona uma figura violin, box_plot e de pontos, após, altero tamanho, legendas, o nome de classe para sua correspondente á lista disponibilizada no kaggle, e por fim o gráfico é apresentado, isso é repetido para cada uma das colunas. \n",
    "\n",
    "##### Esse gráfico foi idealizado por mim, e elaborado com apoio dos colegas José e Diego, que podem ou não o ter utilizado em seus trabalhos. Ambos participaram da elaboração do trecho \"fig.add_trace(go.Violin(x = df['Type'][df['Type'] == class_], y = df[column][df['Type'] == class_], name = class_, box_visible = True, points= 'all'))\"."
   ]
  },
  {
   "cell_type": "code",
   "execution_count": 17,
   "metadata": {},
   "outputs": [
    {
     "data": {
      "application/vnd.plotly.v1+json": {
       "config": {
        "plotlyServerURL": "https://plot.ly"
       },
       "data": [
        {
         "box": {
          "visible": true
         },
         "legendgroup": "Anão Vermelho",
         "marker": {
          "line": {
           "color": "black",
           "width": 0.5
          }
         },
         "name": "Anão Vermelho",
         "points": "all",
         "type": "violin",
         "x": [
          0,
          0,
          0,
          0,
          0,
          0,
          0,
          0,
          0,
          0,
          0,
          0,
          0,
          0,
          0,
          0,
          0,
          0,
          0,
          0,
          0,
          0,
          0,
          0,
          0,
          0,
          0,
          0,
          0,
          0,
          0,
          0,
          0,
          0,
          0,
          0,
          0,
          0,
          0,
          0
         ],
         "y": [
          0.0767,
          0.06945,
          0.0871,
          0.072225,
          0.086325,
          0.08045,
          0.085475,
          0.07285,
          0.070775,
          0.071525,
          0.0714,
          0.088075,
          0.068275,
          0.083525,
          0.0858,
          0.074575,
          0.070875,
          0.073375,
          0.082375,
          0.073625,
          0.070425,
          0.06935,
          0.071775,
          0.083075,
          0.073375,
          0.0742,
          0.088275,
          0.07,
          0.065925,
          0.065,
          0.08045,
          0.07865,
          0.087775,
          0.07605,
          0.065,
          0.06625,
          0.0675,
          0.080625,
          0.048475,
          0.071
         ]
        },
        {
         "box": {
          "visible": true
         },
         "legendgroup": "Anã Marrom ",
         "marker": {
          "line": {
           "color": "black",
           "width": 0.5
          }
         },
         "name": "Anã Marrom ",
         "points": "all",
         "type": "violin",
         "x": [
          1,
          1,
          1,
          1,
          1,
          1,
          1,
          1,
          1,
          1,
          1,
          1,
          1,
          1,
          1,
          1,
          1,
          1,
          1,
          1,
          1,
          1,
          1,
          1,
          1,
          1,
          1,
          1,
          1,
          1,
          1,
          1,
          1,
          1,
          1,
          1,
          1,
          1,
          1,
          1
         ],
         "y": [
          0.09,
          0.0831,
          0.088525,
          0.08995,
          0.086575,
          0.083625,
          0.090175,
          0.0826,
          0.07875,
          0.08875,
          0.0795,
          0.07225,
          0.08355,
          0.077275,
          0.081075,
          0.0775,
          0.074725,
          0.0831,
          0.0874,
          0.07855,
          0.08995,
          0.088075,
          0.0803,
          0.07485,
          0.081425,
          0.08655,
          0.065525,
          0.086025,
          0.0798,
          0.0923,
          0.069975,
          0.0835,
          0.06625,
          0.0907,
          0.07835,
          0.078225,
          0.077375,
          0.090175,
          0.08855,
          0.07895
         ]
        },
        {
         "box": {
          "visible": true
         },
         "legendgroup": "Anã Branca",
         "marker": {
          "line": {
           "color": "black",
           "width": 0.5
          }
         },
         "name": "Anã Branca",
         "points": "all",
         "type": "violin",
         "x": [
          2,
          2,
          2,
          2,
          2,
          2,
          2,
          2,
          2,
          2,
          2,
          2,
          2,
          2,
          2,
          2,
          2,
          2,
          2,
          2,
          2,
          2,
          2,
          2,
          2,
          2,
          2,
          2,
          2,
          2,
          2,
          2,
          2,
          2,
          2,
          2,
          2,
          2,
          2,
          2
         ],
         "y": [
          0.193075,
          0.5255,
          0.498,
          0.4585,
          0.3335,
          0.37455,
          0.392,
          0.41975,
          0.448,
          0.484,
          0.3246,
          0.3683,
          0.3228,
          0.2231,
          0.2975,
          0.363,
          0.45725,
          0.3355,
          0.6005,
          0.5773,
          0.43,
          0.4965,
          0.1775,
          0.343,
          0.2745,
          0.30025,
          0.241875,
          0.3525,
          0.22325,
          0.29475,
          0.18075,
          0.21425,
          0.32475,
          0.4125,
          0.2125,
          0.1805,
          0.26435,
          0.1935,
          0.625,
          0.1925
         ]
        },
        {
         "box": {
          "visible": true
         },
         "legendgroup": "Sequência Principal",
         "marker": {
          "line": {
           "color": "black",
           "width": 0.5
          }
         },
         "name": "Sequência Principal",
         "points": "all",
         "type": "violin",
         "x": [
          3,
          3,
          3,
          3,
          3,
          3,
          3,
          3,
          3,
          3,
          3,
          3,
          3,
          3,
          3,
          3,
          3,
          3,
          3,
          3,
          3,
          3,
          3,
          3,
          3,
          3,
          3,
          3,
          3,
          3,
          3,
          3,
          3,
          3,
          3,
          3,
          3,
          3,
          3,
          3
         ],
         "y": [
          0.223625,
          0.139675,
          0.739,
          0.3515,
          0.325575,
          0.62675,
          0.7175,
          0.6535,
          0.503,
          0.945,
          0.55875,
          0.2503,
          0.327225,
          0.5503,
          0.85475,
          0.8115,
          0.233,
          0.9027,
          0.1484,
          0.40975,
          0.168925,
          0.30245,
          0.975,
          0.75,
          0.3819,
          0.2425,
          0.145,
          0.2013,
          0.20625,
          0.4285,
          0.193,
          0.1278,
          0.28125,
          0.1595,
          0.22575,
          0.101925,
          0.11315,
          0.1325,
          0.485,
          0.1245
         ]
        },
        {
         "box": {
          "visible": true
         },
         "legendgroup": "Supergigantes",
         "marker": {
          "line": {
           "color": "black",
           "width": 0.5
          }
         },
         "name": "Supergigantes",
         "points": "all",
         "type": "violin",
         "x": [
          4,
          4,
          4,
          4,
          4,
          4,
          4,
          4,
          4,
          4,
          4,
          4,
          4,
          4,
          4,
          4,
          4,
          4,
          4,
          4,
          4,
          4,
          4,
          4,
          4,
          4,
          4,
          4,
          4,
          4,
          4,
          4,
          4,
          4,
          4,
          4,
          4,
          4,
          4,
          4
         ],
         "y": [
          0.08935,
          0.089375,
          0.09,
          0.0752,
          0.08,
          0.08175,
          0.084125,
          0.09565,
          0.234325,
          0.8325,
          0.659325,
          0.318725,
          0.234575,
          0.586,
          0.419675,
          0.46835,
          0.2473,
          0.27325,
          0.835525,
          0.608625,
          0.322325,
          0.61575,
          0.356125,
          0.2774,
          0.575,
          1,
          0.59195,
          0.577375,
          0.54345,
          0.090625,
          0.498075,
          0.18205,
          0.223175,
          0.1438,
          0.316875,
          0.289175,
          0.63475,
          0.434575,
          0.428,
          0.84375
         ]
        },
        {
         "box": {
          "visible": true
         },
         "legendgroup": "Hipergigantes",
         "marker": {
          "line": {
           "color": "black",
           "width": 0.5
          }
         },
         "name": "Hipergigantes",
         "points": "all",
         "type": "violin",
         "x": [
          5,
          5,
          5,
          5,
          5,
          5,
          5,
          5,
          5,
          5,
          5,
          5,
          5,
          5,
          5,
          5,
          5,
          5,
          5,
          5,
          5,
          5,
          5,
          5,
          5,
          5,
          5,
          5,
          5,
          5,
          5,
          5,
          5,
          5,
          5,
          5,
          5,
          5,
          5,
          5
         ],
         "y": [
          0.220725,
          0.770975,
          0.9735,
          0.5476,
          0.693475,
          0.812225,
          0.95585,
          0.603625,
          0.0945,
          0.3025,
          0.08725,
          0.09375,
          0.09585,
          0.093725,
          0.09125,
          0.08625,
          0.0915,
          0.08625,
          0.0938,
          0.088375,
          0.086475,
          0.090125,
          0.090375,
          0.61225,
          0.084975,
          0.088825,
          0.100375,
          0.090625,
          0.17125,
          0.230875,
          0.08925,
          0.0875,
          0.107175,
          0.65,
          0.09,
          0.09035,
          0.45,
          0.275,
          0.09025,
          0.94705
         ]
        }
       ],
       "layout": {
        "height": 600,
        "template": {
         "data": {
          "bar": [
           {
            "error_x": {
             "color": "#2a3f5f"
            },
            "error_y": {
             "color": "#2a3f5f"
            },
            "marker": {
             "line": {
              "color": "#E5ECF6",
              "width": 0.5
             },
             "pattern": {
              "fillmode": "overlay",
              "size": 10,
              "solidity": 0.2
             }
            },
            "type": "bar"
           }
          ],
          "barpolar": [
           {
            "marker": {
             "line": {
              "color": "#E5ECF6",
              "width": 0.5
             },
             "pattern": {
              "fillmode": "overlay",
              "size": 10,
              "solidity": 0.2
             }
            },
            "type": "barpolar"
           }
          ],
          "carpet": [
           {
            "aaxis": {
             "endlinecolor": "#2a3f5f",
             "gridcolor": "white",
             "linecolor": "white",
             "minorgridcolor": "white",
             "startlinecolor": "#2a3f5f"
            },
            "baxis": {
             "endlinecolor": "#2a3f5f",
             "gridcolor": "white",
             "linecolor": "white",
             "minorgridcolor": "white",
             "startlinecolor": "#2a3f5f"
            },
            "type": "carpet"
           }
          ],
          "choropleth": [
           {
            "colorbar": {
             "outlinewidth": 0,
             "ticks": ""
            },
            "type": "choropleth"
           }
          ],
          "contour": [
           {
            "colorbar": {
             "outlinewidth": 0,
             "ticks": ""
            },
            "colorscale": [
             [
              0,
              "#0d0887"
             ],
             [
              0.1111111111111111,
              "#46039f"
             ],
             [
              0.2222222222222222,
              "#7201a8"
             ],
             [
              0.3333333333333333,
              "#9c179e"
             ],
             [
              0.4444444444444444,
              "#bd3786"
             ],
             [
              0.5555555555555556,
              "#d8576b"
             ],
             [
              0.6666666666666666,
              "#ed7953"
             ],
             [
              0.7777777777777778,
              "#fb9f3a"
             ],
             [
              0.8888888888888888,
              "#fdca26"
             ],
             [
              1,
              "#f0f921"
             ]
            ],
            "type": "contour"
           }
          ],
          "contourcarpet": [
           {
            "colorbar": {
             "outlinewidth": 0,
             "ticks": ""
            },
            "type": "contourcarpet"
           }
          ],
          "heatmap": [
           {
            "colorbar": {
             "outlinewidth": 0,
             "ticks": ""
            },
            "colorscale": [
             [
              0,
              "#0d0887"
             ],
             [
              0.1111111111111111,
              "#46039f"
             ],
             [
              0.2222222222222222,
              "#7201a8"
             ],
             [
              0.3333333333333333,
              "#9c179e"
             ],
             [
              0.4444444444444444,
              "#bd3786"
             ],
             [
              0.5555555555555556,
              "#d8576b"
             ],
             [
              0.6666666666666666,
              "#ed7953"
             ],
             [
              0.7777777777777778,
              "#fb9f3a"
             ],
             [
              0.8888888888888888,
              "#fdca26"
             ],
             [
              1,
              "#f0f921"
             ]
            ],
            "type": "heatmap"
           }
          ],
          "heatmapgl": [
           {
            "colorbar": {
             "outlinewidth": 0,
             "ticks": ""
            },
            "colorscale": [
             [
              0,
              "#0d0887"
             ],
             [
              0.1111111111111111,
              "#46039f"
             ],
             [
              0.2222222222222222,
              "#7201a8"
             ],
             [
              0.3333333333333333,
              "#9c179e"
             ],
             [
              0.4444444444444444,
              "#bd3786"
             ],
             [
              0.5555555555555556,
              "#d8576b"
             ],
             [
              0.6666666666666666,
              "#ed7953"
             ],
             [
              0.7777777777777778,
              "#fb9f3a"
             ],
             [
              0.8888888888888888,
              "#fdca26"
             ],
             [
              1,
              "#f0f921"
             ]
            ],
            "type": "heatmapgl"
           }
          ],
          "histogram": [
           {
            "marker": {
             "pattern": {
              "fillmode": "overlay",
              "size": 10,
              "solidity": 0.2
             }
            },
            "type": "histogram"
           }
          ],
          "histogram2d": [
           {
            "colorbar": {
             "outlinewidth": 0,
             "ticks": ""
            },
            "colorscale": [
             [
              0,
              "#0d0887"
             ],
             [
              0.1111111111111111,
              "#46039f"
             ],
             [
              0.2222222222222222,
              "#7201a8"
             ],
             [
              0.3333333333333333,
              "#9c179e"
             ],
             [
              0.4444444444444444,
              "#bd3786"
             ],
             [
              0.5555555555555556,
              "#d8576b"
             ],
             [
              0.6666666666666666,
              "#ed7953"
             ],
             [
              0.7777777777777778,
              "#fb9f3a"
             ],
             [
              0.8888888888888888,
              "#fdca26"
             ],
             [
              1,
              "#f0f921"
             ]
            ],
            "type": "histogram2d"
           }
          ],
          "histogram2dcontour": [
           {
            "colorbar": {
             "outlinewidth": 0,
             "ticks": ""
            },
            "colorscale": [
             [
              0,
              "#0d0887"
             ],
             [
              0.1111111111111111,
              "#46039f"
             ],
             [
              0.2222222222222222,
              "#7201a8"
             ],
             [
              0.3333333333333333,
              "#9c179e"
             ],
             [
              0.4444444444444444,
              "#bd3786"
             ],
             [
              0.5555555555555556,
              "#d8576b"
             ],
             [
              0.6666666666666666,
              "#ed7953"
             ],
             [
              0.7777777777777778,
              "#fb9f3a"
             ],
             [
              0.8888888888888888,
              "#fdca26"
             ],
             [
              1,
              "#f0f921"
             ]
            ],
            "type": "histogram2dcontour"
           }
          ],
          "mesh3d": [
           {
            "colorbar": {
             "outlinewidth": 0,
             "ticks": ""
            },
            "type": "mesh3d"
           }
          ],
          "parcoords": [
           {
            "line": {
             "colorbar": {
              "outlinewidth": 0,
              "ticks": ""
             }
            },
            "type": "parcoords"
           }
          ],
          "pie": [
           {
            "automargin": true,
            "type": "pie"
           }
          ],
          "scatter": [
           {
            "fillpattern": {
             "fillmode": "overlay",
             "size": 10,
             "solidity": 0.2
            },
            "type": "scatter"
           }
          ],
          "scatter3d": [
           {
            "line": {
             "colorbar": {
              "outlinewidth": 0,
              "ticks": ""
             }
            },
            "marker": {
             "colorbar": {
              "outlinewidth": 0,
              "ticks": ""
             }
            },
            "type": "scatter3d"
           }
          ],
          "scattercarpet": [
           {
            "marker": {
             "colorbar": {
              "outlinewidth": 0,
              "ticks": ""
             }
            },
            "type": "scattercarpet"
           }
          ],
          "scattergeo": [
           {
            "marker": {
             "colorbar": {
              "outlinewidth": 0,
              "ticks": ""
             }
            },
            "type": "scattergeo"
           }
          ],
          "scattergl": [
           {
            "marker": {
             "colorbar": {
              "outlinewidth": 0,
              "ticks": ""
             }
            },
            "type": "scattergl"
           }
          ],
          "scattermapbox": [
           {
            "marker": {
             "colorbar": {
              "outlinewidth": 0,
              "ticks": ""
             }
            },
            "type": "scattermapbox"
           }
          ],
          "scatterpolar": [
           {
            "marker": {
             "colorbar": {
              "outlinewidth": 0,
              "ticks": ""
             }
            },
            "type": "scatterpolar"
           }
          ],
          "scatterpolargl": [
           {
            "marker": {
             "colorbar": {
              "outlinewidth": 0,
              "ticks": ""
             }
            },
            "type": "scatterpolargl"
           }
          ],
          "scatterternary": [
           {
            "marker": {
             "colorbar": {
              "outlinewidth": 0,
              "ticks": ""
             }
            },
            "type": "scatterternary"
           }
          ],
          "surface": [
           {
            "colorbar": {
             "outlinewidth": 0,
             "ticks": ""
            },
            "colorscale": [
             [
              0,
              "#0d0887"
             ],
             [
              0.1111111111111111,
              "#46039f"
             ],
             [
              0.2222222222222222,
              "#7201a8"
             ],
             [
              0.3333333333333333,
              "#9c179e"
             ],
             [
              0.4444444444444444,
              "#bd3786"
             ],
             [
              0.5555555555555556,
              "#d8576b"
             ],
             [
              0.6666666666666666,
              "#ed7953"
             ],
             [
              0.7777777777777778,
              "#fb9f3a"
             ],
             [
              0.8888888888888888,
              "#fdca26"
             ],
             [
              1,
              "#f0f921"
             ]
            ],
            "type": "surface"
           }
          ],
          "table": [
           {
            "cells": {
             "fill": {
              "color": "#EBF0F8"
             },
             "line": {
              "color": "white"
             }
            },
            "header": {
             "fill": {
              "color": "#C8D4E3"
             },
             "line": {
              "color": "white"
             }
            },
            "type": "table"
           }
          ]
         },
         "layout": {
          "annotationdefaults": {
           "arrowcolor": "#2a3f5f",
           "arrowhead": 0,
           "arrowwidth": 1
          },
          "autotypenumbers": "strict",
          "coloraxis": {
           "colorbar": {
            "outlinewidth": 0,
            "ticks": ""
           }
          },
          "colorscale": {
           "diverging": [
            [
             0,
             "#8e0152"
            ],
            [
             0.1,
             "#c51b7d"
            ],
            [
             0.2,
             "#de77ae"
            ],
            [
             0.3,
             "#f1b6da"
            ],
            [
             0.4,
             "#fde0ef"
            ],
            [
             0.5,
             "#f7f7f7"
            ],
            [
             0.6,
             "#e6f5d0"
            ],
            [
             0.7,
             "#b8e186"
            ],
            [
             0.8,
             "#7fbc41"
            ],
            [
             0.9,
             "#4d9221"
            ],
            [
             1,
             "#276419"
            ]
           ],
           "sequential": [
            [
             0,
             "#0d0887"
            ],
            [
             0.1111111111111111,
             "#46039f"
            ],
            [
             0.2222222222222222,
             "#7201a8"
            ],
            [
             0.3333333333333333,
             "#9c179e"
            ],
            [
             0.4444444444444444,
             "#bd3786"
            ],
            [
             0.5555555555555556,
             "#d8576b"
            ],
            [
             0.6666666666666666,
             "#ed7953"
            ],
            [
             0.7777777777777778,
             "#fb9f3a"
            ],
            [
             0.8888888888888888,
             "#fdca26"
            ],
            [
             1,
             "#f0f921"
            ]
           ],
           "sequentialminus": [
            [
             0,
             "#0d0887"
            ],
            [
             0.1111111111111111,
             "#46039f"
            ],
            [
             0.2222222222222222,
             "#7201a8"
            ],
            [
             0.3333333333333333,
             "#9c179e"
            ],
            [
             0.4444444444444444,
             "#bd3786"
            ],
            [
             0.5555555555555556,
             "#d8576b"
            ],
            [
             0.6666666666666666,
             "#ed7953"
            ],
            [
             0.7777777777777778,
             "#fb9f3a"
            ],
            [
             0.8888888888888888,
             "#fdca26"
            ],
            [
             1,
             "#f0f921"
            ]
           ]
          },
          "colorway": [
           "#636efa",
           "#EF553B",
           "#00cc96",
           "#ab63fa",
           "#FFA15A",
           "#19d3f3",
           "#FF6692",
           "#B6E880",
           "#FF97FF",
           "#FECB52"
          ],
          "font": {
           "color": "#2a3f5f"
          },
          "geo": {
           "bgcolor": "white",
           "lakecolor": "white",
           "landcolor": "#E5ECF6",
           "showlakes": true,
           "showland": true,
           "subunitcolor": "white"
          },
          "hoverlabel": {
           "align": "left"
          },
          "hovermode": "closest",
          "mapbox": {
           "style": "light"
          },
          "paper_bgcolor": "white",
          "plot_bgcolor": "#E5ECF6",
          "polar": {
           "angularaxis": {
            "gridcolor": "white",
            "linecolor": "white",
            "ticks": ""
           },
           "bgcolor": "#E5ECF6",
           "radialaxis": {
            "gridcolor": "white",
            "linecolor": "white",
            "ticks": ""
           }
          },
          "scene": {
           "xaxis": {
            "backgroundcolor": "#E5ECF6",
            "gridcolor": "white",
            "gridwidth": 2,
            "linecolor": "white",
            "showbackground": true,
            "ticks": "",
            "zerolinecolor": "white"
           },
           "yaxis": {
            "backgroundcolor": "#E5ECF6",
            "gridcolor": "white",
            "gridwidth": 2,
            "linecolor": "white",
            "showbackground": true,
            "ticks": "",
            "zerolinecolor": "white"
           },
           "zaxis": {
            "backgroundcolor": "#E5ECF6",
            "gridcolor": "white",
            "gridwidth": 2,
            "linecolor": "white",
            "showbackground": true,
            "ticks": "",
            "zerolinecolor": "white"
           }
          },
          "shapedefaults": {
           "line": {
            "color": "#2a3f5f"
           }
          },
          "ternary": {
           "aaxis": {
            "gridcolor": "white",
            "linecolor": "white",
            "ticks": ""
           },
           "baxis": {
            "gridcolor": "white",
            "linecolor": "white",
            "ticks": ""
           },
           "bgcolor": "#E5ECF6",
           "caxis": {
            "gridcolor": "white",
            "linecolor": "white",
            "ticks": ""
           }
          },
          "title": {
           "x": 0.05
          },
          "xaxis": {
           "automargin": true,
           "gridcolor": "white",
           "linecolor": "white",
           "ticks": "",
           "title": {
            "standoff": 15
           },
           "zerolinecolor": "white",
           "zerolinewidth": 2
          },
          "yaxis": {
           "automargin": true,
           "gridcolor": "white",
           "linecolor": "white",
           "ticks": "",
           "title": {
            "standoff": 15
           },
           "zerolinecolor": "white",
           "zerolinewidth": 2
          }
         }
        },
        "title": {
         "text": "Gráfico comparativo de Temperature entre tipos de estrelas"
        },
        "width": 1000,
        "xaxis": {
         "title": {
          "text": "Classes"
         }
        },
        "yaxis": {
         "title": {
          "text": "Temperature"
         }
        }
       }
      }
     },
     "metadata": {},
     "output_type": "display_data"
    },
    {
     "data": {
      "application/vnd.plotly.v1+json": {
       "config": {
        "plotlyServerURL": "https://plot.ly"
       },
       "data": [
        {
         "box": {
          "visible": true
         },
         "legendgroup": "Anão Vermelho",
         "marker": {
          "line": {
           "color": "black",
           "width": 0.5
          }
         },
         "name": "Anão Vermelho",
         "points": "all",
         "type": "violin",
         "x": [
          0,
          0,
          0,
          0,
          0,
          0,
          0,
          0,
          0,
          0,
          0,
          0,
          0,
          0,
          0,
          0,
          0,
          0,
          0,
          0,
          0,
          0,
          0,
          0,
          0,
          0,
          0,
          0,
          0,
          0,
          0,
          0,
          0,
          0,
          0,
          0,
          0,
          0,
          0,
          0
         ],
         "y": [
          2.825457370911916e-9,
          9.995055449600905e-10,
          6.486779214051941e-10,
          4.144004144004144e-10,
          7.310870947234584e-10,
          5.321278048550776e-10,
          2.884321066139248e-10,
          7.428598337689247e-10,
          2.7195027195027195e-10,
          2.2368204186386006e-10,
          1.054837418473782e-9,
          1.1266511266511265e-9,
          5.144686962868781e-10,
          6.592733865461138e-9,
          7.887735160462434e-10,
          2.8254573709119163e-10,
          4.0027312754585484e-10,
          1.6481834663652845e-10,
          1.1537284264556991e-9,
          3.7672764945492223e-10,
          1.1537284264556991e-9,
          4.238186056367875e-10,
          8.47637211273575e-10,
          5.062277789550516e-10,
          1.0242282969555698e-9,
          5.427232699959972e-10,
          1.0948647312283676e-9,
          2.3545478090932636e-10,
          8.594099503190412e-10,
          3.531821713639895e-10,
          6.357279084551812e-10,
          1.7659108568199476e-10,
          7.534552989098445e-10,
          5.886369522733159e-10,
          4.709095618186527e-10,
          8.123189941371759e-10,
          2.1190930281839375e-10,
          8.947281674554402e-10,
          1.6246379882743519e-10,
          7.652280379553107e-10
         ]
        },
        {
         "box": {
          "visible": true
         },
         "legendgroup": "Anã Marrom ",
         "marker": {
          "line": {
           "color": "black",
           "width": 0.5
          }
         },
         "name": "Anã Marrom ",
         "points": "all",
         "type": "violin",
         "x": [
          1,
          1,
          1,
          1,
          1,
          1,
          1,
          1,
          1,
          1,
          1,
          1,
          1,
          1,
          1,
          1,
          1,
          1,
          1,
          1,
          1,
          1,
          1,
          1,
          1,
          1,
          1,
          1,
          1,
          1,
          1,
          1,
          1,
          1,
          1,
          1,
          1,
          1,
          1,
          1
         ],
         "y": [
          3.414094323185232e-9,
          4.002731275458548e-9,
          1.5304560759106213e-9,
          1.295001295001295e-9,
          3.178639542275906e-9,
          2.472275199547927e-8,
          2.5900025900025898e-8,
          1.0006828188646372e-8,
          1.036001036001036e-8,
          4.709095618186527e-9,
          1.1772739045466317e-9,
          4.002731275458548e-9,
          1.7659108568199478e-9,
          9.535918626827718e-9,
          2.707729980457253e-9,
          9.418191236373054e-9,
          1.0242282969555696e-8,
          7.652280379553106e-9,
          1.4715923806832898e-9,
          1.554001554001554e-9,
          3.178639542275906e-9,
          6.357279084551812e-9,
          1.883638247274611e-9,
          8.47637211273575e-9,
          2.825457370911916e-9,
          6.239551694097148e-9,
          7.06364342727979e-10,
          4.591368227731864e-8,
          4.261731534458807e-9,
          4.3205952296861385e-9,
          2.1190930281839374e-9,
          4.473640837277201e-9,
          7.06364342727979e-10,
          6.4750064750064744e-9,
          4.709095618186527e-10,
          1.4362741635468909e-8,
          2.2368204186386006e-10,
          2.7077299804572533e-10,
          1.0595465140919687e-9,
          1.589319771137953e-9
         ]
        },
        {
         "box": {
          "visible": true
         },
         "legendgroup": "Anã Branca",
         "marker": {
          "line": {
           "color": "black",
           "width": 0.5
          }
         },
         "name": "Anã Branca",
         "points": "all",
         "type": "violin",
         "x": [
          2,
          2,
          2,
          2,
          2,
          2,
          2,
          2,
          2,
          2,
          2,
          2,
          2,
          2,
          2,
          2,
          2,
          2,
          2,
          2,
          2,
          2,
          2,
          2,
          2,
          2,
          2,
          2,
          2,
          2,
          2,
          2,
          2,
          2,
          2,
          2,
          2,
          2,
          2,
          2
         ],
         "y": [
          1.6481834663652845e-10,
          1.7659108568199478e-9,
          1.8365472910927457e-9,
          1.5775470320924867e-9,
          1.2832285559558287e-9,
          1.3891832073650257e-9,
          1.4362741635468907e-9,
          1.6481834663652846e-9,
          1.3067740340467615e-9,
          1.4715923806832898e-9,
          1.036001036001036e-9,
          1.295001295001295e-10,
          8.358644722281086e-10,
          3.296366932730569e-10,
          7.887735160462434e-10,
          9.65364601728238e-10,
          1.5304560759106213e-9,
          6.945916036825128e-10,
          1.8718655082291446e-9,
          1.554001554001554e-9,
          1.1537284264556991e-9,
          1.295001295001295e-9,
          3.414094323185232e-10,
          2.1190930281839375e-10,
          8.711826893645075e-10,
          9.182736455463728e-10,
          5.297732570459843e-10,
          7.887735160462434e-10,
          6.592733865461138e-10,
          1.7659108568199476e-10,
          9.418191236373056e-11,
          9.535918626827717e-10,
          1.0006828188646371e-10,
          1.530456075910621e-8,
          5.886369522733159e-10,
          2.0013656377292742e-10,
          1.6481834663652845e-10,
          5.768642132278496e-10,
          6.592733865461139e-8,
          1.295001295001295e-10
         ]
        },
        {
         "box": {
          "visible": true
         },
         "legendgroup": "Sequência Principal",
         "marker": {
          "line": {
           "color": "black",
           "width": 0.5
          }
         },
         "name": "Sequência Principal",
         "points": "all",
         "type": "violin",
         "x": [
          3,
          3,
          3,
          3,
          3,
          3,
          3,
          3,
          3,
          3,
          3,
          3,
          3,
          3,
          3,
          3,
          3,
          3,
          3,
          3,
          3,
          3,
          3,
          3,
          3,
          3,
          3,
          3,
          3,
          3,
          3,
          3,
          3,
          3,
          3,
          3,
          3,
          3,
          3,
          3
         ],
         "y": [
          0.000044736408372772006,
          9.641873278236914e-7,
          0.2213274940547668,
          0.0012855831037649219,
          0.0011749193567375386,
          0.01707047161592616,
          0.01976642885733795,
          0.017094017094017096,
          0.005556732829460102,
          0.2388688752325116,
          0.014657060111605566,
          0.0006498551953097408,
          0.0009276918367827459,
          0.007944244307880672,
          0.23333568788114242,
          0.2046102046102046,
          0.00003414094323185232,
          0.2331002331002331,
          0.0000015975606884697794,
          0.0015045560500105955,
          0.0000016835016835016833,
          0.0008111417202326293,
          0.2401638765275129,
          0.03395257940712486,
          0.0013373831555649738,
          0.00008711826893645076,
          9.535918626827719e-7,
          0.000010242282969555697,
          0.000010889783617056345,
          0.0010395328577146759,
          0.000009324009324009324,
          7.41682559864378e-7,
          0.0007911280638553366,
          0.000001589319771137953,
          0.000052977325704598435,
          1.0006828188646371e-7,
          1.8012290739563467e-7,
          6.945916036825127e-7,
          0.012855831037649219,
          4.2028678392314753e-7
         ]
        },
        {
         "box": {
          "visible": true
         },
         "legendgroup": "Supergigantes",
         "marker": {
          "line": {
           "color": "black",
           "width": 0.5
          }
         },
         "name": "Supergigantes",
         "points": "all",
         "type": "violin",
         "x": [
          4,
          4,
          4,
          4,
          4,
          4,
          4,
          4,
          4,
          4,
          4,
          4,
          4,
          4,
          4,
          4,
          4,
          4,
          4,
          4,
          4,
          4,
          4,
          4,
          4,
          4,
          4,
          4,
          4,
          4,
          4,
          4,
          4,
          4,
          4,
          4,
          4,
          4,
          4,
          4
         ],
         "y": [
          0.23545478090932637,
          0.1448046902592357,
          0.3767276494549222,
          0.3296366932730569,
          0.2295684113865932,
          0.17659108568199477,
          0.4002731275458548,
          0.23545478090932637,
          0.49977631795813615,
          0.28254573709119163,
          0.2331002331002331,
          0.391467118739846,
          0.40373431282522193,
          0.6327023145204963,
          0.2904687904687905,
          0.2646276282639919,
          0.6991829719102446,
          0.9229003319912411,
          0.4144004144004144,
          0.16717289444562172,
          0.21661839843658026,
          0.42735042735042733,
          0.27195027195027194,
          0.13185467730922276,
          0.14951378587742223,
          0.9571236843964117,
          0.2875962421416967,
          0.4094794094794095,
          0.8816486543759271,
          0.21661839843658026,
          0.17894563349108802,
          0.15422288149560875,
          0.281368463186645,
          0.2884321066139248,
          0.5321278048550776,
          0.2954957500412046,
          0.2625320807138989,
          0.40368722186904005,
          0.2766593675684585,
          0.259000259000259
         ]
        },
        {
         "box": {
          "visible": true
         },
         "legendgroup": "Hipergigantes",
         "marker": {
          "line": {
           "color": "black",
           "width": 0.5
          }
         },
         "name": "Hipergigantes",
         "points": "all",
         "type": "violin",
         "x": [
          5,
          5,
          5,
          5,
          5,
          5,
          5,
          5,
          5,
          5,
          5,
          5,
          5,
          5,
          5,
          5,
          5,
          5,
          5,
          5,
          5,
          5,
          5,
          5,
          5,
          5,
          5,
          5,
          5,
          5,
          5,
          5,
          5,
          5,
          5,
          5,
          5,
          5,
          5,
          5
         ],
         "y": [
          0.6327764827764828,
          0.981895881895882,
          0.441277577641214,
          0.8811777448141085,
          1,
          0.7633797179251725,
          0.32119563937745754,
          0.4508876645240282,
          0.23545478090932637,
          0.14127286854559581,
          0.3178639542275906,
          0.3331685149866968,
          0.32021850203668384,
          0.6475006475006475,
          0.3649549104094559,
          0.30962303689576415,
          0.42735042735042733,
          0.20484565939111393,
          0.24605024605024606,
          0.2295684113865932,
          0.11772739045466318,
          0.14833651197287562,
          0.23545478090932637,
          0.2925407925407925,
          0.13774104683195593,
          0.1707047161592616,
          0.33199124108215017,
          0.08711826893645075,
          0.26959572414117866,
          0.4767252949071131,
          0.3767276494549222,
          0.1624637988274352,
          0.741682559864378,
          0.37201855383673565,
          0.28254573709119163,
          0.1707047161592616,
          0.23545478090932637,
          0.2001365637729274,
          0.1554001554001554,
          0.3471816062725154
         ]
        }
       ],
       "layout": {
        "height": 600,
        "template": {
         "data": {
          "bar": [
           {
            "error_x": {
             "color": "#2a3f5f"
            },
            "error_y": {
             "color": "#2a3f5f"
            },
            "marker": {
             "line": {
              "color": "#E5ECF6",
              "width": 0.5
             },
             "pattern": {
              "fillmode": "overlay",
              "size": 10,
              "solidity": 0.2
             }
            },
            "type": "bar"
           }
          ],
          "barpolar": [
           {
            "marker": {
             "line": {
              "color": "#E5ECF6",
              "width": 0.5
             },
             "pattern": {
              "fillmode": "overlay",
              "size": 10,
              "solidity": 0.2
             }
            },
            "type": "barpolar"
           }
          ],
          "carpet": [
           {
            "aaxis": {
             "endlinecolor": "#2a3f5f",
             "gridcolor": "white",
             "linecolor": "white",
             "minorgridcolor": "white",
             "startlinecolor": "#2a3f5f"
            },
            "baxis": {
             "endlinecolor": "#2a3f5f",
             "gridcolor": "white",
             "linecolor": "white",
             "minorgridcolor": "white",
             "startlinecolor": "#2a3f5f"
            },
            "type": "carpet"
           }
          ],
          "choropleth": [
           {
            "colorbar": {
             "outlinewidth": 0,
             "ticks": ""
            },
            "type": "choropleth"
           }
          ],
          "contour": [
           {
            "colorbar": {
             "outlinewidth": 0,
             "ticks": ""
            },
            "colorscale": [
             [
              0,
              "#0d0887"
             ],
             [
              0.1111111111111111,
              "#46039f"
             ],
             [
              0.2222222222222222,
              "#7201a8"
             ],
             [
              0.3333333333333333,
              "#9c179e"
             ],
             [
              0.4444444444444444,
              "#bd3786"
             ],
             [
              0.5555555555555556,
              "#d8576b"
             ],
             [
              0.6666666666666666,
              "#ed7953"
             ],
             [
              0.7777777777777778,
              "#fb9f3a"
             ],
             [
              0.8888888888888888,
              "#fdca26"
             ],
             [
              1,
              "#f0f921"
             ]
            ],
            "type": "contour"
           }
          ],
          "contourcarpet": [
           {
            "colorbar": {
             "outlinewidth": 0,
             "ticks": ""
            },
            "type": "contourcarpet"
           }
          ],
          "heatmap": [
           {
            "colorbar": {
             "outlinewidth": 0,
             "ticks": ""
            },
            "colorscale": [
             [
              0,
              "#0d0887"
             ],
             [
              0.1111111111111111,
              "#46039f"
             ],
             [
              0.2222222222222222,
              "#7201a8"
             ],
             [
              0.3333333333333333,
              "#9c179e"
             ],
             [
              0.4444444444444444,
              "#bd3786"
             ],
             [
              0.5555555555555556,
              "#d8576b"
             ],
             [
              0.6666666666666666,
              "#ed7953"
             ],
             [
              0.7777777777777778,
              "#fb9f3a"
             ],
             [
              0.8888888888888888,
              "#fdca26"
             ],
             [
              1,
              "#f0f921"
             ]
            ],
            "type": "heatmap"
           }
          ],
          "heatmapgl": [
           {
            "colorbar": {
             "outlinewidth": 0,
             "ticks": ""
            },
            "colorscale": [
             [
              0,
              "#0d0887"
             ],
             [
              0.1111111111111111,
              "#46039f"
             ],
             [
              0.2222222222222222,
              "#7201a8"
             ],
             [
              0.3333333333333333,
              "#9c179e"
             ],
             [
              0.4444444444444444,
              "#bd3786"
             ],
             [
              0.5555555555555556,
              "#d8576b"
             ],
             [
              0.6666666666666666,
              "#ed7953"
             ],
             [
              0.7777777777777778,
              "#fb9f3a"
             ],
             [
              0.8888888888888888,
              "#fdca26"
             ],
             [
              1,
              "#f0f921"
             ]
            ],
            "type": "heatmapgl"
           }
          ],
          "histogram": [
           {
            "marker": {
             "pattern": {
              "fillmode": "overlay",
              "size": 10,
              "solidity": 0.2
             }
            },
            "type": "histogram"
           }
          ],
          "histogram2d": [
           {
            "colorbar": {
             "outlinewidth": 0,
             "ticks": ""
            },
            "colorscale": [
             [
              0,
              "#0d0887"
             ],
             [
              0.1111111111111111,
              "#46039f"
             ],
             [
              0.2222222222222222,
              "#7201a8"
             ],
             [
              0.3333333333333333,
              "#9c179e"
             ],
             [
              0.4444444444444444,
              "#bd3786"
             ],
             [
              0.5555555555555556,
              "#d8576b"
             ],
             [
              0.6666666666666666,
              "#ed7953"
             ],
             [
              0.7777777777777778,
              "#fb9f3a"
             ],
             [
              0.8888888888888888,
              "#fdca26"
             ],
             [
              1,
              "#f0f921"
             ]
            ],
            "type": "histogram2d"
           }
          ],
          "histogram2dcontour": [
           {
            "colorbar": {
             "outlinewidth": 0,
             "ticks": ""
            },
            "colorscale": [
             [
              0,
              "#0d0887"
             ],
             [
              0.1111111111111111,
              "#46039f"
             ],
             [
              0.2222222222222222,
              "#7201a8"
             ],
             [
              0.3333333333333333,
              "#9c179e"
             ],
             [
              0.4444444444444444,
              "#bd3786"
             ],
             [
              0.5555555555555556,
              "#d8576b"
             ],
             [
              0.6666666666666666,
              "#ed7953"
             ],
             [
              0.7777777777777778,
              "#fb9f3a"
             ],
             [
              0.8888888888888888,
              "#fdca26"
             ],
             [
              1,
              "#f0f921"
             ]
            ],
            "type": "histogram2dcontour"
           }
          ],
          "mesh3d": [
           {
            "colorbar": {
             "outlinewidth": 0,
             "ticks": ""
            },
            "type": "mesh3d"
           }
          ],
          "parcoords": [
           {
            "line": {
             "colorbar": {
              "outlinewidth": 0,
              "ticks": ""
             }
            },
            "type": "parcoords"
           }
          ],
          "pie": [
           {
            "automargin": true,
            "type": "pie"
           }
          ],
          "scatter": [
           {
            "fillpattern": {
             "fillmode": "overlay",
             "size": 10,
             "solidity": 0.2
            },
            "type": "scatter"
           }
          ],
          "scatter3d": [
           {
            "line": {
             "colorbar": {
              "outlinewidth": 0,
              "ticks": ""
             }
            },
            "marker": {
             "colorbar": {
              "outlinewidth": 0,
              "ticks": ""
             }
            },
            "type": "scatter3d"
           }
          ],
          "scattercarpet": [
           {
            "marker": {
             "colorbar": {
              "outlinewidth": 0,
              "ticks": ""
             }
            },
            "type": "scattercarpet"
           }
          ],
          "scattergeo": [
           {
            "marker": {
             "colorbar": {
              "outlinewidth": 0,
              "ticks": ""
             }
            },
            "type": "scattergeo"
           }
          ],
          "scattergl": [
           {
            "marker": {
             "colorbar": {
              "outlinewidth": 0,
              "ticks": ""
             }
            },
            "type": "scattergl"
           }
          ],
          "scattermapbox": [
           {
            "marker": {
             "colorbar": {
              "outlinewidth": 0,
              "ticks": ""
             }
            },
            "type": "scattermapbox"
           }
          ],
          "scatterpolar": [
           {
            "marker": {
             "colorbar": {
              "outlinewidth": 0,
              "ticks": ""
             }
            },
            "type": "scatterpolar"
           }
          ],
          "scatterpolargl": [
           {
            "marker": {
             "colorbar": {
              "outlinewidth": 0,
              "ticks": ""
             }
            },
            "type": "scatterpolargl"
           }
          ],
          "scatterternary": [
           {
            "marker": {
             "colorbar": {
              "outlinewidth": 0,
              "ticks": ""
             }
            },
            "type": "scatterternary"
           }
          ],
          "surface": [
           {
            "colorbar": {
             "outlinewidth": 0,
             "ticks": ""
            },
            "colorscale": [
             [
              0,
              "#0d0887"
             ],
             [
              0.1111111111111111,
              "#46039f"
             ],
             [
              0.2222222222222222,
              "#7201a8"
             ],
             [
              0.3333333333333333,
              "#9c179e"
             ],
             [
              0.4444444444444444,
              "#bd3786"
             ],
             [
              0.5555555555555556,
              "#d8576b"
             ],
             [
              0.6666666666666666,
              "#ed7953"
             ],
             [
              0.7777777777777778,
              "#fb9f3a"
             ],
             [
              0.8888888888888888,
              "#fdca26"
             ],
             [
              1,
              "#f0f921"
             ]
            ],
            "type": "surface"
           }
          ],
          "table": [
           {
            "cells": {
             "fill": {
              "color": "#EBF0F8"
             },
             "line": {
              "color": "white"
             }
            },
            "header": {
             "fill": {
              "color": "#C8D4E3"
             },
             "line": {
              "color": "white"
             }
            },
            "type": "table"
           }
          ]
         },
         "layout": {
          "annotationdefaults": {
           "arrowcolor": "#2a3f5f",
           "arrowhead": 0,
           "arrowwidth": 1
          },
          "autotypenumbers": "strict",
          "coloraxis": {
           "colorbar": {
            "outlinewidth": 0,
            "ticks": ""
           }
          },
          "colorscale": {
           "diverging": [
            [
             0,
             "#8e0152"
            ],
            [
             0.1,
             "#c51b7d"
            ],
            [
             0.2,
             "#de77ae"
            ],
            [
             0.3,
             "#f1b6da"
            ],
            [
             0.4,
             "#fde0ef"
            ],
            [
             0.5,
             "#f7f7f7"
            ],
            [
             0.6,
             "#e6f5d0"
            ],
            [
             0.7,
             "#b8e186"
            ],
            [
             0.8,
             "#7fbc41"
            ],
            [
             0.9,
             "#4d9221"
            ],
            [
             1,
             "#276419"
            ]
           ],
           "sequential": [
            [
             0,
             "#0d0887"
            ],
            [
             0.1111111111111111,
             "#46039f"
            ],
            [
             0.2222222222222222,
             "#7201a8"
            ],
            [
             0.3333333333333333,
             "#9c179e"
            ],
            [
             0.4444444444444444,
             "#bd3786"
            ],
            [
             0.5555555555555556,
             "#d8576b"
            ],
            [
             0.6666666666666666,
             "#ed7953"
            ],
            [
             0.7777777777777778,
             "#fb9f3a"
            ],
            [
             0.8888888888888888,
             "#fdca26"
            ],
            [
             1,
             "#f0f921"
            ]
           ],
           "sequentialminus": [
            [
             0,
             "#0d0887"
            ],
            [
             0.1111111111111111,
             "#46039f"
            ],
            [
             0.2222222222222222,
             "#7201a8"
            ],
            [
             0.3333333333333333,
             "#9c179e"
            ],
            [
             0.4444444444444444,
             "#bd3786"
            ],
            [
             0.5555555555555556,
             "#d8576b"
            ],
            [
             0.6666666666666666,
             "#ed7953"
            ],
            [
             0.7777777777777778,
             "#fb9f3a"
            ],
            [
             0.8888888888888888,
             "#fdca26"
            ],
            [
             1,
             "#f0f921"
            ]
           ]
          },
          "colorway": [
           "#636efa",
           "#EF553B",
           "#00cc96",
           "#ab63fa",
           "#FFA15A",
           "#19d3f3",
           "#FF6692",
           "#B6E880",
           "#FF97FF",
           "#FECB52"
          ],
          "font": {
           "color": "#2a3f5f"
          },
          "geo": {
           "bgcolor": "white",
           "lakecolor": "white",
           "landcolor": "#E5ECF6",
           "showlakes": true,
           "showland": true,
           "subunitcolor": "white"
          },
          "hoverlabel": {
           "align": "left"
          },
          "hovermode": "closest",
          "mapbox": {
           "style": "light"
          },
          "paper_bgcolor": "white",
          "plot_bgcolor": "#E5ECF6",
          "polar": {
           "angularaxis": {
            "gridcolor": "white",
            "linecolor": "white",
            "ticks": ""
           },
           "bgcolor": "#E5ECF6",
           "radialaxis": {
            "gridcolor": "white",
            "linecolor": "white",
            "ticks": ""
           }
          },
          "scene": {
           "xaxis": {
            "backgroundcolor": "#E5ECF6",
            "gridcolor": "white",
            "gridwidth": 2,
            "linecolor": "white",
            "showbackground": true,
            "ticks": "",
            "zerolinecolor": "white"
           },
           "yaxis": {
            "backgroundcolor": "#E5ECF6",
            "gridcolor": "white",
            "gridwidth": 2,
            "linecolor": "white",
            "showbackground": true,
            "ticks": "",
            "zerolinecolor": "white"
           },
           "zaxis": {
            "backgroundcolor": "#E5ECF6",
            "gridcolor": "white",
            "gridwidth": 2,
            "linecolor": "white",
            "showbackground": true,
            "ticks": "",
            "zerolinecolor": "white"
           }
          },
          "shapedefaults": {
           "line": {
            "color": "#2a3f5f"
           }
          },
          "ternary": {
           "aaxis": {
            "gridcolor": "white",
            "linecolor": "white",
            "ticks": ""
           },
           "baxis": {
            "gridcolor": "white",
            "linecolor": "white",
            "ticks": ""
           },
           "bgcolor": "#E5ECF6",
           "caxis": {
            "gridcolor": "white",
            "linecolor": "white",
            "ticks": ""
           }
          },
          "title": {
           "x": 0.05
          },
          "xaxis": {
           "automargin": true,
           "gridcolor": "white",
           "linecolor": "white",
           "ticks": "",
           "title": {
            "standoff": 15
           },
           "zerolinecolor": "white",
           "zerolinewidth": 2
          },
          "yaxis": {
           "automargin": true,
           "gridcolor": "white",
           "linecolor": "white",
           "ticks": "",
           "title": {
            "standoff": 15
           },
           "zerolinecolor": "white",
           "zerolinewidth": 2
          }
         }
        },
        "title": {
         "text": "Gráfico comparativo de L entre tipos de estrelas"
        },
        "width": 1000,
        "xaxis": {
         "title": {
          "text": "Classes"
         }
        },
        "yaxis": {
         "title": {
          "text": "L"
         }
        }
       }
      }
     },
     "metadata": {},
     "output_type": "display_data"
    },
    {
     "data": {
      "application/vnd.plotly.v1+json": {
       "config": {
        "plotlyServerURL": "https://plot.ly"
       },
       "data": [
        {
         "box": {
          "visible": true
         },
         "legendgroup": "Anão Vermelho",
         "marker": {
          "line": {
           "color": "black",
           "width": 0.5
          }
         },
         "name": "Anão Vermelho",
         "points": "all",
         "type": "violin",
         "x": [
          0,
          0,
          0,
          0,
          0,
          0,
          0,
          0,
          0,
          0,
          0,
          0,
          0,
          0,
          0,
          0,
          0,
          0,
          0,
          0,
          0,
          0,
          0,
          0,
          0,
          0,
          0,
          0,
          0,
          0,
          0,
          0,
          0,
          0,
          0,
          0,
          0,
          0,
          0,
          0
         ],
         "y": [
          0.00008724659994867848,
          0.00005748011290736464,
          0.00005121888632281242,
          0.00004993584808827303,
          0.000039671542211957916,
          0.00005065434949961509,
          0.00006466512702078523,
          0.00005953297408262767,
          0.000046959199384141645,
          0.00004613805491403644,
          0.0000401334359763921,
          0.00006620477290223248,
          0.000043931229150628685,
          0.000029253271747498076,
          0.00009751090582499359,
          0.000048242237618681035,
          0.00004711316397228638,
          0.00005953297408262767,
          0.00006774441878367975,
          0.00004772902232486528,
          0.000046753913266615345,
          0.00006055940467025917,
          0.00006158583525789069,
          0.000046805234795996925,
          0.000047831665383628434,
          0.00006107261996407492,
          0.00005008981267641776,
          0.00008211444701052092,
          0.00006517834231460097,
          0.00005234795996920708,
          0.00005645368231973313,
          0.000047831665383628434,
          0.00005594046702591737,
          0.00007913779830638954,
          0.00004926866820631255,
          0.00005645368231973313,
          0.00006671798819604824,
          0.00006209905055170643,
          0.00005286117526302283,
          0.00005645368231973313
         ]
        },
        {
         "box": {
          "visible": true
         },
         "legendgroup": "Anã Marrom ",
         "marker": {
          "line": {
           "color": "black",
           "width": 0.5
          }
         },
         "name": "Anã Marrom ",
         "points": "all",
         "type": "violin",
         "x": [
          1,
          1,
          1,
          1,
          1,
          1,
          1,
          1,
          1,
          1,
          1,
          1,
          1,
          1,
          1,
          1,
          1,
          1,
          1,
          1,
          1,
          1,
          1,
          1,
          1,
          1,
          1,
          1,
          1,
          1,
          1,
          1,
          1,
          1,
          1,
          1,
          1,
          1,
          1,
          1
         ],
         "y": [
          0.0002617397998460354,
          0.00017449319989735695,
          0.00013138311521683347,
          0.0002874005645368232,
          0.00034642032332563515,
          0.00014010777521170133,
          0.00019502181164998719,
          0.00009237875288683602,
          0.00017962535283551448,
          0.0001493456505003849,
          0.00017962535283551448,
          0.00012317167051578137,
          0.000157557095201437,
          0.00012317167051578137,
          0.00037464716448550164,
          0.00015909674108288428,
          0.00017449319989735695,
          0.00024172440338722092,
          0.00017244033872209393,
          0.00013240954580446496,
          0.00034385424685655635,
          0.00016371567872722607,
          0.00019399538106235566,
          0.0001437002822684116,
          0.00023607903515524762,
          0.00007595586348473184,
          0.00005029509879394406,
          0.00018013856812933024,
          0.00010094944829355916,
          0.00024121118809340518,
          0.00008211444701052092,
          0.00012317167051578137,
          0.0000718501411342058,
          0.000201693610469592,
          0.00010059019758788812,
          0.00019302027200410573,
          0.0002525019245573518,
          0.00019502181164998719,
          0.00031819348216576856,
          0.00008262766230433667
         ]
        },
        {
         "box": {
          "visible": true
         },
         "legendgroup": "Anã Branca",
         "marker": {
          "line": {
           "color": "black",
           "width": 0.5
          }
         },
         "name": "Anã Branca",
         "points": "all",
         "type": "violin",
         "x": [
          2,
          2,
          2,
          2,
          2,
          2,
          2,
          2,
          2,
          2,
          2,
          2,
          2,
          2,
          2,
          2,
          2,
          2,
          2,
          2,
          2,
          2,
          2,
          2,
          2,
          2,
          2,
          2,
          2,
          2,
          2,
          2,
          2,
          2,
          2,
          2,
          2,
          2,
          2,
          2
         ],
         "y": [
          0.000004506030279702335,
          0.000005748011290736464,
          0.000007287657172183731,
          0.000006363869643315371,
          0.000005953297408262766,
          0.000005799332820118039,
          0.000005850654349499616,
          0.000006209905055170644,
          0.0000054400821144470106,
          0.0000051218886322812415,
          0.000005111624326404927,
          0.000004577880420836541,
          0.000004849884526558892,
          0.000004511162432640493,
          0.000004608673338465486,
          0.000004988452655889145,
          0.000004793430844239158,
          0.000005034642032332563,
          0.000006517834231460097,
          0.0000053374390556838595,
          0.000007698229407236336,
          0.0000067231203489864,
          0.000006158583525789069,
          0.000004577880420836541,
          0.000004464973056197074,
          0.000004721580703104952,
          0.0000055940467025917376,
          0.000004567616114960226,
          0.000004875545291249679,
          0.000005645368231973313,
          0.000006671798819604824,
          0.00000497818835001283,
          0.000005050038491147036,
          0.00000718501411342058,
          0.000005132152938157557,
          0.000005645368231973313,
          0.000004721580703104952,
          0.000006333076725686426,
          0.000004311008468052348,
          0.000006569155760841673
         ]
        },
        {
         "box": {
          "visible": true
         },
         "legendgroup": "Sequência Principal",
         "marker": {
          "line": {
           "color": "black",
           "width": 0.5
          }
         },
         "name": "Sequência Principal",
         "points": "all",
         "type": "violin",
         "x": [
          3,
          3,
          3,
          3,
          3,
          3,
          3,
          3,
          3,
          3,
          3,
          3,
          3,
          3,
          3,
          3,
          3,
          3,
          3,
          3,
          3,
          3,
          3,
          3,
          3,
          3,
          3,
          3,
          3,
          3,
          3,
          3,
          3,
          3,
          3,
          3,
          3,
          3,
          3,
          3
         ],
         "y": [
          0.0012763664357197846,
          0.0005080831408775981,
          0.003089556068770849,
          0.0029484218629715164,
          0.003187066974595843,
          0.0030382345393892736,
          0.003284577880420837,
          0.0028175519630484988,
          0.0034795996920708237,
          0.003520656915576084,
          0.0032640492686682064,
          0.0030053887605850653,
          0.0030751860405440084,
          0.003407749550936618,
          0.003279445727482679,
          0.0032009237875288686,
          0.0009802412111880935,
          0.005234795996920708,
          0.0005676161149602259,
          0.002915062868873492,
          0.0005748011290736464,
          0.0035976392096484476,
          0.005440082114447011,
          0.003233256351039261,
          0.003695150115473441,
          0.001483192199127534,
          0.00046189376443418013,
          0.0009237875288683603,
          0.0009905055170644085,
          0.002901206055940467,
          0.0006877084937131127,
          0.000449576597382602,
          0.003582242750833975,
          0.0005029509879394406,
          0.0013497562227354374,
          0.0004080061585835258,
          0.0004439312291506287,
          0.0004670259173723377,
          0.003094688221709007,
          0.0005799332820118039
         ]
        },
        {
         "box": {
          "visible": true
         },
         "legendgroup": "Supergigantes",
         "marker": {
          "line": {
           "color": "black",
           "width": 0.5
          }
         },
         "name": "Supergigantes",
         "points": "all",
         "type": "violin",
         "x": [
          4,
          4,
          4,
          4,
          4,
          4,
          4,
          4,
          4,
          4,
          4,
          4,
          4,
          4,
          4,
          4,
          4,
          4,
          4,
          4,
          4,
          4,
          4,
          4,
          4,
          4,
          4,
          4,
          4,
          4,
          4,
          4,
          4,
          4,
          4,
          4,
          4,
          4,
          4,
          4
         ],
         "y": [
          0.04567616114960226,
          0.023094688221709007,
          0.014883243520656916,
          0.012830382345393894,
          0.008724659994867847,
          0.0451629458557865,
          0.01180395175776238,
          0.009751090582499358,
          0.012317167051578136,
          0.006158583525789068,
          0.020015396458814474,
          0.03900436232999743,
          0.05029509879394406,
          0.04157043879907621,
          0.03181934821657685,
          0.02360790351552476,
          0.041057223505260455,
          0.012830382345393894,
          0.034385424685655634,
          0.029253271747498075,
          0.018475750577367205,
          0.03233256351039261,
          0.02155504234026174,
          0.006158583525789068,
          0.018475750577367205,
          0.00718501411342058,
          0.01796253528355145,
          0.04413651526815499,
          0.04721580703104952,
          0.04311008468052348,
          0.037464716448550164,
          0.012317167051578136,
          0.01796253528355145,
          0.049781883500128306,
          0.042596869386707724,
          0.018475750577367205,
          0.029253271747498075,
          0.015396458814472672,
          0.042596869386707724,
          0.01334359763920965
         ]
        },
        {
         "box": {
          "visible": true
         },
         "legendgroup": "Hipergigantes",
         "marker": {
          "line": {
           "color": "black",
           "width": 0.5
          }
         },
         "name": "Hipergigantes",
         "points": "all",
         "type": "violin",
         "x": [
          5,
          5,
          5,
          5,
          5,
          5,
          5,
          5,
          5,
          5,
          5,
          5,
          5,
          5,
          5,
          5,
          5,
          5,
          5,
          5,
          5,
          5,
          5,
          5,
          5,
          5,
          5,
          5,
          5,
          5,
          5,
          5,
          5,
          5,
          5,
          5,
          5,
          5,
          5,
          5
         ],
         "y": [
          0.7303053630998204,
          0.6127790608160123,
          0.6959199384141648,
          0.5799332820118039,
          0.6425455478573261,
          1,
          0.6959199384141648,
          0.766743648960739,
          0.6794970490120605,
          0.3638183217859892,
          0.7800872465999487,
          0.6466512702078522,
          0.607133692584039,
          0.8457788042083654,
          0.6794970490120605,
          0.6923274313574544,
          0.8586091865537593,
          0.6589684372594303,
          0.4901206055940467,
          0.7934308442391583,
          0.6615345137285091,
          0.5768539902489094,
          0.8391070053887606,
          0.5822427508339748,
          0.762637926610213,
          0.6794970490120605,
          0.7872722607133693,
          0.44957659738260203,
          0.7528868360277137,
          0.5706954067231204,
          0.7595586348473184,
          0.7287657172183731,
          0.6748781113677188,
          0.8616884783166538,
          0.6107261996407493,
          0.7970233512958687,
          0.5363099820374647,
          0.9130100076982294,
          0.7811136771875802,
          0.9150628688734924
         ]
        }
       ],
       "layout": {
        "height": 600,
        "template": {
         "data": {
          "bar": [
           {
            "error_x": {
             "color": "#2a3f5f"
            },
            "error_y": {
             "color": "#2a3f5f"
            },
            "marker": {
             "line": {
              "color": "#E5ECF6",
              "width": 0.5
             },
             "pattern": {
              "fillmode": "overlay",
              "size": 10,
              "solidity": 0.2
             }
            },
            "type": "bar"
           }
          ],
          "barpolar": [
           {
            "marker": {
             "line": {
              "color": "#E5ECF6",
              "width": 0.5
             },
             "pattern": {
              "fillmode": "overlay",
              "size": 10,
              "solidity": 0.2
             }
            },
            "type": "barpolar"
           }
          ],
          "carpet": [
           {
            "aaxis": {
             "endlinecolor": "#2a3f5f",
             "gridcolor": "white",
             "linecolor": "white",
             "minorgridcolor": "white",
             "startlinecolor": "#2a3f5f"
            },
            "baxis": {
             "endlinecolor": "#2a3f5f",
             "gridcolor": "white",
             "linecolor": "white",
             "minorgridcolor": "white",
             "startlinecolor": "#2a3f5f"
            },
            "type": "carpet"
           }
          ],
          "choropleth": [
           {
            "colorbar": {
             "outlinewidth": 0,
             "ticks": ""
            },
            "type": "choropleth"
           }
          ],
          "contour": [
           {
            "colorbar": {
             "outlinewidth": 0,
             "ticks": ""
            },
            "colorscale": [
             [
              0,
              "#0d0887"
             ],
             [
              0.1111111111111111,
              "#46039f"
             ],
             [
              0.2222222222222222,
              "#7201a8"
             ],
             [
              0.3333333333333333,
              "#9c179e"
             ],
             [
              0.4444444444444444,
              "#bd3786"
             ],
             [
              0.5555555555555556,
              "#d8576b"
             ],
             [
              0.6666666666666666,
              "#ed7953"
             ],
             [
              0.7777777777777778,
              "#fb9f3a"
             ],
             [
              0.8888888888888888,
              "#fdca26"
             ],
             [
              1,
              "#f0f921"
             ]
            ],
            "type": "contour"
           }
          ],
          "contourcarpet": [
           {
            "colorbar": {
             "outlinewidth": 0,
             "ticks": ""
            },
            "type": "contourcarpet"
           }
          ],
          "heatmap": [
           {
            "colorbar": {
             "outlinewidth": 0,
             "ticks": ""
            },
            "colorscale": [
             [
              0,
              "#0d0887"
             ],
             [
              0.1111111111111111,
              "#46039f"
             ],
             [
              0.2222222222222222,
              "#7201a8"
             ],
             [
              0.3333333333333333,
              "#9c179e"
             ],
             [
              0.4444444444444444,
              "#bd3786"
             ],
             [
              0.5555555555555556,
              "#d8576b"
             ],
             [
              0.6666666666666666,
              "#ed7953"
             ],
             [
              0.7777777777777778,
              "#fb9f3a"
             ],
             [
              0.8888888888888888,
              "#fdca26"
             ],
             [
              1,
              "#f0f921"
             ]
            ],
            "type": "heatmap"
           }
          ],
          "heatmapgl": [
           {
            "colorbar": {
             "outlinewidth": 0,
             "ticks": ""
            },
            "colorscale": [
             [
              0,
              "#0d0887"
             ],
             [
              0.1111111111111111,
              "#46039f"
             ],
             [
              0.2222222222222222,
              "#7201a8"
             ],
             [
              0.3333333333333333,
              "#9c179e"
             ],
             [
              0.4444444444444444,
              "#bd3786"
             ],
             [
              0.5555555555555556,
              "#d8576b"
             ],
             [
              0.6666666666666666,
              "#ed7953"
             ],
             [
              0.7777777777777778,
              "#fb9f3a"
             ],
             [
              0.8888888888888888,
              "#fdca26"
             ],
             [
              1,
              "#f0f921"
             ]
            ],
            "type": "heatmapgl"
           }
          ],
          "histogram": [
           {
            "marker": {
             "pattern": {
              "fillmode": "overlay",
              "size": 10,
              "solidity": 0.2
             }
            },
            "type": "histogram"
           }
          ],
          "histogram2d": [
           {
            "colorbar": {
             "outlinewidth": 0,
             "ticks": ""
            },
            "colorscale": [
             [
              0,
              "#0d0887"
             ],
             [
              0.1111111111111111,
              "#46039f"
             ],
             [
              0.2222222222222222,
              "#7201a8"
             ],
             [
              0.3333333333333333,
              "#9c179e"
             ],
             [
              0.4444444444444444,
              "#bd3786"
             ],
             [
              0.5555555555555556,
              "#d8576b"
             ],
             [
              0.6666666666666666,
              "#ed7953"
             ],
             [
              0.7777777777777778,
              "#fb9f3a"
             ],
             [
              0.8888888888888888,
              "#fdca26"
             ],
             [
              1,
              "#f0f921"
             ]
            ],
            "type": "histogram2d"
           }
          ],
          "histogram2dcontour": [
           {
            "colorbar": {
             "outlinewidth": 0,
             "ticks": ""
            },
            "colorscale": [
             [
              0,
              "#0d0887"
             ],
             [
              0.1111111111111111,
              "#46039f"
             ],
             [
              0.2222222222222222,
              "#7201a8"
             ],
             [
              0.3333333333333333,
              "#9c179e"
             ],
             [
              0.4444444444444444,
              "#bd3786"
             ],
             [
              0.5555555555555556,
              "#d8576b"
             ],
             [
              0.6666666666666666,
              "#ed7953"
             ],
             [
              0.7777777777777778,
              "#fb9f3a"
             ],
             [
              0.8888888888888888,
              "#fdca26"
             ],
             [
              1,
              "#f0f921"
             ]
            ],
            "type": "histogram2dcontour"
           }
          ],
          "mesh3d": [
           {
            "colorbar": {
             "outlinewidth": 0,
             "ticks": ""
            },
            "type": "mesh3d"
           }
          ],
          "parcoords": [
           {
            "line": {
             "colorbar": {
              "outlinewidth": 0,
              "ticks": ""
             }
            },
            "type": "parcoords"
           }
          ],
          "pie": [
           {
            "automargin": true,
            "type": "pie"
           }
          ],
          "scatter": [
           {
            "fillpattern": {
             "fillmode": "overlay",
             "size": 10,
             "solidity": 0.2
            },
            "type": "scatter"
           }
          ],
          "scatter3d": [
           {
            "line": {
             "colorbar": {
              "outlinewidth": 0,
              "ticks": ""
             }
            },
            "marker": {
             "colorbar": {
              "outlinewidth": 0,
              "ticks": ""
             }
            },
            "type": "scatter3d"
           }
          ],
          "scattercarpet": [
           {
            "marker": {
             "colorbar": {
              "outlinewidth": 0,
              "ticks": ""
             }
            },
            "type": "scattercarpet"
           }
          ],
          "scattergeo": [
           {
            "marker": {
             "colorbar": {
              "outlinewidth": 0,
              "ticks": ""
             }
            },
            "type": "scattergeo"
           }
          ],
          "scattergl": [
           {
            "marker": {
             "colorbar": {
              "outlinewidth": 0,
              "ticks": ""
             }
            },
            "type": "scattergl"
           }
          ],
          "scattermapbox": [
           {
            "marker": {
             "colorbar": {
              "outlinewidth": 0,
              "ticks": ""
             }
            },
            "type": "scattermapbox"
           }
          ],
          "scatterpolar": [
           {
            "marker": {
             "colorbar": {
              "outlinewidth": 0,
              "ticks": ""
             }
            },
            "type": "scatterpolar"
           }
          ],
          "scatterpolargl": [
           {
            "marker": {
             "colorbar": {
              "outlinewidth": 0,
              "ticks": ""
             }
            },
            "type": "scatterpolargl"
           }
          ],
          "scatterternary": [
           {
            "marker": {
             "colorbar": {
              "outlinewidth": 0,
              "ticks": ""
             }
            },
            "type": "scatterternary"
           }
          ],
          "surface": [
           {
            "colorbar": {
             "outlinewidth": 0,
             "ticks": ""
            },
            "colorscale": [
             [
              0,
              "#0d0887"
             ],
             [
              0.1111111111111111,
              "#46039f"
             ],
             [
              0.2222222222222222,
              "#7201a8"
             ],
             [
              0.3333333333333333,
              "#9c179e"
             ],
             [
              0.4444444444444444,
              "#bd3786"
             ],
             [
              0.5555555555555556,
              "#d8576b"
             ],
             [
              0.6666666666666666,
              "#ed7953"
             ],
             [
              0.7777777777777778,
              "#fb9f3a"
             ],
             [
              0.8888888888888888,
              "#fdca26"
             ],
             [
              1,
              "#f0f921"
             ]
            ],
            "type": "surface"
           }
          ],
          "table": [
           {
            "cells": {
             "fill": {
              "color": "#EBF0F8"
             },
             "line": {
              "color": "white"
             }
            },
            "header": {
             "fill": {
              "color": "#C8D4E3"
             },
             "line": {
              "color": "white"
             }
            },
            "type": "table"
           }
          ]
         },
         "layout": {
          "annotationdefaults": {
           "arrowcolor": "#2a3f5f",
           "arrowhead": 0,
           "arrowwidth": 1
          },
          "autotypenumbers": "strict",
          "coloraxis": {
           "colorbar": {
            "outlinewidth": 0,
            "ticks": ""
           }
          },
          "colorscale": {
           "diverging": [
            [
             0,
             "#8e0152"
            ],
            [
             0.1,
             "#c51b7d"
            ],
            [
             0.2,
             "#de77ae"
            ],
            [
             0.3,
             "#f1b6da"
            ],
            [
             0.4,
             "#fde0ef"
            ],
            [
             0.5,
             "#f7f7f7"
            ],
            [
             0.6,
             "#e6f5d0"
            ],
            [
             0.7,
             "#b8e186"
            ],
            [
             0.8,
             "#7fbc41"
            ],
            [
             0.9,
             "#4d9221"
            ],
            [
             1,
             "#276419"
            ]
           ],
           "sequential": [
            [
             0,
             "#0d0887"
            ],
            [
             0.1111111111111111,
             "#46039f"
            ],
            [
             0.2222222222222222,
             "#7201a8"
            ],
            [
             0.3333333333333333,
             "#9c179e"
            ],
            [
             0.4444444444444444,
             "#bd3786"
            ],
            [
             0.5555555555555556,
             "#d8576b"
            ],
            [
             0.6666666666666666,
             "#ed7953"
            ],
            [
             0.7777777777777778,
             "#fb9f3a"
            ],
            [
             0.8888888888888888,
             "#fdca26"
            ],
            [
             1,
             "#f0f921"
            ]
           ],
           "sequentialminus": [
            [
             0,
             "#0d0887"
            ],
            [
             0.1111111111111111,
             "#46039f"
            ],
            [
             0.2222222222222222,
             "#7201a8"
            ],
            [
             0.3333333333333333,
             "#9c179e"
            ],
            [
             0.4444444444444444,
             "#bd3786"
            ],
            [
             0.5555555555555556,
             "#d8576b"
            ],
            [
             0.6666666666666666,
             "#ed7953"
            ],
            [
             0.7777777777777778,
             "#fb9f3a"
            ],
            [
             0.8888888888888888,
             "#fdca26"
            ],
            [
             1,
             "#f0f921"
            ]
           ]
          },
          "colorway": [
           "#636efa",
           "#EF553B",
           "#00cc96",
           "#ab63fa",
           "#FFA15A",
           "#19d3f3",
           "#FF6692",
           "#B6E880",
           "#FF97FF",
           "#FECB52"
          ],
          "font": {
           "color": "#2a3f5f"
          },
          "geo": {
           "bgcolor": "white",
           "lakecolor": "white",
           "landcolor": "#E5ECF6",
           "showlakes": true,
           "showland": true,
           "subunitcolor": "white"
          },
          "hoverlabel": {
           "align": "left"
          },
          "hovermode": "closest",
          "mapbox": {
           "style": "light"
          },
          "paper_bgcolor": "white",
          "plot_bgcolor": "#E5ECF6",
          "polar": {
           "angularaxis": {
            "gridcolor": "white",
            "linecolor": "white",
            "ticks": ""
           },
           "bgcolor": "#E5ECF6",
           "radialaxis": {
            "gridcolor": "white",
            "linecolor": "white",
            "ticks": ""
           }
          },
          "scene": {
           "xaxis": {
            "backgroundcolor": "#E5ECF6",
            "gridcolor": "white",
            "gridwidth": 2,
            "linecolor": "white",
            "showbackground": true,
            "ticks": "",
            "zerolinecolor": "white"
           },
           "yaxis": {
            "backgroundcolor": "#E5ECF6",
            "gridcolor": "white",
            "gridwidth": 2,
            "linecolor": "white",
            "showbackground": true,
            "ticks": "",
            "zerolinecolor": "white"
           },
           "zaxis": {
            "backgroundcolor": "#E5ECF6",
            "gridcolor": "white",
            "gridwidth": 2,
            "linecolor": "white",
            "showbackground": true,
            "ticks": "",
            "zerolinecolor": "white"
           }
          },
          "shapedefaults": {
           "line": {
            "color": "#2a3f5f"
           }
          },
          "ternary": {
           "aaxis": {
            "gridcolor": "white",
            "linecolor": "white",
            "ticks": ""
           },
           "baxis": {
            "gridcolor": "white",
            "linecolor": "white",
            "ticks": ""
           },
           "bgcolor": "#E5ECF6",
           "caxis": {
            "gridcolor": "white",
            "linecolor": "white",
            "ticks": ""
           }
          },
          "title": {
           "x": 0.05
          },
          "xaxis": {
           "automargin": true,
           "gridcolor": "white",
           "linecolor": "white",
           "ticks": "",
           "title": {
            "standoff": 15
           },
           "zerolinecolor": "white",
           "zerolinewidth": 2
          },
          "yaxis": {
           "automargin": true,
           "gridcolor": "white",
           "linecolor": "white",
           "ticks": "",
           "title": {
            "standoff": 15
           },
           "zerolinecolor": "white",
           "zerolinewidth": 2
          }
         }
        },
        "title": {
         "text": "Gráfico comparativo de R entre tipos de estrelas"
        },
        "width": 1000,
        "xaxis": {
         "title": {
          "text": "Classes"
         }
        },
        "yaxis": {
         "title": {
          "text": "R"
         }
        }
       }
      }
     },
     "metadata": {},
     "output_type": "display_data"
    },
    {
     "data": {
      "application/vnd.plotly.v1+json": {
       "config": {
        "plotlyServerURL": "https://plot.ly"
       },
       "data": [
        {
         "box": {
          "visible": true
         },
         "legendgroup": "Anão Vermelho",
         "marker": {
          "line": {
           "color": "black",
           "width": 0.5
          }
         },
         "name": "Anão Vermelho",
         "points": "all",
         "type": "violin",
         "x": [
          0,
          0,
          0,
          0,
          0,
          0,
          0,
          0,
          0,
          0,
          0,
          0,
          0,
          0,
          0,
          0,
          0,
          0,
          0,
          0,
          0,
          0,
          0,
          0,
          0,
          0,
          0,
          0,
          0,
          0,
          0,
          0,
          0,
          0,
          0,
          0,
          0,
          0,
          0,
          0
         ],
         "y": [
          0.8035892323030909,
          0.9695912263210369,
          0.8310069790628117,
          0.8439680957128615,
          0.851445663010967,
          0.864406779661017,
          0.8753738783649053,
          0.9167497507477568,
          0.8080757726819542,
          0.8330009970089732,
          0.9750747756729811,
          0.8150548354935195,
          0.9017946161515454,
          0.8090727816550349,
          0.8444666001994019,
          0.8020937188434696,
          0.8454636091724826,
          0.9416749750747757,
          0.853938185443669,
          0.9142572283150548,
          0.8200398803589233,
          0.8668993020937189,
          0.9685942173479561,
          0.8554336989032902,
          0.8414755732801595,
          0.8698903290129611,
          0.9940179461615156,
          0.8300099700897308,
          0.8584247258225324,
          0.9322033898305085,
          0.9980059820538385,
          0.8434695912263211,
          0.8534396809571287,
          0.8275174476570291,
          0.8673978065802592,
          0.8698903290129611,
          0.8000997008973082,
          0.9785643070787637,
          1,
          0.8464606181455634
         ]
        },
        {
         "box": {
          "visible": true
         },
         "legendgroup": "Anã Marrom ",
         "marker": {
          "line": {
           "color": "black",
           "width": 0.5
          }
         },
         "name": "Anã Marrom ",
         "points": "all",
         "type": "violin",
         "x": [
          1,
          1,
          1,
          1,
          1,
          1,
          1,
          1,
          1,
          1,
          1,
          1,
          1,
          1,
          1,
          1,
          1,
          1,
          1,
          1,
          1,
          1,
          1,
          1,
          1,
          1,
          1,
          1,
          1,
          1,
          1,
          1,
          1,
          1,
          1,
          1,
          1,
          1,
          1,
          1
         ],
         "y": [
          0.532901296111665,
          0.6096709870388834,
          0.7143569292123629,
          0.7108673978065803,
          0.7365902293120639,
          0.6131605184446661,
          0.5044865403788634,
          0.6580259222333001,
          0.5952143569292124,
          0.5428713858424726,
          0.5862412761714856,
          0.67098703888335,
          0.5917248255234298,
          0.5697906281156531,
          0.7352941176470589,
          0.5568295114656032,
          0.654037886340977,
          0.6370887337986042,
          0.744765702891326,
          0.7038883349950149,
          0.6813060817547358,
          0.6196410767696909,
          0.640777666999003,
          0.6704885343968096,
          0.5348953140578265,
          0.5717846460618147,
          0.6385842472582254,
          0.5573280159521435,
          0.6744765702891327,
          0.5383848454636092,
          0.7372881355932204,
          0.6515453639082752,
          0.5873379860418744,
          0.5224327018943171,
          0.6585244267198406,
          0.5877367896311066,
          0.5418743768693918,
          0.5154536390827518,
          0.7093718843469592,
          0.6969092721834497
         ]
        },
        {
         "box": {
          "visible": true
         },
         "legendgroup": "Anã Branca",
         "marker": {
          "line": {
           "color": "black",
           "width": 0.5
          }
         },
         "name": "Anã Branca",
         "points": "all",
         "type": "violin",
         "x": [
          2,
          2,
          2,
          2,
          2,
          2,
          2,
          2,
          2,
          2,
          2,
          2,
          2,
          2,
          2,
          2,
          2,
          2,
          2,
          2,
          2,
          2,
          2,
          2,
          2,
          2,
          2,
          2,
          2,
          2,
          2,
          2,
          2,
          2,
          2,
          2,
          2,
          2,
          2,
          2
         ],
         "y": [
          0.7382851445663011,
          0.5742771684945165,
          0.5653040877367896,
          0.5593220338983051,
          0.6430707876370888,
          0.6096709870388834,
          0.5942173479561317,
          0.6415752741774676,
          0.5812562313060818,
          0.5792622133599202,
          0.5598205383848455,
          0.6425722831505484,
          0.6395812562313061,
          0.7412761714855434,
          0.5672981056829512,
          0.5942173479561317,
          0.6370887337986042,
          0.6814556331006979,
          0.5259222333000998,
          0.5074775672981057,
          0.6206380857427717,
          0.5653040877367896,
          0.7023928215353938,
          0.6465603190428715,
          0.557826520438684,
          0.6046859421734796,
          0.6969092721834497,
          0.6066799601196411,
          0.6869391824526421,
          0.627617148554337,
          0.7018943170488535,
          0.707876370887338,
          0.6096709870388834,
          0.5927218344965105,
          0.7228315054835494,
          0.7093718843469592,
          0.5992023928215354,
          0.6989032901296112,
          0.5274177467597209,
          0.7213359920239283
         ]
        },
        {
         "box": {
          "visible": true
         },
         "legendgroup": "Sequência Principal",
         "marker": {
          "line": {
           "color": "black",
           "width": 0.5
          }
         },
         "name": "Sequência Principal",
         "points": "all",
         "type": "violin",
         "x": [
          3,
          3,
          3,
          3,
          3,
          3,
          3,
          3,
          3,
          3,
          3,
          3,
          3,
          3,
          3,
          3,
          3,
          3,
          3,
          3,
          3,
          3,
          3,
          3,
          3,
          3,
          3,
          3,
          3,
          3,
          3,
          3,
          3,
          3,
          3,
          3,
          3,
          3,
          3,
          3
         ],
         "y": [
          0.005982053838484547,
          0.2507477567298106,
          -0.19990029910269191,
          -0.1016949152542373,
          -0.06879361914257229,
          -0.1984047856430708,
          -0.20388833499501496,
          -0.18943170488534397,
          -0.16949152542372883,
          -0.22731804586241275,
          -0.18295114656031905,
          0.0006480558325024925,
          -0.005982053838484547,
          -0.1271186440677966,
          -0.22781655034895318,
          -0.2173479561316052,
          0.06161515453639083,
          -0.21934197407776673,
          0.22233300099700898,
          -0.16550348953140578,
          0.12013958125623132,
          0.0009970089730807579,
          -0.2342971086739781,
          -0.20937188434695914,
          -0.09820538384845465,
          0.007976071784646063,
          0.25174476570289134,
          0.12063808574277168,
          -0.04885343968095713,
          -0.13160518444666003,
          0.12163509471585245,
          0.2333000997008973,
          -0.11465603190428714,
          0.14606181455633102,
          0.07228315054835494,
          0.31046859421734796,
          0.3243270189431705,
          0.273678963110668,
          -0.1535393818544367,
          0.23828514456630112
         ]
        },
        {
         "box": {
          "visible": true
         },
         "legendgroup": "Supergigantes",
         "marker": {
          "line": {
           "color": "black",
           "width": 0.5
          }
         },
         "name": "Supergigantes",
         "points": "all",
         "type": "violin",
         "x": [
          4,
          4,
          4,
          4,
          4,
          4,
          4,
          4,
          4,
          4,
          4,
          4,
          4,
          4,
          4,
          4,
          4,
          4,
          4,
          4,
          4,
          4,
          4,
          4,
          4,
          4,
          4,
          4,
          4,
          4,
          4,
          4,
          4,
          4,
          4,
          4,
          4,
          4,
          4,
          4
         ],
         "y": [
          -0.26121635094715856,
          -0.3379860418743769,
          -0.32901296111665007,
          -0.29910269192422734,
          -0.35992023928215355,
          -0.3000997008973081,
          -0.30907278165503493,
          -0.34546360917248253,
          -0.29860418743768696,
          -0.3240279162512463,
          -0.2906281156530409,
          -0.34995014955134596,
          -0.3479561316051845,
          -0.2978564307078764,
          -0.3165503489531406,
          -0.3713858424725823,
          -0.36201395812562315,
          -0.3102691924227318,
          -0.28863409770687937,
          -0.31106679960119643,
          -0.31605184446660023,
          -0.2906281156530409,
          -0.3050847457627119,
          -0.2946161515453639,
          -0.28713858424725824,
          -0.31056829511465606,
          -0.31256231306081755,
          -0.29436689930209375,
          -0.36620139581256234,
          -0.33599202392821537,
          -0.2836490528414756,
          -0.35992023928215355,
          -0.3659022931206381,
          -0.3305084745762712,
          -0.28015952143569295,
          -0.31131605184446665,
          -0.2951146560319043,
          -0.30358923230309076,
          -0.34346959122632104,
          -0.30408773678963114
         ]
        },
        {
         "box": {
          "visible": true
         },
         "legendgroup": "Hipergigantes",
         "marker": {
          "line": {
           "color": "black",
           "width": 0.5
          }
         },
         "name": "Hipergigantes",
         "points": "all",
         "type": "violin",
         "x": [
          5,
          5,
          5,
          5,
          5,
          5,
          5,
          5,
          5,
          5,
          5,
          5,
          5,
          5,
          5,
          5,
          5,
          5,
          5,
          5,
          5,
          5,
          5,
          5,
          5,
          5,
          5,
          5,
          5,
          5,
          5,
          5,
          5,
          5,
          5,
          5,
          5,
          5,
          5,
          5
         ],
         "y": [
          -0.5348953140578265,
          -0.5299102691924228,
          -0.4950149551345962,
          -0.3823529411764706,
          -0.37836490528414757,
          -0.5403788634097707,
          -0.46311066799601197,
          -0.44067796610169496,
          -0.5333998005982054,
          -0.39082751744765704,
          -0.4685942173479562,
          -0.38035892323030907,
          -0.45862412761714855,
          -0.40129611166500506,
          -0.38833499501495516,
          -0.5857427716849452,
          -0.5942173479561317,
          -0.5623130608175474,
          -0.5603190428713859,
          -0.5663010967098704,
          -0.5333998005982054,
          -0.5388833499501496,
          -0.5648055832502493,
          -0.41076769690927223,
          -0.5443668993020937,
          -0.5498504486540379,
          -0.5677966101694916,
          -0.5109670987038883,
          -0.5019940179461616,
          -0.5598205383848455,
          -0.3778664007976072,
          -0.4077766699900299,
          -0.45862412761714855,
          -0.4536390827517448,
          -0.3933200398803589,
          -0.3843469591226321,
          -0.41375872382851453,
          -0.49351944167497513,
          -0.5413758723828515,
          -0.38883349950149554
         ]
        }
       ],
       "layout": {
        "height": 600,
        "template": {
         "data": {
          "bar": [
           {
            "error_x": {
             "color": "#2a3f5f"
            },
            "error_y": {
             "color": "#2a3f5f"
            },
            "marker": {
             "line": {
              "color": "#E5ECF6",
              "width": 0.5
             },
             "pattern": {
              "fillmode": "overlay",
              "size": 10,
              "solidity": 0.2
             }
            },
            "type": "bar"
           }
          ],
          "barpolar": [
           {
            "marker": {
             "line": {
              "color": "#E5ECF6",
              "width": 0.5
             },
             "pattern": {
              "fillmode": "overlay",
              "size": 10,
              "solidity": 0.2
             }
            },
            "type": "barpolar"
           }
          ],
          "carpet": [
           {
            "aaxis": {
             "endlinecolor": "#2a3f5f",
             "gridcolor": "white",
             "linecolor": "white",
             "minorgridcolor": "white",
             "startlinecolor": "#2a3f5f"
            },
            "baxis": {
             "endlinecolor": "#2a3f5f",
             "gridcolor": "white",
             "linecolor": "white",
             "minorgridcolor": "white",
             "startlinecolor": "#2a3f5f"
            },
            "type": "carpet"
           }
          ],
          "choropleth": [
           {
            "colorbar": {
             "outlinewidth": 0,
             "ticks": ""
            },
            "type": "choropleth"
           }
          ],
          "contour": [
           {
            "colorbar": {
             "outlinewidth": 0,
             "ticks": ""
            },
            "colorscale": [
             [
              0,
              "#0d0887"
             ],
             [
              0.1111111111111111,
              "#46039f"
             ],
             [
              0.2222222222222222,
              "#7201a8"
             ],
             [
              0.3333333333333333,
              "#9c179e"
             ],
             [
              0.4444444444444444,
              "#bd3786"
             ],
             [
              0.5555555555555556,
              "#d8576b"
             ],
             [
              0.6666666666666666,
              "#ed7953"
             ],
             [
              0.7777777777777778,
              "#fb9f3a"
             ],
             [
              0.8888888888888888,
              "#fdca26"
             ],
             [
              1,
              "#f0f921"
             ]
            ],
            "type": "contour"
           }
          ],
          "contourcarpet": [
           {
            "colorbar": {
             "outlinewidth": 0,
             "ticks": ""
            },
            "type": "contourcarpet"
           }
          ],
          "heatmap": [
           {
            "colorbar": {
             "outlinewidth": 0,
             "ticks": ""
            },
            "colorscale": [
             [
              0,
              "#0d0887"
             ],
             [
              0.1111111111111111,
              "#46039f"
             ],
             [
              0.2222222222222222,
              "#7201a8"
             ],
             [
              0.3333333333333333,
              "#9c179e"
             ],
             [
              0.4444444444444444,
              "#bd3786"
             ],
             [
              0.5555555555555556,
              "#d8576b"
             ],
             [
              0.6666666666666666,
              "#ed7953"
             ],
             [
              0.7777777777777778,
              "#fb9f3a"
             ],
             [
              0.8888888888888888,
              "#fdca26"
             ],
             [
              1,
              "#f0f921"
             ]
            ],
            "type": "heatmap"
           }
          ],
          "heatmapgl": [
           {
            "colorbar": {
             "outlinewidth": 0,
             "ticks": ""
            },
            "colorscale": [
             [
              0,
              "#0d0887"
             ],
             [
              0.1111111111111111,
              "#46039f"
             ],
             [
              0.2222222222222222,
              "#7201a8"
             ],
             [
              0.3333333333333333,
              "#9c179e"
             ],
             [
              0.4444444444444444,
              "#bd3786"
             ],
             [
              0.5555555555555556,
              "#d8576b"
             ],
             [
              0.6666666666666666,
              "#ed7953"
             ],
             [
              0.7777777777777778,
              "#fb9f3a"
             ],
             [
              0.8888888888888888,
              "#fdca26"
             ],
             [
              1,
              "#f0f921"
             ]
            ],
            "type": "heatmapgl"
           }
          ],
          "histogram": [
           {
            "marker": {
             "pattern": {
              "fillmode": "overlay",
              "size": 10,
              "solidity": 0.2
             }
            },
            "type": "histogram"
           }
          ],
          "histogram2d": [
           {
            "colorbar": {
             "outlinewidth": 0,
             "ticks": ""
            },
            "colorscale": [
             [
              0,
              "#0d0887"
             ],
             [
              0.1111111111111111,
              "#46039f"
             ],
             [
              0.2222222222222222,
              "#7201a8"
             ],
             [
              0.3333333333333333,
              "#9c179e"
             ],
             [
              0.4444444444444444,
              "#bd3786"
             ],
             [
              0.5555555555555556,
              "#d8576b"
             ],
             [
              0.6666666666666666,
              "#ed7953"
             ],
             [
              0.7777777777777778,
              "#fb9f3a"
             ],
             [
              0.8888888888888888,
              "#fdca26"
             ],
             [
              1,
              "#f0f921"
             ]
            ],
            "type": "histogram2d"
           }
          ],
          "histogram2dcontour": [
           {
            "colorbar": {
             "outlinewidth": 0,
             "ticks": ""
            },
            "colorscale": [
             [
              0,
              "#0d0887"
             ],
             [
              0.1111111111111111,
              "#46039f"
             ],
             [
              0.2222222222222222,
              "#7201a8"
             ],
             [
              0.3333333333333333,
              "#9c179e"
             ],
             [
              0.4444444444444444,
              "#bd3786"
             ],
             [
              0.5555555555555556,
              "#d8576b"
             ],
             [
              0.6666666666666666,
              "#ed7953"
             ],
             [
              0.7777777777777778,
              "#fb9f3a"
             ],
             [
              0.8888888888888888,
              "#fdca26"
             ],
             [
              1,
              "#f0f921"
             ]
            ],
            "type": "histogram2dcontour"
           }
          ],
          "mesh3d": [
           {
            "colorbar": {
             "outlinewidth": 0,
             "ticks": ""
            },
            "type": "mesh3d"
           }
          ],
          "parcoords": [
           {
            "line": {
             "colorbar": {
              "outlinewidth": 0,
              "ticks": ""
             }
            },
            "type": "parcoords"
           }
          ],
          "pie": [
           {
            "automargin": true,
            "type": "pie"
           }
          ],
          "scatter": [
           {
            "fillpattern": {
             "fillmode": "overlay",
             "size": 10,
             "solidity": 0.2
            },
            "type": "scatter"
           }
          ],
          "scatter3d": [
           {
            "line": {
             "colorbar": {
              "outlinewidth": 0,
              "ticks": ""
             }
            },
            "marker": {
             "colorbar": {
              "outlinewidth": 0,
              "ticks": ""
             }
            },
            "type": "scatter3d"
           }
          ],
          "scattercarpet": [
           {
            "marker": {
             "colorbar": {
              "outlinewidth": 0,
              "ticks": ""
             }
            },
            "type": "scattercarpet"
           }
          ],
          "scattergeo": [
           {
            "marker": {
             "colorbar": {
              "outlinewidth": 0,
              "ticks": ""
             }
            },
            "type": "scattergeo"
           }
          ],
          "scattergl": [
           {
            "marker": {
             "colorbar": {
              "outlinewidth": 0,
              "ticks": ""
             }
            },
            "type": "scattergl"
           }
          ],
          "scattermapbox": [
           {
            "marker": {
             "colorbar": {
              "outlinewidth": 0,
              "ticks": ""
             }
            },
            "type": "scattermapbox"
           }
          ],
          "scatterpolar": [
           {
            "marker": {
             "colorbar": {
              "outlinewidth": 0,
              "ticks": ""
             }
            },
            "type": "scatterpolar"
           }
          ],
          "scatterpolargl": [
           {
            "marker": {
             "colorbar": {
              "outlinewidth": 0,
              "ticks": ""
             }
            },
            "type": "scatterpolargl"
           }
          ],
          "scatterternary": [
           {
            "marker": {
             "colorbar": {
              "outlinewidth": 0,
              "ticks": ""
             }
            },
            "type": "scatterternary"
           }
          ],
          "surface": [
           {
            "colorbar": {
             "outlinewidth": 0,
             "ticks": ""
            },
            "colorscale": [
             [
              0,
              "#0d0887"
             ],
             [
              0.1111111111111111,
              "#46039f"
             ],
             [
              0.2222222222222222,
              "#7201a8"
             ],
             [
              0.3333333333333333,
              "#9c179e"
             ],
             [
              0.4444444444444444,
              "#bd3786"
             ],
             [
              0.5555555555555556,
              "#d8576b"
             ],
             [
              0.6666666666666666,
              "#ed7953"
             ],
             [
              0.7777777777777778,
              "#fb9f3a"
             ],
             [
              0.8888888888888888,
              "#fdca26"
             ],
             [
              1,
              "#f0f921"
             ]
            ],
            "type": "surface"
           }
          ],
          "table": [
           {
            "cells": {
             "fill": {
              "color": "#EBF0F8"
             },
             "line": {
              "color": "white"
             }
            },
            "header": {
             "fill": {
              "color": "#C8D4E3"
             },
             "line": {
              "color": "white"
             }
            },
            "type": "table"
           }
          ]
         },
         "layout": {
          "annotationdefaults": {
           "arrowcolor": "#2a3f5f",
           "arrowhead": 0,
           "arrowwidth": 1
          },
          "autotypenumbers": "strict",
          "coloraxis": {
           "colorbar": {
            "outlinewidth": 0,
            "ticks": ""
           }
          },
          "colorscale": {
           "diverging": [
            [
             0,
             "#8e0152"
            ],
            [
             0.1,
             "#c51b7d"
            ],
            [
             0.2,
             "#de77ae"
            ],
            [
             0.3,
             "#f1b6da"
            ],
            [
             0.4,
             "#fde0ef"
            ],
            [
             0.5,
             "#f7f7f7"
            ],
            [
             0.6,
             "#e6f5d0"
            ],
            [
             0.7,
             "#b8e186"
            ],
            [
             0.8,
             "#7fbc41"
            ],
            [
             0.9,
             "#4d9221"
            ],
            [
             1,
             "#276419"
            ]
           ],
           "sequential": [
            [
             0,
             "#0d0887"
            ],
            [
             0.1111111111111111,
             "#46039f"
            ],
            [
             0.2222222222222222,
             "#7201a8"
            ],
            [
             0.3333333333333333,
             "#9c179e"
            ],
            [
             0.4444444444444444,
             "#bd3786"
            ],
            [
             0.5555555555555556,
             "#d8576b"
            ],
            [
             0.6666666666666666,
             "#ed7953"
            ],
            [
             0.7777777777777778,
             "#fb9f3a"
            ],
            [
             0.8888888888888888,
             "#fdca26"
            ],
            [
             1,
             "#f0f921"
            ]
           ],
           "sequentialminus": [
            [
             0,
             "#0d0887"
            ],
            [
             0.1111111111111111,
             "#46039f"
            ],
            [
             0.2222222222222222,
             "#7201a8"
            ],
            [
             0.3333333333333333,
             "#9c179e"
            ],
            [
             0.4444444444444444,
             "#bd3786"
            ],
            [
             0.5555555555555556,
             "#d8576b"
            ],
            [
             0.6666666666666666,
             "#ed7953"
            ],
            [
             0.7777777777777778,
             "#fb9f3a"
            ],
            [
             0.8888888888888888,
             "#fdca26"
            ],
            [
             1,
             "#f0f921"
            ]
           ]
          },
          "colorway": [
           "#636efa",
           "#EF553B",
           "#00cc96",
           "#ab63fa",
           "#FFA15A",
           "#19d3f3",
           "#FF6692",
           "#B6E880",
           "#FF97FF",
           "#FECB52"
          ],
          "font": {
           "color": "#2a3f5f"
          },
          "geo": {
           "bgcolor": "white",
           "lakecolor": "white",
           "landcolor": "#E5ECF6",
           "showlakes": true,
           "showland": true,
           "subunitcolor": "white"
          },
          "hoverlabel": {
           "align": "left"
          },
          "hovermode": "closest",
          "mapbox": {
           "style": "light"
          },
          "paper_bgcolor": "white",
          "plot_bgcolor": "#E5ECF6",
          "polar": {
           "angularaxis": {
            "gridcolor": "white",
            "linecolor": "white",
            "ticks": ""
           },
           "bgcolor": "#E5ECF6",
           "radialaxis": {
            "gridcolor": "white",
            "linecolor": "white",
            "ticks": ""
           }
          },
          "scene": {
           "xaxis": {
            "backgroundcolor": "#E5ECF6",
            "gridcolor": "white",
            "gridwidth": 2,
            "linecolor": "white",
            "showbackground": true,
            "ticks": "",
            "zerolinecolor": "white"
           },
           "yaxis": {
            "backgroundcolor": "#E5ECF6",
            "gridcolor": "white",
            "gridwidth": 2,
            "linecolor": "white",
            "showbackground": true,
            "ticks": "",
            "zerolinecolor": "white"
           },
           "zaxis": {
            "backgroundcolor": "#E5ECF6",
            "gridcolor": "white",
            "gridwidth": 2,
            "linecolor": "white",
            "showbackground": true,
            "ticks": "",
            "zerolinecolor": "white"
           }
          },
          "shapedefaults": {
           "line": {
            "color": "#2a3f5f"
           }
          },
          "ternary": {
           "aaxis": {
            "gridcolor": "white",
            "linecolor": "white",
            "ticks": ""
           },
           "baxis": {
            "gridcolor": "white",
            "linecolor": "white",
            "ticks": ""
           },
           "bgcolor": "#E5ECF6",
           "caxis": {
            "gridcolor": "white",
            "linecolor": "white",
            "ticks": ""
           }
          },
          "title": {
           "x": 0.05
          },
          "xaxis": {
           "automargin": true,
           "gridcolor": "white",
           "linecolor": "white",
           "ticks": "",
           "title": {
            "standoff": 15
           },
           "zerolinecolor": "white",
           "zerolinewidth": 2
          },
          "yaxis": {
           "automargin": true,
           "gridcolor": "white",
           "linecolor": "white",
           "ticks": "",
           "title": {
            "standoff": 15
           },
           "zerolinecolor": "white",
           "zerolinewidth": 2
          }
         }
        },
        "title": {
         "text": "Gráfico comparativo de A_M entre tipos de estrelas"
        },
        "width": 1000,
        "xaxis": {
         "title": {
          "text": "Classes"
         }
        },
        "yaxis": {
         "title": {
          "text": "A_M"
         }
        }
       }
      }
     },
     "metadata": {},
     "output_type": "display_data"
    },
    {
     "data": {
      "application/vnd.plotly.v1+json": {
       "config": {
        "plotlyServerURL": "https://plot.ly"
       },
       "data": [
        {
         "box": {
          "visible": true
         },
         "legendgroup": "Anão Vermelho",
         "marker": {
          "line": {
           "color": "black",
           "width": 0.5
          }
         },
         "name": "Anão Vermelho",
         "points": "all",
         "type": "violin",
         "x": [
          0,
          0,
          0,
          0,
          0,
          0,
          0,
          0,
          0,
          0,
          0,
          0,
          0,
          0,
          0,
          0,
          0,
          0,
          0,
          0,
          0,
          0,
          0,
          0,
          0,
          0,
          0,
          0,
          0,
          0,
          0,
          0,
          0,
          0,
          0,
          0,
          0,
          0,
          0,
          0
         ],
         "y": [
          0.5,
          0.5,
          0.5,
          0.5,
          0.5,
          0.5,
          0.5,
          0.5,
          0.5,
          0.5,
          0.5,
          0.5,
          0.5,
          0.5,
          0.5,
          0.5,
          0.5,
          0.5,
          0.5,
          0.5,
          0.5,
          0.5,
          0.5,
          0.5,
          0.5,
          0.5,
          0.5,
          0.5,
          0.5,
          0.5,
          0.5,
          0.5,
          0.5,
          0.5,
          0.5,
          0.5,
          0.5,
          0.5,
          0.5,
          0.5
         ]
        },
        {
         "box": {
          "visible": true
         },
         "legendgroup": "Anã Marrom ",
         "marker": {
          "line": {
           "color": "black",
           "width": 0.5
          }
         },
         "name": "Anã Marrom ",
         "points": "all",
         "type": "violin",
         "x": [
          1,
          1,
          1,
          1,
          1,
          1,
          1,
          1,
          1,
          1,
          1,
          1,
          1,
          1,
          1,
          1,
          1,
          1,
          1,
          1,
          1,
          1,
          1,
          1,
          1,
          1,
          1,
          1,
          1,
          1,
          1,
          1,
          1,
          1,
          1,
          1,
          1,
          1,
          1,
          1
         ],
         "y": [
          0.5,
          0.5,
          0.5,
          0.5,
          0.5,
          0.5,
          0.5,
          0.5,
          0.5,
          0.5,
          0.5,
          0.5,
          0.5,
          0.5,
          0.5,
          0.5,
          0.5,
          0.5,
          0.5,
          0.5,
          0.5,
          0.5,
          0.5,
          0.5,
          0.5,
          0.5,
          0.5,
          0.5,
          0.5,
          0.5,
          0.5,
          0.5,
          0.5,
          0.5,
          0.5,
          0.5,
          0.5,
          0.5,
          0.5,
          0.5
         ]
        },
        {
         "box": {
          "visible": true
         },
         "legendgroup": "Anã Branca",
         "marker": {
          "line": {
           "color": "black",
           "width": 0.5
          }
         },
         "name": "Anã Branca",
         "points": "all",
         "type": "violin",
         "x": [
          2,
          2,
          2,
          2,
          2,
          2,
          2,
          2,
          2,
          2,
          2,
          2,
          2,
          2,
          2,
          2,
          2,
          2,
          2,
          2,
          2,
          2,
          2,
          2,
          2,
          2,
          2,
          2,
          2,
          2,
          2,
          2,
          2,
          2,
          2,
          2,
          2,
          2,
          2,
          2
         ],
         "y": [
          0.5625,
          0,
          0,
          0,
          0,
          0,
          0,
          0,
          0,
          0,
          0.0625,
          0.875,
          0.125,
          0.125,
          0.125,
          0.0625,
          0,
          0.0625,
          0,
          0,
          0.0625,
          0,
          0.625,
          0.875,
          0.0625,
          0.0625,
          0.0625,
          0.0625,
          0.875,
          0.8125,
          0.4375,
          0.125,
          0.8125,
          0.0625,
          0.5625,
          0.5625,
          0.5625,
          0.5625,
          0.0625,
          0.8125
         ]
        },
        {
         "box": {
          "visible": true
         },
         "legendgroup": "Sequência Principal",
         "marker": {
          "line": {
           "color": "black",
           "width": 0.5
          }
         },
         "name": "Sequência Principal",
         "points": "all",
         "type": "violin",
         "x": [
          3,
          3,
          3,
          3,
          3,
          3,
          3,
          3,
          3,
          3,
          3,
          3,
          3,
          3,
          3,
          3,
          3,
          3,
          3,
          3,
          3,
          3,
          3,
          3,
          3,
          3,
          3,
          3,
          3,
          3,
          3,
          3,
          3,
          3,
          3,
          3,
          3,
          3,
          3,
          3
         ],
         "y": [
          0.1875,
          0.9375,
          0.25,
          0.25,
          0.25,
          0.25,
          0.25,
          0.25,
          0.25,
          0,
          0.25,
          0.25,
          0.25,
          0.25,
          0,
          0,
          0.25,
          0,
          0.9375,
          0.25,
          0.9375,
          0.25,
          0,
          0.25,
          0.25,
          0.6875,
          0.9375,
          0.6875,
          0.9375,
          0.25,
          0.9375,
          0.375,
          0.25,
          0.9375,
          0.25,
          1,
          1,
          0.9375,
          0.25,
          0.75
         ]
        },
        {
         "box": {
          "visible": true
         },
         "legendgroup": "Supergigantes",
         "marker": {
          "line": {
           "color": "black",
           "width": 0.5
          }
         },
         "name": "Supergigantes",
         "points": "all",
         "type": "violin",
         "x": [
          4,
          4,
          4,
          4,
          4,
          4,
          4,
          4,
          4,
          4,
          4,
          4,
          4,
          4,
          4,
          4,
          4,
          4,
          4,
          4,
          4,
          4,
          4,
          4,
          4,
          4,
          4,
          4,
          4,
          4,
          4,
          4,
          4,
          4,
          4,
          4,
          4,
          4,
          4,
          4
         ],
         "y": [
          0.5,
          0.5,
          0.5,
          0.5,
          0.5,
          0.5,
          0.5,
          0.5,
          0,
          0,
          0,
          0,
          0,
          0,
          0,
          0,
          0,
          0,
          0,
          0,
          0,
          0,
          0,
          0,
          0,
          0,
          0,
          0,
          0,
          0.5,
          0,
          0,
          0,
          0,
          0,
          0,
          0,
          0,
          0,
          0
         ]
        },
        {
         "box": {
          "visible": true
         },
         "legendgroup": "Hipergigantes",
         "marker": {
          "line": {
           "color": "black",
           "width": 0.5
          }
         },
         "name": "Hipergigantes",
         "points": "all",
         "type": "violin",
         "x": [
          5,
          5,
          5,
          5,
          5,
          5,
          5,
          5,
          5,
          5,
          5,
          5,
          5,
          5,
          5,
          5,
          5,
          5,
          5,
          5,
          5,
          5,
          5,
          5,
          5,
          5,
          5,
          5,
          5,
          5,
          5,
          5,
          5,
          5,
          5,
          5,
          5,
          5,
          5,
          5
         ],
         "y": [
          0.5625,
          0,
          0,
          0.25,
          0.25,
          0,
          0,
          0.25,
          0.5,
          0.25,
          0.5,
          0.5,
          0.5,
          0.3125,
          0.5,
          0.5,
          0.5,
          0.5,
          0.5,
          0.5,
          0.5,
          0.5,
          0.5,
          0.25,
          0.5,
          0.5,
          0.5,
          0.5,
          0.5,
          0.5625,
          0.5,
          0.5,
          0.3125,
          0,
          0.5,
          0.5,
          0,
          0.25,
          0.5,
          0
         ]
        }
       ],
       "layout": {
        "height": 600,
        "template": {
         "data": {
          "bar": [
           {
            "error_x": {
             "color": "#2a3f5f"
            },
            "error_y": {
             "color": "#2a3f5f"
            },
            "marker": {
             "line": {
              "color": "#E5ECF6",
              "width": 0.5
             },
             "pattern": {
              "fillmode": "overlay",
              "size": 10,
              "solidity": 0.2
             }
            },
            "type": "bar"
           }
          ],
          "barpolar": [
           {
            "marker": {
             "line": {
              "color": "#E5ECF6",
              "width": 0.5
             },
             "pattern": {
              "fillmode": "overlay",
              "size": 10,
              "solidity": 0.2
             }
            },
            "type": "barpolar"
           }
          ],
          "carpet": [
           {
            "aaxis": {
             "endlinecolor": "#2a3f5f",
             "gridcolor": "white",
             "linecolor": "white",
             "minorgridcolor": "white",
             "startlinecolor": "#2a3f5f"
            },
            "baxis": {
             "endlinecolor": "#2a3f5f",
             "gridcolor": "white",
             "linecolor": "white",
             "minorgridcolor": "white",
             "startlinecolor": "#2a3f5f"
            },
            "type": "carpet"
           }
          ],
          "choropleth": [
           {
            "colorbar": {
             "outlinewidth": 0,
             "ticks": ""
            },
            "type": "choropleth"
           }
          ],
          "contour": [
           {
            "colorbar": {
             "outlinewidth": 0,
             "ticks": ""
            },
            "colorscale": [
             [
              0,
              "#0d0887"
             ],
             [
              0.1111111111111111,
              "#46039f"
             ],
             [
              0.2222222222222222,
              "#7201a8"
             ],
             [
              0.3333333333333333,
              "#9c179e"
             ],
             [
              0.4444444444444444,
              "#bd3786"
             ],
             [
              0.5555555555555556,
              "#d8576b"
             ],
             [
              0.6666666666666666,
              "#ed7953"
             ],
             [
              0.7777777777777778,
              "#fb9f3a"
             ],
             [
              0.8888888888888888,
              "#fdca26"
             ],
             [
              1,
              "#f0f921"
             ]
            ],
            "type": "contour"
           }
          ],
          "contourcarpet": [
           {
            "colorbar": {
             "outlinewidth": 0,
             "ticks": ""
            },
            "type": "contourcarpet"
           }
          ],
          "heatmap": [
           {
            "colorbar": {
             "outlinewidth": 0,
             "ticks": ""
            },
            "colorscale": [
             [
              0,
              "#0d0887"
             ],
             [
              0.1111111111111111,
              "#46039f"
             ],
             [
              0.2222222222222222,
              "#7201a8"
             ],
             [
              0.3333333333333333,
              "#9c179e"
             ],
             [
              0.4444444444444444,
              "#bd3786"
             ],
             [
              0.5555555555555556,
              "#d8576b"
             ],
             [
              0.6666666666666666,
              "#ed7953"
             ],
             [
              0.7777777777777778,
              "#fb9f3a"
             ],
             [
              0.8888888888888888,
              "#fdca26"
             ],
             [
              1,
              "#f0f921"
             ]
            ],
            "type": "heatmap"
           }
          ],
          "heatmapgl": [
           {
            "colorbar": {
             "outlinewidth": 0,
             "ticks": ""
            },
            "colorscale": [
             [
              0,
              "#0d0887"
             ],
             [
              0.1111111111111111,
              "#46039f"
             ],
             [
              0.2222222222222222,
              "#7201a8"
             ],
             [
              0.3333333333333333,
              "#9c179e"
             ],
             [
              0.4444444444444444,
              "#bd3786"
             ],
             [
              0.5555555555555556,
              "#d8576b"
             ],
             [
              0.6666666666666666,
              "#ed7953"
             ],
             [
              0.7777777777777778,
              "#fb9f3a"
             ],
             [
              0.8888888888888888,
              "#fdca26"
             ],
             [
              1,
              "#f0f921"
             ]
            ],
            "type": "heatmapgl"
           }
          ],
          "histogram": [
           {
            "marker": {
             "pattern": {
              "fillmode": "overlay",
              "size": 10,
              "solidity": 0.2
             }
            },
            "type": "histogram"
           }
          ],
          "histogram2d": [
           {
            "colorbar": {
             "outlinewidth": 0,
             "ticks": ""
            },
            "colorscale": [
             [
              0,
              "#0d0887"
             ],
             [
              0.1111111111111111,
              "#46039f"
             ],
             [
              0.2222222222222222,
              "#7201a8"
             ],
             [
              0.3333333333333333,
              "#9c179e"
             ],
             [
              0.4444444444444444,
              "#bd3786"
             ],
             [
              0.5555555555555556,
              "#d8576b"
             ],
             [
              0.6666666666666666,
              "#ed7953"
             ],
             [
              0.7777777777777778,
              "#fb9f3a"
             ],
             [
              0.8888888888888888,
              "#fdca26"
             ],
             [
              1,
              "#f0f921"
             ]
            ],
            "type": "histogram2d"
           }
          ],
          "histogram2dcontour": [
           {
            "colorbar": {
             "outlinewidth": 0,
             "ticks": ""
            },
            "colorscale": [
             [
              0,
              "#0d0887"
             ],
             [
              0.1111111111111111,
              "#46039f"
             ],
             [
              0.2222222222222222,
              "#7201a8"
             ],
             [
              0.3333333333333333,
              "#9c179e"
             ],
             [
              0.4444444444444444,
              "#bd3786"
             ],
             [
              0.5555555555555556,
              "#d8576b"
             ],
             [
              0.6666666666666666,
              "#ed7953"
             ],
             [
              0.7777777777777778,
              "#fb9f3a"
             ],
             [
              0.8888888888888888,
              "#fdca26"
             ],
             [
              1,
              "#f0f921"
             ]
            ],
            "type": "histogram2dcontour"
           }
          ],
          "mesh3d": [
           {
            "colorbar": {
             "outlinewidth": 0,
             "ticks": ""
            },
            "type": "mesh3d"
           }
          ],
          "parcoords": [
           {
            "line": {
             "colorbar": {
              "outlinewidth": 0,
              "ticks": ""
             }
            },
            "type": "parcoords"
           }
          ],
          "pie": [
           {
            "automargin": true,
            "type": "pie"
           }
          ],
          "scatter": [
           {
            "fillpattern": {
             "fillmode": "overlay",
             "size": 10,
             "solidity": 0.2
            },
            "type": "scatter"
           }
          ],
          "scatter3d": [
           {
            "line": {
             "colorbar": {
              "outlinewidth": 0,
              "ticks": ""
             }
            },
            "marker": {
             "colorbar": {
              "outlinewidth": 0,
              "ticks": ""
             }
            },
            "type": "scatter3d"
           }
          ],
          "scattercarpet": [
           {
            "marker": {
             "colorbar": {
              "outlinewidth": 0,
              "ticks": ""
             }
            },
            "type": "scattercarpet"
           }
          ],
          "scattergeo": [
           {
            "marker": {
             "colorbar": {
              "outlinewidth": 0,
              "ticks": ""
             }
            },
            "type": "scattergeo"
           }
          ],
          "scattergl": [
           {
            "marker": {
             "colorbar": {
              "outlinewidth": 0,
              "ticks": ""
             }
            },
            "type": "scattergl"
           }
          ],
          "scattermapbox": [
           {
            "marker": {
             "colorbar": {
              "outlinewidth": 0,
              "ticks": ""
             }
            },
            "type": "scattermapbox"
           }
          ],
          "scatterpolar": [
           {
            "marker": {
             "colorbar": {
              "outlinewidth": 0,
              "ticks": ""
             }
            },
            "type": "scatterpolar"
           }
          ],
          "scatterpolargl": [
           {
            "marker": {
             "colorbar": {
              "outlinewidth": 0,
              "ticks": ""
             }
            },
            "type": "scatterpolargl"
           }
          ],
          "scatterternary": [
           {
            "marker": {
             "colorbar": {
              "outlinewidth": 0,
              "ticks": ""
             }
            },
            "type": "scatterternary"
           }
          ],
          "surface": [
           {
            "colorbar": {
             "outlinewidth": 0,
             "ticks": ""
            },
            "colorscale": [
             [
              0,
              "#0d0887"
             ],
             [
              0.1111111111111111,
              "#46039f"
             ],
             [
              0.2222222222222222,
              "#7201a8"
             ],
             [
              0.3333333333333333,
              "#9c179e"
             ],
             [
              0.4444444444444444,
              "#bd3786"
             ],
             [
              0.5555555555555556,
              "#d8576b"
             ],
             [
              0.6666666666666666,
              "#ed7953"
             ],
             [
              0.7777777777777778,
              "#fb9f3a"
             ],
             [
              0.8888888888888888,
              "#fdca26"
             ],
             [
              1,
              "#f0f921"
             ]
            ],
            "type": "surface"
           }
          ],
          "table": [
           {
            "cells": {
             "fill": {
              "color": "#EBF0F8"
             },
             "line": {
              "color": "white"
             }
            },
            "header": {
             "fill": {
              "color": "#C8D4E3"
             },
             "line": {
              "color": "white"
             }
            },
            "type": "table"
           }
          ]
         },
         "layout": {
          "annotationdefaults": {
           "arrowcolor": "#2a3f5f",
           "arrowhead": 0,
           "arrowwidth": 1
          },
          "autotypenumbers": "strict",
          "coloraxis": {
           "colorbar": {
            "outlinewidth": 0,
            "ticks": ""
           }
          },
          "colorscale": {
           "diverging": [
            [
             0,
             "#8e0152"
            ],
            [
             0.1,
             "#c51b7d"
            ],
            [
             0.2,
             "#de77ae"
            ],
            [
             0.3,
             "#f1b6da"
            ],
            [
             0.4,
             "#fde0ef"
            ],
            [
             0.5,
             "#f7f7f7"
            ],
            [
             0.6,
             "#e6f5d0"
            ],
            [
             0.7,
             "#b8e186"
            ],
            [
             0.8,
             "#7fbc41"
            ],
            [
             0.9,
             "#4d9221"
            ],
            [
             1,
             "#276419"
            ]
           ],
           "sequential": [
            [
             0,
             "#0d0887"
            ],
            [
             0.1111111111111111,
             "#46039f"
            ],
            [
             0.2222222222222222,
             "#7201a8"
            ],
            [
             0.3333333333333333,
             "#9c179e"
            ],
            [
             0.4444444444444444,
             "#bd3786"
            ],
            [
             0.5555555555555556,
             "#d8576b"
            ],
            [
             0.6666666666666666,
             "#ed7953"
            ],
            [
             0.7777777777777778,
             "#fb9f3a"
            ],
            [
             0.8888888888888888,
             "#fdca26"
            ],
            [
             1,
             "#f0f921"
            ]
           ],
           "sequentialminus": [
            [
             0,
             "#0d0887"
            ],
            [
             0.1111111111111111,
             "#46039f"
            ],
            [
             0.2222222222222222,
             "#7201a8"
            ],
            [
             0.3333333333333333,
             "#9c179e"
            ],
            [
             0.4444444444444444,
             "#bd3786"
            ],
            [
             0.5555555555555556,
             "#d8576b"
            ],
            [
             0.6666666666666666,
             "#ed7953"
            ],
            [
             0.7777777777777778,
             "#fb9f3a"
            ],
            [
             0.8888888888888888,
             "#fdca26"
            ],
            [
             1,
             "#f0f921"
            ]
           ]
          },
          "colorway": [
           "#636efa",
           "#EF553B",
           "#00cc96",
           "#ab63fa",
           "#FFA15A",
           "#19d3f3",
           "#FF6692",
           "#B6E880",
           "#FF97FF",
           "#FECB52"
          ],
          "font": {
           "color": "#2a3f5f"
          },
          "geo": {
           "bgcolor": "white",
           "lakecolor": "white",
           "landcolor": "#E5ECF6",
           "showlakes": true,
           "showland": true,
           "subunitcolor": "white"
          },
          "hoverlabel": {
           "align": "left"
          },
          "hovermode": "closest",
          "mapbox": {
           "style": "light"
          },
          "paper_bgcolor": "white",
          "plot_bgcolor": "#E5ECF6",
          "polar": {
           "angularaxis": {
            "gridcolor": "white",
            "linecolor": "white",
            "ticks": ""
           },
           "bgcolor": "#E5ECF6",
           "radialaxis": {
            "gridcolor": "white",
            "linecolor": "white",
            "ticks": ""
           }
          },
          "scene": {
           "xaxis": {
            "backgroundcolor": "#E5ECF6",
            "gridcolor": "white",
            "gridwidth": 2,
            "linecolor": "white",
            "showbackground": true,
            "ticks": "",
            "zerolinecolor": "white"
           },
           "yaxis": {
            "backgroundcolor": "#E5ECF6",
            "gridcolor": "white",
            "gridwidth": 2,
            "linecolor": "white",
            "showbackground": true,
            "ticks": "",
            "zerolinecolor": "white"
           },
           "zaxis": {
            "backgroundcolor": "#E5ECF6",
            "gridcolor": "white",
            "gridwidth": 2,
            "linecolor": "white",
            "showbackground": true,
            "ticks": "",
            "zerolinecolor": "white"
           }
          },
          "shapedefaults": {
           "line": {
            "color": "#2a3f5f"
           }
          },
          "ternary": {
           "aaxis": {
            "gridcolor": "white",
            "linecolor": "white",
            "ticks": ""
           },
           "baxis": {
            "gridcolor": "white",
            "linecolor": "white",
            "ticks": ""
           },
           "bgcolor": "#E5ECF6",
           "caxis": {
            "gridcolor": "white",
            "linecolor": "white",
            "ticks": ""
           }
          },
          "title": {
           "x": 0.05
          },
          "xaxis": {
           "automargin": true,
           "gridcolor": "white",
           "linecolor": "white",
           "ticks": "",
           "title": {
            "standoff": 15
           },
           "zerolinecolor": "white",
           "zerolinewidth": 2
          },
          "yaxis": {
           "automargin": true,
           "gridcolor": "white",
           "linecolor": "white",
           "ticks": "",
           "title": {
            "standoff": 15
           },
           "zerolinecolor": "white",
           "zerolinewidth": 2
          }
         }
        },
        "title": {
         "text": "Gráfico comparativo de Color entre tipos de estrelas"
        },
        "width": 1000,
        "xaxis": {
         "title": {
          "text": "Classes"
         }
        },
        "yaxis": {
         "title": {
          "text": "Color"
         }
        }
       }
      }
     },
     "metadata": {},
     "output_type": "display_data"
    },
    {
     "data": {
      "application/vnd.plotly.v1+json": {
       "config": {
        "plotlyServerURL": "https://plot.ly"
       },
       "data": [
        {
         "box": {
          "visible": true
         },
         "legendgroup": "Anão Vermelho",
         "marker": {
          "line": {
           "color": "black",
           "width": 0.5
          }
         },
         "name": "Anão Vermelho",
         "points": "all",
         "type": "violin",
         "x": [
          0,
          0,
          0,
          0,
          0,
          0,
          0,
          0,
          0,
          0,
          0,
          0,
          0,
          0,
          0,
          0,
          0,
          0,
          0,
          0,
          0,
          0,
          0,
          0,
          0,
          0,
          0,
          0,
          0,
          0,
          0,
          0,
          0,
          0,
          0,
          0,
          0,
          0,
          0,
          0
         ],
         "y": [
          0.8333333333333334,
          0.8333333333333334,
          0.8333333333333334,
          0.8333333333333334,
          0.8333333333333334,
          0.8333333333333334,
          0.8333333333333334,
          0.8333333333333334,
          0.8333333333333334,
          0.8333333333333334,
          0.8333333333333334,
          0.8333333333333334,
          0.8333333333333334,
          0.8333333333333334,
          0.8333333333333334,
          0.8333333333333334,
          0.8333333333333334,
          0.8333333333333334,
          0.8333333333333334,
          0.8333333333333334,
          0.8333333333333334,
          0.8333333333333334,
          0.8333333333333334,
          0.8333333333333334,
          0.8333333333333334,
          0.8333333333333334,
          0.8333333333333334,
          0.8333333333333334,
          0.8333333333333334,
          0.8333333333333334,
          0.8333333333333334,
          0.8333333333333334,
          0.8333333333333334,
          0.8333333333333334,
          0.8333333333333334,
          0.8333333333333334,
          0.8333333333333334,
          0.8333333333333334,
          0.8333333333333334,
          0.8333333333333334
         ]
        },
        {
         "box": {
          "visible": true
         },
         "legendgroup": "Anã Marrom ",
         "marker": {
          "line": {
           "color": "black",
           "width": 0.5
          }
         },
         "name": "Anã Marrom ",
         "points": "all",
         "type": "violin",
         "x": [
          1,
          1,
          1,
          1,
          1,
          1,
          1,
          1,
          1,
          1,
          1,
          1,
          1,
          1,
          1,
          1,
          1,
          1,
          1,
          1,
          1,
          1,
          1,
          1,
          1,
          1,
          1,
          1,
          1,
          1,
          1,
          1,
          1,
          1,
          1,
          1,
          1,
          1,
          1,
          1
         ],
         "y": [
          0.8333333333333334,
          0.8333333333333334,
          0.8333333333333334,
          0.8333333333333334,
          0.8333333333333334,
          0.8333333333333334,
          0.8333333333333334,
          0.8333333333333334,
          0.8333333333333334,
          0.8333333333333334,
          0.8333333333333334,
          0.8333333333333334,
          0.8333333333333334,
          0.8333333333333334,
          0.8333333333333334,
          0.8333333333333334,
          0.8333333333333334,
          0.8333333333333334,
          0.8333333333333334,
          0.8333333333333334,
          0.8333333333333334,
          0.8333333333333334,
          0.8333333333333334,
          0.8333333333333334,
          0.8333333333333334,
          0.8333333333333334,
          0.8333333333333334,
          0.8333333333333334,
          0.8333333333333334,
          0.8333333333333334,
          0.8333333333333334,
          0.8333333333333334,
          0.8333333333333334,
          0.8333333333333334,
          0.8333333333333334,
          0.8333333333333334,
          0.8333333333333334,
          0.8333333333333334,
          0.8333333333333334,
          0.8333333333333334
         ]
        },
        {
         "box": {
          "visible": true
         },
         "legendgroup": "Anã Branca",
         "marker": {
          "line": {
           "color": "black",
           "width": 0.5
          }
         },
         "name": "Anã Branca",
         "points": "all",
         "type": "violin",
         "x": [
          2,
          2,
          2,
          2,
          2,
          2,
          2,
          2,
          2,
          2,
          2,
          2,
          2,
          2,
          2,
          2,
          2,
          2,
          2,
          2,
          2,
          2,
          2,
          2,
          2,
          2,
          2,
          2,
          2,
          2,
          2,
          2,
          2,
          2,
          2,
          2,
          2,
          2,
          2,
          2
         ],
         "y": [
          0,
          0.16666666666666666,
          0.16666666666666666,
          0.16666666666666666,
          0.16666666666666666,
          0.16666666666666666,
          0.16666666666666666,
          0.16666666666666666,
          0.16666666666666666,
          0.16666666666666666,
          0.16666666666666666,
          0.3333333333333333,
          0.16666666666666666,
          0,
          0.16666666666666666,
          0.16666666666666666,
          0.16666666666666666,
          0.16666666666666666,
          0.16666666666666666,
          0.16666666666666666,
          0.16666666666666666,
          0.16666666666666666,
          0.3333333333333333,
          0.3333333333333333,
          0.16666666666666666,
          0.16666666666666666,
          0,
          0.16666666666666666,
          0,
          0.3333333333333333,
          0.3333333333333333,
          0,
          0.3333333333333333,
          0.16666666666666666,
          0,
          0.3333333333333333,
          0.3333333333333333,
          0,
          0.16666666666666666,
          0.3333333333333333
         ]
        },
        {
         "box": {
          "visible": true
         },
         "legendgroup": "Sequência Principal",
         "marker": {
          "line": {
           "color": "black",
           "width": 0.5
          }
         },
         "name": "Sequência Principal",
         "points": "all",
         "type": "violin",
         "x": [
          3,
          3,
          3,
          3,
          3,
          3,
          3,
          3,
          3,
          3,
          3,
          3,
          3,
          3,
          3,
          3,
          3,
          3,
          3,
          3,
          3,
          3,
          3,
          3,
          3,
          3,
          3,
          3,
          3,
          3,
          3,
          3,
          3,
          3,
          3,
          3,
          3,
          3,
          3,
          3
         ],
         "y": [
          0,
          0.3333333333333333,
          0.16666666666666666,
          0,
          0,
          0.16666666666666666,
          0.16666666666666666,
          0.16666666666666666,
          0.16666666666666666,
          1,
          0.16666666666666666,
          0,
          0,
          0.16666666666666666,
          1,
          1,
          0,
          1,
          0.3333333333333333,
          0.16666666666666666,
          0.3333333333333333,
          0,
          1,
          0.16666666666666666,
          0.16666666666666666,
          0.16666666666666666,
          0.3333333333333333,
          0,
          0.3333333333333333,
          0.16666666666666666,
          0.3333333333333333,
          0.6666666666666666,
          0,
          0.3333333333333333,
          0,
          0.6666666666666666,
          0.6666666666666666,
          0.3333333333333333,
          0.16666666666666666,
          0.6666666666666666
         ]
        },
        {
         "box": {
          "visible": true
         },
         "legendgroup": "Supergigantes",
         "marker": {
          "line": {
           "color": "black",
           "width": 0.5
          }
         },
         "name": "Supergigantes",
         "points": "all",
         "type": "violin",
         "x": [
          4,
          4,
          4,
          4,
          4,
          4,
          4,
          4,
          4,
          4,
          4,
          4,
          4,
          4,
          4,
          4,
          4,
          4,
          4,
          4,
          4,
          4,
          4,
          4,
          4,
          4,
          4,
          4,
          4,
          4,
          4,
          4,
          4,
          4,
          4,
          4,
          4,
          4,
          4,
          4
         ],
         "y": [
          0.8333333333333334,
          0.8333333333333334,
          0.8333333333333334,
          0.8333333333333334,
          0.8333333333333334,
          0.8333333333333334,
          0.8333333333333334,
          0.8333333333333334,
          1,
          0.16666666666666666,
          1,
          1,
          1,
          1,
          1,
          1,
          1,
          1,
          1,
          1,
          1,
          1,
          1,
          1,
          1,
          1,
          1,
          1,
          1,
          0.8333333333333334,
          1,
          1,
          1,
          1,
          1,
          1,
          1,
          1,
          1,
          0.16666666666666666
         ]
        },
        {
         "box": {
          "visible": true
         },
         "legendgroup": "Hipergigantes",
         "marker": {
          "line": {
           "color": "black",
           "width": 0.5
          }
         },
         "name": "Hipergigantes",
         "points": "all",
         "type": "violin",
         "x": [
          5,
          5,
          5,
          5,
          5,
          5,
          5,
          5,
          5,
          5,
          5,
          5,
          5,
          5,
          5,
          5,
          5,
          5,
          5,
          5,
          5,
          5,
          5,
          5,
          5,
          5,
          5,
          5,
          5,
          5,
          5,
          5,
          5,
          5,
          5,
          5,
          5,
          5,
          5,
          5
         ],
         "y": [
          0,
          1,
          1,
          0.16666666666666666,
          0.16666666666666666,
          1,
          1,
          0.16666666666666666,
          0.8333333333333334,
          0.16666666666666666,
          0.8333333333333334,
          0.8333333333333334,
          0.8333333333333334,
          0.8333333333333334,
          0.8333333333333334,
          0.8333333333333334,
          0.8333333333333334,
          0.8333333333333334,
          0.8333333333333334,
          0.8333333333333334,
          0.8333333333333334,
          0.8333333333333334,
          0.8333333333333334,
          0.16666666666666666,
          0.8333333333333334,
          0.8333333333333334,
          0.6666666666666666,
          0.8333333333333334,
          0.5,
          0,
          0.8333333333333334,
          0.8333333333333334,
          0.6666666666666666,
          0.16666666666666666,
          0.8333333333333334,
          0.8333333333333334,
          1,
          0.16666666666666666,
          0.8333333333333334,
          1
         ]
        }
       ],
       "layout": {
        "height": 600,
        "template": {
         "data": {
          "bar": [
           {
            "error_x": {
             "color": "#2a3f5f"
            },
            "error_y": {
             "color": "#2a3f5f"
            },
            "marker": {
             "line": {
              "color": "#E5ECF6",
              "width": 0.5
             },
             "pattern": {
              "fillmode": "overlay",
              "size": 10,
              "solidity": 0.2
             }
            },
            "type": "bar"
           }
          ],
          "barpolar": [
           {
            "marker": {
             "line": {
              "color": "#E5ECF6",
              "width": 0.5
             },
             "pattern": {
              "fillmode": "overlay",
              "size": 10,
              "solidity": 0.2
             }
            },
            "type": "barpolar"
           }
          ],
          "carpet": [
           {
            "aaxis": {
             "endlinecolor": "#2a3f5f",
             "gridcolor": "white",
             "linecolor": "white",
             "minorgridcolor": "white",
             "startlinecolor": "#2a3f5f"
            },
            "baxis": {
             "endlinecolor": "#2a3f5f",
             "gridcolor": "white",
             "linecolor": "white",
             "minorgridcolor": "white",
             "startlinecolor": "#2a3f5f"
            },
            "type": "carpet"
           }
          ],
          "choropleth": [
           {
            "colorbar": {
             "outlinewidth": 0,
             "ticks": ""
            },
            "type": "choropleth"
           }
          ],
          "contour": [
           {
            "colorbar": {
             "outlinewidth": 0,
             "ticks": ""
            },
            "colorscale": [
             [
              0,
              "#0d0887"
             ],
             [
              0.1111111111111111,
              "#46039f"
             ],
             [
              0.2222222222222222,
              "#7201a8"
             ],
             [
              0.3333333333333333,
              "#9c179e"
             ],
             [
              0.4444444444444444,
              "#bd3786"
             ],
             [
              0.5555555555555556,
              "#d8576b"
             ],
             [
              0.6666666666666666,
              "#ed7953"
             ],
             [
              0.7777777777777778,
              "#fb9f3a"
             ],
             [
              0.8888888888888888,
              "#fdca26"
             ],
             [
              1,
              "#f0f921"
             ]
            ],
            "type": "contour"
           }
          ],
          "contourcarpet": [
           {
            "colorbar": {
             "outlinewidth": 0,
             "ticks": ""
            },
            "type": "contourcarpet"
           }
          ],
          "heatmap": [
           {
            "colorbar": {
             "outlinewidth": 0,
             "ticks": ""
            },
            "colorscale": [
             [
              0,
              "#0d0887"
             ],
             [
              0.1111111111111111,
              "#46039f"
             ],
             [
              0.2222222222222222,
              "#7201a8"
             ],
             [
              0.3333333333333333,
              "#9c179e"
             ],
             [
              0.4444444444444444,
              "#bd3786"
             ],
             [
              0.5555555555555556,
              "#d8576b"
             ],
             [
              0.6666666666666666,
              "#ed7953"
             ],
             [
              0.7777777777777778,
              "#fb9f3a"
             ],
             [
              0.8888888888888888,
              "#fdca26"
             ],
             [
              1,
              "#f0f921"
             ]
            ],
            "type": "heatmap"
           }
          ],
          "heatmapgl": [
           {
            "colorbar": {
             "outlinewidth": 0,
             "ticks": ""
            },
            "colorscale": [
             [
              0,
              "#0d0887"
             ],
             [
              0.1111111111111111,
              "#46039f"
             ],
             [
              0.2222222222222222,
              "#7201a8"
             ],
             [
              0.3333333333333333,
              "#9c179e"
             ],
             [
              0.4444444444444444,
              "#bd3786"
             ],
             [
              0.5555555555555556,
              "#d8576b"
             ],
             [
              0.6666666666666666,
              "#ed7953"
             ],
             [
              0.7777777777777778,
              "#fb9f3a"
             ],
             [
              0.8888888888888888,
              "#fdca26"
             ],
             [
              1,
              "#f0f921"
             ]
            ],
            "type": "heatmapgl"
           }
          ],
          "histogram": [
           {
            "marker": {
             "pattern": {
              "fillmode": "overlay",
              "size": 10,
              "solidity": 0.2
             }
            },
            "type": "histogram"
           }
          ],
          "histogram2d": [
           {
            "colorbar": {
             "outlinewidth": 0,
             "ticks": ""
            },
            "colorscale": [
             [
              0,
              "#0d0887"
             ],
             [
              0.1111111111111111,
              "#46039f"
             ],
             [
              0.2222222222222222,
              "#7201a8"
             ],
             [
              0.3333333333333333,
              "#9c179e"
             ],
             [
              0.4444444444444444,
              "#bd3786"
             ],
             [
              0.5555555555555556,
              "#d8576b"
             ],
             [
              0.6666666666666666,
              "#ed7953"
             ],
             [
              0.7777777777777778,
              "#fb9f3a"
             ],
             [
              0.8888888888888888,
              "#fdca26"
             ],
             [
              1,
              "#f0f921"
             ]
            ],
            "type": "histogram2d"
           }
          ],
          "histogram2dcontour": [
           {
            "colorbar": {
             "outlinewidth": 0,
             "ticks": ""
            },
            "colorscale": [
             [
              0,
              "#0d0887"
             ],
             [
              0.1111111111111111,
              "#46039f"
             ],
             [
              0.2222222222222222,
              "#7201a8"
             ],
             [
              0.3333333333333333,
              "#9c179e"
             ],
             [
              0.4444444444444444,
              "#bd3786"
             ],
             [
              0.5555555555555556,
              "#d8576b"
             ],
             [
              0.6666666666666666,
              "#ed7953"
             ],
             [
              0.7777777777777778,
              "#fb9f3a"
             ],
             [
              0.8888888888888888,
              "#fdca26"
             ],
             [
              1,
              "#f0f921"
             ]
            ],
            "type": "histogram2dcontour"
           }
          ],
          "mesh3d": [
           {
            "colorbar": {
             "outlinewidth": 0,
             "ticks": ""
            },
            "type": "mesh3d"
           }
          ],
          "parcoords": [
           {
            "line": {
             "colorbar": {
              "outlinewidth": 0,
              "ticks": ""
             }
            },
            "type": "parcoords"
           }
          ],
          "pie": [
           {
            "automargin": true,
            "type": "pie"
           }
          ],
          "scatter": [
           {
            "fillpattern": {
             "fillmode": "overlay",
             "size": 10,
             "solidity": 0.2
            },
            "type": "scatter"
           }
          ],
          "scatter3d": [
           {
            "line": {
             "colorbar": {
              "outlinewidth": 0,
              "ticks": ""
             }
            },
            "marker": {
             "colorbar": {
              "outlinewidth": 0,
              "ticks": ""
             }
            },
            "type": "scatter3d"
           }
          ],
          "scattercarpet": [
           {
            "marker": {
             "colorbar": {
              "outlinewidth": 0,
              "ticks": ""
             }
            },
            "type": "scattercarpet"
           }
          ],
          "scattergeo": [
           {
            "marker": {
             "colorbar": {
              "outlinewidth": 0,
              "ticks": ""
             }
            },
            "type": "scattergeo"
           }
          ],
          "scattergl": [
           {
            "marker": {
             "colorbar": {
              "outlinewidth": 0,
              "ticks": ""
             }
            },
            "type": "scattergl"
           }
          ],
          "scattermapbox": [
           {
            "marker": {
             "colorbar": {
              "outlinewidth": 0,
              "ticks": ""
             }
            },
            "type": "scattermapbox"
           }
          ],
          "scatterpolar": [
           {
            "marker": {
             "colorbar": {
              "outlinewidth": 0,
              "ticks": ""
             }
            },
            "type": "scatterpolar"
           }
          ],
          "scatterpolargl": [
           {
            "marker": {
             "colorbar": {
              "outlinewidth": 0,
              "ticks": ""
             }
            },
            "type": "scatterpolargl"
           }
          ],
          "scatterternary": [
           {
            "marker": {
             "colorbar": {
              "outlinewidth": 0,
              "ticks": ""
             }
            },
            "type": "scatterternary"
           }
          ],
          "surface": [
           {
            "colorbar": {
             "outlinewidth": 0,
             "ticks": ""
            },
            "colorscale": [
             [
              0,
              "#0d0887"
             ],
             [
              0.1111111111111111,
              "#46039f"
             ],
             [
              0.2222222222222222,
              "#7201a8"
             ],
             [
              0.3333333333333333,
              "#9c179e"
             ],
             [
              0.4444444444444444,
              "#bd3786"
             ],
             [
              0.5555555555555556,
              "#d8576b"
             ],
             [
              0.6666666666666666,
              "#ed7953"
             ],
             [
              0.7777777777777778,
              "#fb9f3a"
             ],
             [
              0.8888888888888888,
              "#fdca26"
             ],
             [
              1,
              "#f0f921"
             ]
            ],
            "type": "surface"
           }
          ],
          "table": [
           {
            "cells": {
             "fill": {
              "color": "#EBF0F8"
             },
             "line": {
              "color": "white"
             }
            },
            "header": {
             "fill": {
              "color": "#C8D4E3"
             },
             "line": {
              "color": "white"
             }
            },
            "type": "table"
           }
          ]
         },
         "layout": {
          "annotationdefaults": {
           "arrowcolor": "#2a3f5f",
           "arrowhead": 0,
           "arrowwidth": 1
          },
          "autotypenumbers": "strict",
          "coloraxis": {
           "colorbar": {
            "outlinewidth": 0,
            "ticks": ""
           }
          },
          "colorscale": {
           "diverging": [
            [
             0,
             "#8e0152"
            ],
            [
             0.1,
             "#c51b7d"
            ],
            [
             0.2,
             "#de77ae"
            ],
            [
             0.3,
             "#f1b6da"
            ],
            [
             0.4,
             "#fde0ef"
            ],
            [
             0.5,
             "#f7f7f7"
            ],
            [
             0.6,
             "#e6f5d0"
            ],
            [
             0.7,
             "#b8e186"
            ],
            [
             0.8,
             "#7fbc41"
            ],
            [
             0.9,
             "#4d9221"
            ],
            [
             1,
             "#276419"
            ]
           ],
           "sequential": [
            [
             0,
             "#0d0887"
            ],
            [
             0.1111111111111111,
             "#46039f"
            ],
            [
             0.2222222222222222,
             "#7201a8"
            ],
            [
             0.3333333333333333,
             "#9c179e"
            ],
            [
             0.4444444444444444,
             "#bd3786"
            ],
            [
             0.5555555555555556,
             "#d8576b"
            ],
            [
             0.6666666666666666,
             "#ed7953"
            ],
            [
             0.7777777777777778,
             "#fb9f3a"
            ],
            [
             0.8888888888888888,
             "#fdca26"
            ],
            [
             1,
             "#f0f921"
            ]
           ],
           "sequentialminus": [
            [
             0,
             "#0d0887"
            ],
            [
             0.1111111111111111,
             "#46039f"
            ],
            [
             0.2222222222222222,
             "#7201a8"
            ],
            [
             0.3333333333333333,
             "#9c179e"
            ],
            [
             0.4444444444444444,
             "#bd3786"
            ],
            [
             0.5555555555555556,
             "#d8576b"
            ],
            [
             0.6666666666666666,
             "#ed7953"
            ],
            [
             0.7777777777777778,
             "#fb9f3a"
            ],
            [
             0.8888888888888888,
             "#fdca26"
            ],
            [
             1,
             "#f0f921"
            ]
           ]
          },
          "colorway": [
           "#636efa",
           "#EF553B",
           "#00cc96",
           "#ab63fa",
           "#FFA15A",
           "#19d3f3",
           "#FF6692",
           "#B6E880",
           "#FF97FF",
           "#FECB52"
          ],
          "font": {
           "color": "#2a3f5f"
          },
          "geo": {
           "bgcolor": "white",
           "lakecolor": "white",
           "landcolor": "#E5ECF6",
           "showlakes": true,
           "showland": true,
           "subunitcolor": "white"
          },
          "hoverlabel": {
           "align": "left"
          },
          "hovermode": "closest",
          "mapbox": {
           "style": "light"
          },
          "paper_bgcolor": "white",
          "plot_bgcolor": "#E5ECF6",
          "polar": {
           "angularaxis": {
            "gridcolor": "white",
            "linecolor": "white",
            "ticks": ""
           },
           "bgcolor": "#E5ECF6",
           "radialaxis": {
            "gridcolor": "white",
            "linecolor": "white",
            "ticks": ""
           }
          },
          "scene": {
           "xaxis": {
            "backgroundcolor": "#E5ECF6",
            "gridcolor": "white",
            "gridwidth": 2,
            "linecolor": "white",
            "showbackground": true,
            "ticks": "",
            "zerolinecolor": "white"
           },
           "yaxis": {
            "backgroundcolor": "#E5ECF6",
            "gridcolor": "white",
            "gridwidth": 2,
            "linecolor": "white",
            "showbackground": true,
            "ticks": "",
            "zerolinecolor": "white"
           },
           "zaxis": {
            "backgroundcolor": "#E5ECF6",
            "gridcolor": "white",
            "gridwidth": 2,
            "linecolor": "white",
            "showbackground": true,
            "ticks": "",
            "zerolinecolor": "white"
           }
          },
          "shapedefaults": {
           "line": {
            "color": "#2a3f5f"
           }
          },
          "ternary": {
           "aaxis": {
            "gridcolor": "white",
            "linecolor": "white",
            "ticks": ""
           },
           "baxis": {
            "gridcolor": "white",
            "linecolor": "white",
            "ticks": ""
           },
           "bgcolor": "#E5ECF6",
           "caxis": {
            "gridcolor": "white",
            "linecolor": "white",
            "ticks": ""
           }
          },
          "title": {
           "x": 0.05
          },
          "xaxis": {
           "automargin": true,
           "gridcolor": "white",
           "linecolor": "white",
           "ticks": "",
           "title": {
            "standoff": 15
           },
           "zerolinecolor": "white",
           "zerolinewidth": 2
          },
          "yaxis": {
           "automargin": true,
           "gridcolor": "white",
           "linecolor": "white",
           "ticks": "",
           "title": {
            "standoff": 15
           },
           "zerolinecolor": "white",
           "zerolinewidth": 2
          }
         }
        },
        "title": {
         "text": "Gráfico comparativo de Spectral_Class entre tipos de estrelas"
        },
        "width": 1000,
        "xaxis": {
         "title": {
          "text": "Classes"
         }
        },
        "yaxis": {
         "title": {
          "text": "Spectral_Class"
         }
        }
       }
      }
     },
     "metadata": {},
     "output_type": "display_data"
    }
   ],
   "source": [
    "for column in columns_[:-1]:\n",
    "\n",
    "    fig = go.Figure()\n",
    "\n",
    "    for class_ in range(df['Type'].max()+1):\n",
    "\n",
    "        fig.add_trace(go.Violin(x = df['Type'][df['Type'] == class_], \n",
    "                                y = df[column][df['Type'] == class_], \n",
    "                                name = class_, \n",
    "                                box_visible = True, \n",
    "                                points= 'all'\n",
    "                                ))\n",
    "\n",
    "    fig.update_layout(title = f'Gráfico comparativo de {column} entre tipos de estrelas',\n",
    "                      yaxis_title = column,\n",
    "                      xaxis_title = 'Classes',\n",
    "                      height= 600,\n",
    "                      width= 1000\n",
    "                      \n",
    "                      )\n",
    "\n",
    "    fig.update_traces(marker_line_width = 0.5, \n",
    "                      marker_line_color= \"black\"\n",
    "                      )\n",
    "\n",
    "    fig.for_each_trace(\n",
    "                        lambda t: t.update(\n",
    "                        name= {\"0\":\"Anão Vermelho\", \"1\":\"Anã Marrom \", \"2\":\"Anã Branca\", \"3\":\"Sequência Principal\", \"4\":\"Supergigantes\", \"5\":\"Hipergigantes\"}[t.name],\n",
    "                        legendgroup= {\"0\":\"Anão Vermelho\", \"1\":\"Anã Marrom \", \"2\":\"Anã Branca\", \"3\":\"Sequência Principal\", \"4\":\"Supergigantes\", \"5\":\"Hipergigantes\"}[t.name])\n",
    "                        )\n",
    "    \n",
    "    fig.show()\n",
    "            "
   ]
  },
  {
   "attachments": {},
   "cell_type": "markdown",
   "metadata": {},
   "source": [
    "##### Seguindo a análise, agora das informações por classe, criei a função abaixo que passa por cada uma das classes e retorna - a classe, -todo DF correspondente, - info, - describe. \n",
    "\n",
    "##### Desta forma, realizei a análise individual de cada uma das classes. "
   ]
  },
  {
   "cell_type": "code",
   "execution_count": 18,
   "metadata": {},
   "outputs": [
    {
     "name": "stdout",
     "output_type": "stream",
     "text": [
      "| Classe: 0 |\n"
     ]
    },
    {
     "data": {
      "text/html": [
       "<div>\n",
       "<style scoped>\n",
       "    .dataframe tbody tr th:only-of-type {\n",
       "        vertical-align: middle;\n",
       "    }\n",
       "\n",
       "    .dataframe tbody tr th {\n",
       "        vertical-align: top;\n",
       "    }\n",
       "\n",
       "    .dataframe thead th {\n",
       "        text-align: right;\n",
       "    }\n",
       "</style>\n",
       "<table border=\"1\" class=\"dataframe\">\n",
       "  <thead>\n",
       "    <tr style=\"text-align: right;\">\n",
       "      <th></th>\n",
       "      <th>Temperature</th>\n",
       "      <th>L</th>\n",
       "      <th>R</th>\n",
       "      <th>A_M</th>\n",
       "      <th>Color</th>\n",
       "      <th>Spectral_Class</th>\n",
       "      <th>Type</th>\n",
       "    </tr>\n",
       "  </thead>\n",
       "  <tbody>\n",
       "    <tr>\n",
       "      <th>0</th>\n",
       "      <td>0.076700</td>\n",
       "      <td>2.825457e-09</td>\n",
       "      <td>0.000087</td>\n",
       "      <td>0.803589</td>\n",
       "      <td>0.5</td>\n",
       "      <td>0.833333</td>\n",
       "      <td>0</td>\n",
       "    </tr>\n",
       "    <tr>\n",
       "      <th>188</th>\n",
       "      <td>0.069450</td>\n",
       "      <td>9.995055e-10</td>\n",
       "      <td>0.000057</td>\n",
       "      <td>0.969591</td>\n",
       "      <td>0.5</td>\n",
       "      <td>0.833333</td>\n",
       "      <td>0</td>\n",
       "    </tr>\n",
       "    <tr>\n",
       "      <th>187</th>\n",
       "      <td>0.087100</td>\n",
       "      <td>6.486779e-10</td>\n",
       "      <td>0.000051</td>\n",
       "      <td>0.831007</td>\n",
       "      <td>0.5</td>\n",
       "      <td>0.833333</td>\n",
       "      <td>0</td>\n",
       "    </tr>\n",
       "    <tr>\n",
       "      <th>185</th>\n",
       "      <td>0.072225</td>\n",
       "      <td>4.144004e-10</td>\n",
       "      <td>0.000050</td>\n",
       "      <td>0.843968</td>\n",
       "      <td>0.5</td>\n",
       "      <td>0.833333</td>\n",
       "      <td>0</td>\n",
       "    </tr>\n",
       "    <tr>\n",
       "      <th>184</th>\n",
       "      <td>0.086325</td>\n",
       "      <td>7.310871e-10</td>\n",
       "      <td>0.000040</td>\n",
       "      <td>0.851446</td>\n",
       "      <td>0.5</td>\n",
       "      <td>0.833333</td>\n",
       "      <td>0</td>\n",
       "    </tr>\n",
       "    <tr>\n",
       "      <th>183</th>\n",
       "      <td>0.080450</td>\n",
       "      <td>5.321278e-10</td>\n",
       "      <td>0.000051</td>\n",
       "      <td>0.864407</td>\n",
       "      <td>0.5</td>\n",
       "      <td>0.833333</td>\n",
       "      <td>0</td>\n",
       "    </tr>\n",
       "    <tr>\n",
       "      <th>182</th>\n",
       "      <td>0.085475</td>\n",
       "      <td>2.884321e-10</td>\n",
       "      <td>0.000065</td>\n",
       "      <td>0.875374</td>\n",
       "      <td>0.5</td>\n",
       "      <td>0.833333</td>\n",
       "      <td>0</td>\n",
       "    </tr>\n",
       "    <tr>\n",
       "      <th>181</th>\n",
       "      <td>0.072850</td>\n",
       "      <td>7.428598e-10</td>\n",
       "      <td>0.000060</td>\n",
       "      <td>0.916750</td>\n",
       "      <td>0.5</td>\n",
       "      <td>0.833333</td>\n",
       "      <td>0</td>\n",
       "    </tr>\n",
       "    <tr>\n",
       "      <th>180</th>\n",
       "      <td>0.070775</td>\n",
       "      <td>2.719503e-10</td>\n",
       "      <td>0.000047</td>\n",
       "      <td>0.808076</td>\n",
       "      <td>0.5</td>\n",
       "      <td>0.833333</td>\n",
       "      <td>0</td>\n",
       "    </tr>\n",
       "    <tr>\n",
       "      <th>127</th>\n",
       "      <td>0.071525</td>\n",
       "      <td>2.236820e-10</td>\n",
       "      <td>0.000046</td>\n",
       "      <td>0.833001</td>\n",
       "      <td>0.5</td>\n",
       "      <td>0.833333</td>\n",
       "      <td>0</td>\n",
       "    </tr>\n",
       "    <tr>\n",
       "      <th>128</th>\n",
       "      <td>0.071400</td>\n",
       "      <td>1.054837e-09</td>\n",
       "      <td>0.000040</td>\n",
       "      <td>0.975075</td>\n",
       "      <td>0.5</td>\n",
       "      <td>0.833333</td>\n",
       "      <td>0</td>\n",
       "    </tr>\n",
       "    <tr>\n",
       "      <th>189</th>\n",
       "      <td>0.088075</td>\n",
       "      <td>1.126651e-09</td>\n",
       "      <td>0.000066</td>\n",
       "      <td>0.815055</td>\n",
       "      <td>0.5</td>\n",
       "      <td>0.833333</td>\n",
       "      <td>0</td>\n",
       "    </tr>\n",
       "    <tr>\n",
       "      <th>129</th>\n",
       "      <td>0.068275</td>\n",
       "      <td>5.144687e-10</td>\n",
       "      <td>0.000044</td>\n",
       "      <td>0.901795</td>\n",
       "      <td>0.5</td>\n",
       "      <td>0.833333</td>\n",
       "      <td>0</td>\n",
       "    </tr>\n",
       "    <tr>\n",
       "      <th>60</th>\n",
       "      <td>0.083525</td>\n",
       "      <td>6.592734e-09</td>\n",
       "      <td>0.000029</td>\n",
       "      <td>0.809073</td>\n",
       "      <td>0.5</td>\n",
       "      <td>0.833333</td>\n",
       "      <td>0</td>\n",
       "    </tr>\n",
       "    <tr>\n",
       "      <th>61</th>\n",
       "      <td>0.085800</td>\n",
       "      <td>7.887735e-10</td>\n",
       "      <td>0.000098</td>\n",
       "      <td>0.844467</td>\n",
       "      <td>0.5</td>\n",
       "      <td>0.833333</td>\n",
       "      <td>0</td>\n",
       "    </tr>\n",
       "    <tr>\n",
       "      <th>62</th>\n",
       "      <td>0.074575</td>\n",
       "      <td>2.825457e-10</td>\n",
       "      <td>0.000048</td>\n",
       "      <td>0.802094</td>\n",
       "      <td>0.5</td>\n",
       "      <td>0.833333</td>\n",
       "      <td>0</td>\n",
       "    </tr>\n",
       "    <tr>\n",
       "      <th>63</th>\n",
       "      <td>0.070875</td>\n",
       "      <td>4.002731e-10</td>\n",
       "      <td>0.000047</td>\n",
       "      <td>0.845464</td>\n",
       "      <td>0.5</td>\n",
       "      <td>0.833333</td>\n",
       "      <td>0</td>\n",
       "    </tr>\n",
       "    <tr>\n",
       "      <th>64</th>\n",
       "      <td>0.073375</td>\n",
       "      <td>1.648183e-10</td>\n",
       "      <td>0.000060</td>\n",
       "      <td>0.941675</td>\n",
       "      <td>0.5</td>\n",
       "      <td>0.833333</td>\n",
       "      <td>0</td>\n",
       "    </tr>\n",
       "    <tr>\n",
       "      <th>65</th>\n",
       "      <td>0.082375</td>\n",
       "      <td>1.153728e-09</td>\n",
       "      <td>0.000068</td>\n",
       "      <td>0.853938</td>\n",
       "      <td>0.5</td>\n",
       "      <td>0.833333</td>\n",
       "      <td>0</td>\n",
       "    </tr>\n",
       "    <tr>\n",
       "      <th>66</th>\n",
       "      <td>0.073625</td>\n",
       "      <td>3.767276e-10</td>\n",
       "      <td>0.000048</td>\n",
       "      <td>0.914257</td>\n",
       "      <td>0.5</td>\n",
       "      <td>0.833333</td>\n",
       "      <td>0</td>\n",
       "    </tr>\n",
       "    <tr>\n",
       "      <th>67</th>\n",
       "      <td>0.070425</td>\n",
       "      <td>1.153728e-09</td>\n",
       "      <td>0.000047</td>\n",
       "      <td>0.820040</td>\n",
       "      <td>0.5</td>\n",
       "      <td>0.833333</td>\n",
       "      <td>0</td>\n",
       "    </tr>\n",
       "    <tr>\n",
       "      <th>68</th>\n",
       "      <td>0.069350</td>\n",
       "      <td>4.238186e-10</td>\n",
       "      <td>0.000061</td>\n",
       "      <td>0.866899</td>\n",
       "      <td>0.5</td>\n",
       "      <td>0.833333</td>\n",
       "      <td>0</td>\n",
       "    </tr>\n",
       "    <tr>\n",
       "      <th>69</th>\n",
       "      <td>0.071775</td>\n",
       "      <td>8.476372e-10</td>\n",
       "      <td>0.000062</td>\n",
       "      <td>0.968594</td>\n",
       "      <td>0.5</td>\n",
       "      <td>0.833333</td>\n",
       "      <td>0</td>\n",
       "    </tr>\n",
       "    <tr>\n",
       "      <th>120</th>\n",
       "      <td>0.083075</td>\n",
       "      <td>5.062278e-10</td>\n",
       "      <td>0.000047</td>\n",
       "      <td>0.855434</td>\n",
       "      <td>0.5</td>\n",
       "      <td>0.833333</td>\n",
       "      <td>0</td>\n",
       "    </tr>\n",
       "    <tr>\n",
       "      <th>126</th>\n",
       "      <td>0.073375</td>\n",
       "      <td>1.024228e-09</td>\n",
       "      <td>0.000048</td>\n",
       "      <td>0.841476</td>\n",
       "      <td>0.5</td>\n",
       "      <td>0.833333</td>\n",
       "      <td>0</td>\n",
       "    </tr>\n",
       "    <tr>\n",
       "      <th>186</th>\n",
       "      <td>0.074200</td>\n",
       "      <td>5.427233e-10</td>\n",
       "      <td>0.000061</td>\n",
       "      <td>0.869890</td>\n",
       "      <td>0.5</td>\n",
       "      <td>0.833333</td>\n",
       "      <td>0</td>\n",
       "    </tr>\n",
       "    <tr>\n",
       "      <th>121</th>\n",
       "      <td>0.088275</td>\n",
       "      <td>1.094865e-09</td>\n",
       "      <td>0.000050</td>\n",
       "      <td>0.994018</td>\n",
       "      <td>0.5</td>\n",
       "      <td>0.833333</td>\n",
       "      <td>0</td>\n",
       "    </tr>\n",
       "    <tr>\n",
       "      <th>3</th>\n",
       "      <td>0.070000</td>\n",
       "      <td>2.354548e-10</td>\n",
       "      <td>0.000082</td>\n",
       "      <td>0.830010</td>\n",
       "      <td>0.5</td>\n",
       "      <td>0.833333</td>\n",
       "      <td>0</td>\n",
       "    </tr>\n",
       "    <tr>\n",
       "      <th>6</th>\n",
       "      <td>0.065925</td>\n",
       "      <td>8.594100e-10</td>\n",
       "      <td>0.000065</td>\n",
       "      <td>0.858425</td>\n",
       "      <td>0.5</td>\n",
       "      <td>0.833333</td>\n",
       "      <td>0</td>\n",
       "    </tr>\n",
       "    <tr>\n",
       "      <th>2</th>\n",
       "      <td>0.065000</td>\n",
       "      <td>3.531822e-10</td>\n",
       "      <td>0.000052</td>\n",
       "      <td>0.932203</td>\n",
       "      <td>0.5</td>\n",
       "      <td>0.833333</td>\n",
       "      <td>0</td>\n",
       "    </tr>\n",
       "    <tr>\n",
       "      <th>122</th>\n",
       "      <td>0.080450</td>\n",
       "      <td>6.357279e-10</td>\n",
       "      <td>0.000056</td>\n",
       "      <td>0.998006</td>\n",
       "      <td>0.5</td>\n",
       "      <td>0.833333</td>\n",
       "      <td>0</td>\n",
       "    </tr>\n",
       "    <tr>\n",
       "      <th>123</th>\n",
       "      <td>0.078650</td>\n",
       "      <td>1.765911e-10</td>\n",
       "      <td>0.000048</td>\n",
       "      <td>0.843470</td>\n",
       "      <td>0.5</td>\n",
       "      <td>0.833333</td>\n",
       "      <td>0</td>\n",
       "    </tr>\n",
       "    <tr>\n",
       "      <th>124</th>\n",
       "      <td>0.087775</td>\n",
       "      <td>7.534553e-10</td>\n",
       "      <td>0.000056</td>\n",
       "      <td>0.853440</td>\n",
       "      <td>0.5</td>\n",
       "      <td>0.833333</td>\n",
       "      <td>0</td>\n",
       "    </tr>\n",
       "    <tr>\n",
       "      <th>1</th>\n",
       "      <td>0.076050</td>\n",
       "      <td>5.886370e-10</td>\n",
       "      <td>0.000079</td>\n",
       "      <td>0.827517</td>\n",
       "      <td>0.5</td>\n",
       "      <td>0.833333</td>\n",
       "      <td>0</td>\n",
       "    </tr>\n",
       "    <tr>\n",
       "      <th>7</th>\n",
       "      <td>0.065000</td>\n",
       "      <td>4.709096e-10</td>\n",
       "      <td>0.000049</td>\n",
       "      <td>0.867398</td>\n",
       "      <td>0.5</td>\n",
       "      <td>0.833333</td>\n",
       "      <td>0</td>\n",
       "    </tr>\n",
       "    <tr>\n",
       "      <th>8</th>\n",
       "      <td>0.066250</td>\n",
       "      <td>8.123190e-10</td>\n",
       "      <td>0.000056</td>\n",
       "      <td>0.869890</td>\n",
       "      <td>0.5</td>\n",
       "      <td>0.833333</td>\n",
       "      <td>0</td>\n",
       "    </tr>\n",
       "    <tr>\n",
       "      <th>9</th>\n",
       "      <td>0.067500</td>\n",
       "      <td>2.119093e-10</td>\n",
       "      <td>0.000067</td>\n",
       "      <td>0.800100</td>\n",
       "      <td>0.5</td>\n",
       "      <td>0.833333</td>\n",
       "      <td>0</td>\n",
       "    </tr>\n",
       "    <tr>\n",
       "      <th>125</th>\n",
       "      <td>0.080625</td>\n",
       "      <td>8.947282e-10</td>\n",
       "      <td>0.000062</td>\n",
       "      <td>0.978564</td>\n",
       "      <td>0.5</td>\n",
       "      <td>0.833333</td>\n",
       "      <td>0</td>\n",
       "    </tr>\n",
       "    <tr>\n",
       "      <th>4</th>\n",
       "      <td>0.048475</td>\n",
       "      <td>1.624638e-10</td>\n",
       "      <td>0.000053</td>\n",
       "      <td>1.000000</td>\n",
       "      <td>0.5</td>\n",
       "      <td>0.833333</td>\n",
       "      <td>0</td>\n",
       "    </tr>\n",
       "    <tr>\n",
       "      <th>5</th>\n",
       "      <td>0.071000</td>\n",
       "      <td>7.652280e-10</td>\n",
       "      <td>0.000056</td>\n",
       "      <td>0.846461</td>\n",
       "      <td>0.5</td>\n",
       "      <td>0.833333</td>\n",
       "      <td>0</td>\n",
       "    </tr>\n",
       "  </tbody>\n",
       "</table>\n",
       "</div>"
      ],
      "text/plain": [
       "     Temperature             L         R       A_M  Color  Spectral_Class  \\\n",
       "0       0.076700  2.825457e-09  0.000087  0.803589    0.5        0.833333   \n",
       "188     0.069450  9.995055e-10  0.000057  0.969591    0.5        0.833333   \n",
       "187     0.087100  6.486779e-10  0.000051  0.831007    0.5        0.833333   \n",
       "185     0.072225  4.144004e-10  0.000050  0.843968    0.5        0.833333   \n",
       "184     0.086325  7.310871e-10  0.000040  0.851446    0.5        0.833333   \n",
       "183     0.080450  5.321278e-10  0.000051  0.864407    0.5        0.833333   \n",
       "182     0.085475  2.884321e-10  0.000065  0.875374    0.5        0.833333   \n",
       "181     0.072850  7.428598e-10  0.000060  0.916750    0.5        0.833333   \n",
       "180     0.070775  2.719503e-10  0.000047  0.808076    0.5        0.833333   \n",
       "127     0.071525  2.236820e-10  0.000046  0.833001    0.5        0.833333   \n",
       "128     0.071400  1.054837e-09  0.000040  0.975075    0.5        0.833333   \n",
       "189     0.088075  1.126651e-09  0.000066  0.815055    0.5        0.833333   \n",
       "129     0.068275  5.144687e-10  0.000044  0.901795    0.5        0.833333   \n",
       "60      0.083525  6.592734e-09  0.000029  0.809073    0.5        0.833333   \n",
       "61      0.085800  7.887735e-10  0.000098  0.844467    0.5        0.833333   \n",
       "62      0.074575  2.825457e-10  0.000048  0.802094    0.5        0.833333   \n",
       "63      0.070875  4.002731e-10  0.000047  0.845464    0.5        0.833333   \n",
       "64      0.073375  1.648183e-10  0.000060  0.941675    0.5        0.833333   \n",
       "65      0.082375  1.153728e-09  0.000068  0.853938    0.5        0.833333   \n",
       "66      0.073625  3.767276e-10  0.000048  0.914257    0.5        0.833333   \n",
       "67      0.070425  1.153728e-09  0.000047  0.820040    0.5        0.833333   \n",
       "68      0.069350  4.238186e-10  0.000061  0.866899    0.5        0.833333   \n",
       "69      0.071775  8.476372e-10  0.000062  0.968594    0.5        0.833333   \n",
       "120     0.083075  5.062278e-10  0.000047  0.855434    0.5        0.833333   \n",
       "126     0.073375  1.024228e-09  0.000048  0.841476    0.5        0.833333   \n",
       "186     0.074200  5.427233e-10  0.000061  0.869890    0.5        0.833333   \n",
       "121     0.088275  1.094865e-09  0.000050  0.994018    0.5        0.833333   \n",
       "3       0.070000  2.354548e-10  0.000082  0.830010    0.5        0.833333   \n",
       "6       0.065925  8.594100e-10  0.000065  0.858425    0.5        0.833333   \n",
       "2       0.065000  3.531822e-10  0.000052  0.932203    0.5        0.833333   \n",
       "122     0.080450  6.357279e-10  0.000056  0.998006    0.5        0.833333   \n",
       "123     0.078650  1.765911e-10  0.000048  0.843470    0.5        0.833333   \n",
       "124     0.087775  7.534553e-10  0.000056  0.853440    0.5        0.833333   \n",
       "1       0.076050  5.886370e-10  0.000079  0.827517    0.5        0.833333   \n",
       "7       0.065000  4.709096e-10  0.000049  0.867398    0.5        0.833333   \n",
       "8       0.066250  8.123190e-10  0.000056  0.869890    0.5        0.833333   \n",
       "9       0.067500  2.119093e-10  0.000067  0.800100    0.5        0.833333   \n",
       "125     0.080625  8.947282e-10  0.000062  0.978564    0.5        0.833333   \n",
       "4       0.048475  1.624638e-10  0.000053  1.000000    0.5        0.833333   \n",
       "5       0.071000  7.652280e-10  0.000056  0.846461    0.5        0.833333   \n",
       "\n",
       "     Type  \n",
       "0       0  \n",
       "188     0  \n",
       "187     0  \n",
       "185     0  \n",
       "184     0  \n",
       "183     0  \n",
       "182     0  \n",
       "181     0  \n",
       "180     0  \n",
       "127     0  \n",
       "128     0  \n",
       "189     0  \n",
       "129     0  \n",
       "60      0  \n",
       "61      0  \n",
       "62      0  \n",
       "63      0  \n",
       "64      0  \n",
       "65      0  \n",
       "66      0  \n",
       "67      0  \n",
       "68      0  \n",
       "69      0  \n",
       "120     0  \n",
       "126     0  \n",
       "186     0  \n",
       "121     0  \n",
       "3       0  \n",
       "6       0  \n",
       "2       0  \n",
       "122     0  \n",
       "123     0  \n",
       "124     0  \n",
       "1       0  \n",
       "7       0  \n",
       "8       0  \n",
       "9       0  \n",
       "125     0  \n",
       "4       0  \n",
       "5       0  "
      ]
     },
     "metadata": {},
     "output_type": "display_data"
    },
    {
     "name": "stdout",
     "output_type": "stream",
     "text": [
      "<class 'pandas.core.frame.DataFrame'>\n",
      "Int64Index: 40 entries, 0 to 5\n",
      "Data columns (total 7 columns):\n",
      " #   Column          Non-Null Count  Dtype  \n",
      "---  ------          --------------  -----  \n",
      " 0   Temperature     40 non-null     float64\n",
      " 1   L               40 non-null     float64\n",
      " 2   R               40 non-null     float64\n",
      " 3   A_M             40 non-null     float64\n",
      " 4   Color           40 non-null     float64\n",
      " 5   Spectral_Class  40 non-null     float64\n",
      " 6   Type            40 non-null     int64  \n",
      "dtypes: float64(6), int64(1)\n",
      "memory usage: 2.5 KB\n"
     ]
    },
    {
     "data": {
      "text/html": [
       "<div>\n",
       "<style scoped>\n",
       "    .dataframe tbody tr th:only-of-type {\n",
       "        vertical-align: middle;\n",
       "    }\n",
       "\n",
       "    .dataframe tbody tr th {\n",
       "        vertical-align: top;\n",
       "    }\n",
       "\n",
       "    .dataframe thead th {\n",
       "        text-align: right;\n",
       "    }\n",
       "</style>\n",
       "<table border=\"1\" class=\"dataframe\">\n",
       "  <thead>\n",
       "    <tr style=\"text-align: right;\">\n",
       "      <th></th>\n",
       "      <th>Temperature</th>\n",
       "      <th>L</th>\n",
       "      <th>R</th>\n",
       "      <th>A_M</th>\n",
       "      <th>Color</th>\n",
       "      <th>Spectral_Class</th>\n",
       "      <th>Type</th>\n",
       "    </tr>\n",
       "  </thead>\n",
       "  <tbody>\n",
       "    <tr>\n",
       "      <th>count</th>\n",
       "      <td>40.000000</td>\n",
       "      <td>4.000000e+01</td>\n",
       "      <td>40.000000</td>\n",
       "      <td>40.000000</td>\n",
       "      <td>40.0</td>\n",
       "      <td>40.000000</td>\n",
       "      <td>40.0</td>\n",
       "    </tr>\n",
       "    <tr>\n",
       "      <th>mean</th>\n",
       "      <td>0.074949</td>\n",
       "      <td>8.161746e-10</td>\n",
       "      <td>0.000056</td>\n",
       "      <td>0.875548</td>\n",
       "      <td>0.5</td>\n",
       "      <td>0.833333</td>\n",
       "      <td>0.0</td>\n",
       "    </tr>\n",
       "    <tr>\n",
       "      <th>std</th>\n",
       "      <td>0.008307</td>\n",
       "      <td>1.045308e-09</td>\n",
       "      <td>0.000013</td>\n",
       "      <td>0.060474</td>\n",
       "      <td>0.0</td>\n",
       "      <td>0.000000</td>\n",
       "      <td>0.0</td>\n",
       "    </tr>\n",
       "    <tr>\n",
       "      <th>min</th>\n",
       "      <td>0.048475</td>\n",
       "      <td>1.624638e-10</td>\n",
       "      <td>0.000029</td>\n",
       "      <td>0.800100</td>\n",
       "      <td>0.5</td>\n",
       "      <td>0.833333</td>\n",
       "      <td>0.0</td>\n",
       "    </tr>\n",
       "    <tr>\n",
       "      <th>25%</th>\n",
       "      <td>0.070319</td>\n",
       "      <td>3.708413e-10</td>\n",
       "      <td>0.000048</td>\n",
       "      <td>0.832502</td>\n",
       "      <td>0.5</td>\n",
       "      <td>0.833333</td>\n",
       "      <td>0.0</td>\n",
       "    </tr>\n",
       "    <tr>\n",
       "      <th>50%</th>\n",
       "      <td>0.073375</td>\n",
       "      <td>6.121824e-10</td>\n",
       "      <td>0.000054</td>\n",
       "      <td>0.854686</td>\n",
       "      <td>0.5</td>\n",
       "      <td>0.833333</td>\n",
       "      <td>0.0</td>\n",
       "    </tr>\n",
       "    <tr>\n",
       "      <th>75%</th>\n",
       "      <td>0.081063</td>\n",
       "      <td>8.682395e-10</td>\n",
       "      <td>0.000062</td>\n",
       "      <td>0.914880</td>\n",
       "      <td>0.5</td>\n",
       "      <td>0.833333</td>\n",
       "      <td>0.0</td>\n",
       "    </tr>\n",
       "    <tr>\n",
       "      <th>max</th>\n",
       "      <td>0.088275</td>\n",
       "      <td>6.592734e-09</td>\n",
       "      <td>0.000098</td>\n",
       "      <td>1.000000</td>\n",
       "      <td>0.5</td>\n",
       "      <td>0.833333</td>\n",
       "      <td>0.0</td>\n",
       "    </tr>\n",
       "  </tbody>\n",
       "</table>\n",
       "</div>"
      ],
      "text/plain": [
       "       Temperature             L          R        A_M  Color  Spectral_Class  \\\n",
       "count    40.000000  4.000000e+01  40.000000  40.000000   40.0       40.000000   \n",
       "mean      0.074949  8.161746e-10   0.000056   0.875548    0.5        0.833333   \n",
       "std       0.008307  1.045308e-09   0.000013   0.060474    0.0        0.000000   \n",
       "min       0.048475  1.624638e-10   0.000029   0.800100    0.5        0.833333   \n",
       "25%       0.070319  3.708413e-10   0.000048   0.832502    0.5        0.833333   \n",
       "50%       0.073375  6.121824e-10   0.000054   0.854686    0.5        0.833333   \n",
       "75%       0.081063  8.682395e-10   0.000062   0.914880    0.5        0.833333   \n",
       "max       0.088275  6.592734e-09   0.000098   1.000000    0.5        0.833333   \n",
       "\n",
       "       Type  \n",
       "count  40.0  \n",
       "mean    0.0  \n",
       "std     0.0  \n",
       "min     0.0  \n",
       "25%     0.0  \n",
       "50%     0.0  \n",
       "75%     0.0  \n",
       "max     0.0  "
      ]
     },
     "metadata": {},
     "output_type": "display_data"
    },
    {
     "name": "stdout",
     "output_type": "stream",
     "text": [
      "========================================================================\n",
      "| Classe: 1 |\n"
     ]
    },
    {
     "data": {
      "text/html": [
       "<div>\n",
       "<style scoped>\n",
       "    .dataframe tbody tr th:only-of-type {\n",
       "        vertical-align: middle;\n",
       "    }\n",
       "\n",
       "    .dataframe tbody tr th {\n",
       "        vertical-align: top;\n",
       "    }\n",
       "\n",
       "    .dataframe thead th {\n",
       "        text-align: right;\n",
       "    }\n",
       "</style>\n",
       "<table border=\"1\" class=\"dataframe\">\n",
       "  <thead>\n",
       "    <tr style=\"text-align: right;\">\n",
       "      <th></th>\n",
       "      <th>Temperature</th>\n",
       "      <th>L</th>\n",
       "      <th>R</th>\n",
       "      <th>A_M</th>\n",
       "      <th>Color</th>\n",
       "      <th>Spectral_Class</th>\n",
       "      <th>Type</th>\n",
       "    </tr>\n",
       "  </thead>\n",
       "  <tbody>\n",
       "    <tr>\n",
       "      <th>10</th>\n",
       "      <td>0.090000</td>\n",
       "      <td>3.414094e-09</td>\n",
       "      <td>0.000262</td>\n",
       "      <td>0.532901</td>\n",
       "      <td>0.5</td>\n",
       "      <td>0.833333</td>\n",
       "      <td>1</td>\n",
       "    </tr>\n",
       "    <tr>\n",
       "      <th>138</th>\n",
       "      <td>0.083100</td>\n",
       "      <td>4.002731e-09</td>\n",
       "      <td>0.000174</td>\n",
       "      <td>0.609671</td>\n",
       "      <td>0.5</td>\n",
       "      <td>0.833333</td>\n",
       "      <td>1</td>\n",
       "    </tr>\n",
       "    <tr>\n",
       "      <th>139</th>\n",
       "      <td>0.088525</td>\n",
       "      <td>1.530456e-09</td>\n",
       "      <td>0.000131</td>\n",
       "      <td>0.714357</td>\n",
       "      <td>0.5</td>\n",
       "      <td>0.833333</td>\n",
       "      <td>1</td>\n",
       "    </tr>\n",
       "    <tr>\n",
       "      <th>137</th>\n",
       "      <td>0.089950</td>\n",
       "      <td>1.295001e-09</td>\n",
       "      <td>0.000287</td>\n",
       "      <td>0.710867</td>\n",
       "      <td>0.5</td>\n",
       "      <td>0.833333</td>\n",
       "      <td>1</td>\n",
       "    </tr>\n",
       "    <tr>\n",
       "      <th>199</th>\n",
       "      <td>0.086575</td>\n",
       "      <td>3.178640e-09</td>\n",
       "      <td>0.000346</td>\n",
       "      <td>0.736590</td>\n",
       "      <td>0.5</td>\n",
       "      <td>0.833333</td>\n",
       "      <td>1</td>\n",
       "    </tr>\n",
       "    <tr>\n",
       "      <th>70</th>\n",
       "      <td>0.083625</td>\n",
       "      <td>2.472275e-08</td>\n",
       "      <td>0.000140</td>\n",
       "      <td>0.613161</td>\n",
       "      <td>0.5</td>\n",
       "      <td>0.833333</td>\n",
       "      <td>1</td>\n",
       "    </tr>\n",
       "    <tr>\n",
       "      <th>71</th>\n",
       "      <td>0.090175</td>\n",
       "      <td>2.590003e-08</td>\n",
       "      <td>0.000195</td>\n",
       "      <td>0.504487</td>\n",
       "      <td>0.5</td>\n",
       "      <td>0.833333</td>\n",
       "      <td>1</td>\n",
       "    </tr>\n",
       "    <tr>\n",
       "      <th>72</th>\n",
       "      <td>0.082600</td>\n",
       "      <td>1.000683e-08</td>\n",
       "      <td>0.000092</td>\n",
       "      <td>0.658026</td>\n",
       "      <td>0.5</td>\n",
       "      <td>0.833333</td>\n",
       "      <td>1</td>\n",
       "    </tr>\n",
       "    <tr>\n",
       "      <th>73</th>\n",
       "      <td>0.078750</td>\n",
       "      <td>1.036001e-08</td>\n",
       "      <td>0.000180</td>\n",
       "      <td>0.595214</td>\n",
       "      <td>0.5</td>\n",
       "      <td>0.833333</td>\n",
       "      <td>1</td>\n",
       "    </tr>\n",
       "    <tr>\n",
       "      <th>74</th>\n",
       "      <td>0.088750</td>\n",
       "      <td>4.709096e-09</td>\n",
       "      <td>0.000149</td>\n",
       "      <td>0.542871</td>\n",
       "      <td>0.5</td>\n",
       "      <td>0.833333</td>\n",
       "      <td>1</td>\n",
       "    </tr>\n",
       "    <tr>\n",
       "      <th>75</th>\n",
       "      <td>0.079500</td>\n",
       "      <td>1.177274e-09</td>\n",
       "      <td>0.000180</td>\n",
       "      <td>0.586241</td>\n",
       "      <td>0.5</td>\n",
       "      <td>0.833333</td>\n",
       "      <td>1</td>\n",
       "    </tr>\n",
       "    <tr>\n",
       "      <th>76</th>\n",
       "      <td>0.072250</td>\n",
       "      <td>4.002731e-09</td>\n",
       "      <td>0.000123</td>\n",
       "      <td>0.670987</td>\n",
       "      <td>0.5</td>\n",
       "      <td>0.833333</td>\n",
       "      <td>1</td>\n",
       "    </tr>\n",
       "    <tr>\n",
       "      <th>77</th>\n",
       "      <td>0.083550</td>\n",
       "      <td>1.765911e-09</td>\n",
       "      <td>0.000158</td>\n",
       "      <td>0.591725</td>\n",
       "      <td>0.5</td>\n",
       "      <td>0.833333</td>\n",
       "      <td>1</td>\n",
       "    </tr>\n",
       "    <tr>\n",
       "      <th>136</th>\n",
       "      <td>0.077275</td>\n",
       "      <td>9.535919e-09</td>\n",
       "      <td>0.000123</td>\n",
       "      <td>0.569791</td>\n",
       "      <td>0.5</td>\n",
       "      <td>0.833333</td>\n",
       "      <td>1</td>\n",
       "    </tr>\n",
       "    <tr>\n",
       "      <th>135</th>\n",
       "      <td>0.081075</td>\n",
       "      <td>2.707730e-09</td>\n",
       "      <td>0.000375</td>\n",
       "      <td>0.735294</td>\n",
       "      <td>0.5</td>\n",
       "      <td>0.833333</td>\n",
       "      <td>1</td>\n",
       "    </tr>\n",
       "    <tr>\n",
       "      <th>132</th>\n",
       "      <td>0.077500</td>\n",
       "      <td>9.418191e-09</td>\n",
       "      <td>0.000159</td>\n",
       "      <td>0.556830</td>\n",
       "      <td>0.5</td>\n",
       "      <td>0.833333</td>\n",
       "      <td>1</td>\n",
       "    </tr>\n",
       "    <tr>\n",
       "      <th>133</th>\n",
       "      <td>0.074725</td>\n",
       "      <td>1.024228e-08</td>\n",
       "      <td>0.000174</td>\n",
       "      <td>0.654038</td>\n",
       "      <td>0.5</td>\n",
       "      <td>0.833333</td>\n",
       "      <td>1</td>\n",
       "    </tr>\n",
       "    <tr>\n",
       "      <th>198</th>\n",
       "      <td>0.083100</td>\n",
       "      <td>7.652280e-09</td>\n",
       "      <td>0.000242</td>\n",
       "      <td>0.637089</td>\n",
       "      <td>0.5</td>\n",
       "      <td>0.833333</td>\n",
       "      <td>1</td>\n",
       "    </tr>\n",
       "    <tr>\n",
       "      <th>197</th>\n",
       "      <td>0.087400</td>\n",
       "      <td>1.471592e-09</td>\n",
       "      <td>0.000172</td>\n",
       "      <td>0.744766</td>\n",
       "      <td>0.5</td>\n",
       "      <td>0.833333</td>\n",
       "      <td>1</td>\n",
       "    </tr>\n",
       "    <tr>\n",
       "      <th>196</th>\n",
       "      <td>0.078550</td>\n",
       "      <td>1.554002e-09</td>\n",
       "      <td>0.000132</td>\n",
       "      <td>0.703888</td>\n",
       "      <td>0.5</td>\n",
       "      <td>0.833333</td>\n",
       "      <td>1</td>\n",
       "    </tr>\n",
       "    <tr>\n",
       "      <th>195</th>\n",
       "      <td>0.089950</td>\n",
       "      <td>3.178640e-09</td>\n",
       "      <td>0.000344</td>\n",
       "      <td>0.681306</td>\n",
       "      <td>0.5</td>\n",
       "      <td>0.833333</td>\n",
       "      <td>1</td>\n",
       "    </tr>\n",
       "    <tr>\n",
       "      <th>194</th>\n",
       "      <td>0.088075</td>\n",
       "      <td>6.357279e-09</td>\n",
       "      <td>0.000164</td>\n",
       "      <td>0.619641</td>\n",
       "      <td>0.5</td>\n",
       "      <td>0.833333</td>\n",
       "      <td>1</td>\n",
       "    </tr>\n",
       "    <tr>\n",
       "      <th>193</th>\n",
       "      <td>0.080300</td>\n",
       "      <td>1.883638e-09</td>\n",
       "      <td>0.000194</td>\n",
       "      <td>0.640778</td>\n",
       "      <td>0.5</td>\n",
       "      <td>0.833333</td>\n",
       "      <td>1</td>\n",
       "    </tr>\n",
       "    <tr>\n",
       "      <th>192</th>\n",
       "      <td>0.074850</td>\n",
       "      <td>8.476372e-09</td>\n",
       "      <td>0.000144</td>\n",
       "      <td>0.670489</td>\n",
       "      <td>0.5</td>\n",
       "      <td>0.833333</td>\n",
       "      <td>1</td>\n",
       "    </tr>\n",
       "    <tr>\n",
       "      <th>191</th>\n",
       "      <td>0.081425</td>\n",
       "      <td>2.825457e-09</td>\n",
       "      <td>0.000236</td>\n",
       "      <td>0.534895</td>\n",
       "      <td>0.5</td>\n",
       "      <td>0.833333</td>\n",
       "      <td>1</td>\n",
       "    </tr>\n",
       "    <tr>\n",
       "      <th>190</th>\n",
       "      <td>0.086550</td>\n",
       "      <td>6.239552e-09</td>\n",
       "      <td>0.000076</td>\n",
       "      <td>0.571785</td>\n",
       "      <td>0.5</td>\n",
       "      <td>0.833333</td>\n",
       "      <td>1</td>\n",
       "    </tr>\n",
       "    <tr>\n",
       "      <th>78</th>\n",
       "      <td>0.065525</td>\n",
       "      <td>7.063643e-10</td>\n",
       "      <td>0.000050</td>\n",
       "      <td>0.638584</td>\n",
       "      <td>0.5</td>\n",
       "      <td>0.833333</td>\n",
       "      <td>1</td>\n",
       "    </tr>\n",
       "    <tr>\n",
       "      <th>19</th>\n",
       "      <td>0.086025</td>\n",
       "      <td>4.591368e-08</td>\n",
       "      <td>0.000180</td>\n",
       "      <td>0.557328</td>\n",
       "      <td>0.5</td>\n",
       "      <td>0.833333</td>\n",
       "      <td>1</td>\n",
       "    </tr>\n",
       "    <tr>\n",
       "      <th>18</th>\n",
       "      <td>0.079800</td>\n",
       "      <td>4.261732e-09</td>\n",
       "      <td>0.000101</td>\n",
       "      <td>0.674477</td>\n",
       "      <td>0.5</td>\n",
       "      <td>0.833333</td>\n",
       "      <td>1</td>\n",
       "    </tr>\n",
       "    <tr>\n",
       "      <th>17</th>\n",
       "      <td>0.092300</td>\n",
       "      <td>4.320595e-09</td>\n",
       "      <td>0.000241</td>\n",
       "      <td>0.538385</td>\n",
       "      <td>0.5</td>\n",
       "      <td>0.833333</td>\n",
       "      <td>1</td>\n",
       "    </tr>\n",
       "    <tr>\n",
       "      <th>16</th>\n",
       "      <td>0.069975</td>\n",
       "      <td>2.119093e-09</td>\n",
       "      <td>0.000082</td>\n",
       "      <td>0.737288</td>\n",
       "      <td>0.5</td>\n",
       "      <td>0.833333</td>\n",
       "      <td>1</td>\n",
       "    </tr>\n",
       "    <tr>\n",
       "      <th>15</th>\n",
       "      <td>0.083500</td>\n",
       "      <td>4.473641e-09</td>\n",
       "      <td>0.000123</td>\n",
       "      <td>0.651545</td>\n",
       "      <td>0.5</td>\n",
       "      <td>0.833333</td>\n",
       "      <td>1</td>\n",
       "    </tr>\n",
       "    <tr>\n",
       "      <th>14</th>\n",
       "      <td>0.066250</td>\n",
       "      <td>7.063643e-10</td>\n",
       "      <td>0.000072</td>\n",
       "      <td>0.587338</td>\n",
       "      <td>0.5</td>\n",
       "      <td>0.833333</td>\n",
       "      <td>1</td>\n",
       "    </tr>\n",
       "    <tr>\n",
       "      <th>13</th>\n",
       "      <td>0.090700</td>\n",
       "      <td>6.475006e-09</td>\n",
       "      <td>0.000202</td>\n",
       "      <td>0.522433</td>\n",
       "      <td>0.5</td>\n",
       "      <td>0.833333</td>\n",
       "      <td>1</td>\n",
       "    </tr>\n",
       "    <tr>\n",
       "      <th>12</th>\n",
       "      <td>0.078350</td>\n",
       "      <td>4.709096e-10</td>\n",
       "      <td>0.000101</td>\n",
       "      <td>0.658524</td>\n",
       "      <td>0.5</td>\n",
       "      <td>0.833333</td>\n",
       "      <td>1</td>\n",
       "    </tr>\n",
       "    <tr>\n",
       "      <th>11</th>\n",
       "      <td>0.078225</td>\n",
       "      <td>1.436274e-08</td>\n",
       "      <td>0.000193</td>\n",
       "      <td>0.587737</td>\n",
       "      <td>0.5</td>\n",
       "      <td>0.833333</td>\n",
       "      <td>1</td>\n",
       "    </tr>\n",
       "    <tr>\n",
       "      <th>130</th>\n",
       "      <td>0.077375</td>\n",
       "      <td>2.236820e-10</td>\n",
       "      <td>0.000253</td>\n",
       "      <td>0.541874</td>\n",
       "      <td>0.5</td>\n",
       "      <td>0.833333</td>\n",
       "      <td>1</td>\n",
       "    </tr>\n",
       "    <tr>\n",
       "      <th>131</th>\n",
       "      <td>0.090175</td>\n",
       "      <td>2.707730e-10</td>\n",
       "      <td>0.000195</td>\n",
       "      <td>0.515454</td>\n",
       "      <td>0.5</td>\n",
       "      <td>0.833333</td>\n",
       "      <td>1</td>\n",
       "    </tr>\n",
       "    <tr>\n",
       "      <th>134</th>\n",
       "      <td>0.088550</td>\n",
       "      <td>1.059547e-09</td>\n",
       "      <td>0.000318</td>\n",
       "      <td>0.709372</td>\n",
       "      <td>0.5</td>\n",
       "      <td>0.833333</td>\n",
       "      <td>1</td>\n",
       "    </tr>\n",
       "    <tr>\n",
       "      <th>79</th>\n",
       "      <td>0.078950</td>\n",
       "      <td>1.589320e-09</td>\n",
       "      <td>0.000083</td>\n",
       "      <td>0.696909</td>\n",
       "      <td>0.5</td>\n",
       "      <td>0.833333</td>\n",
       "      <td>1</td>\n",
       "    </tr>\n",
       "  </tbody>\n",
       "</table>\n",
       "</div>"
      ],
      "text/plain": [
       "     Temperature             L         R       A_M  Color  Spectral_Class  \\\n",
       "10      0.090000  3.414094e-09  0.000262  0.532901    0.5        0.833333   \n",
       "138     0.083100  4.002731e-09  0.000174  0.609671    0.5        0.833333   \n",
       "139     0.088525  1.530456e-09  0.000131  0.714357    0.5        0.833333   \n",
       "137     0.089950  1.295001e-09  0.000287  0.710867    0.5        0.833333   \n",
       "199     0.086575  3.178640e-09  0.000346  0.736590    0.5        0.833333   \n",
       "70      0.083625  2.472275e-08  0.000140  0.613161    0.5        0.833333   \n",
       "71      0.090175  2.590003e-08  0.000195  0.504487    0.5        0.833333   \n",
       "72      0.082600  1.000683e-08  0.000092  0.658026    0.5        0.833333   \n",
       "73      0.078750  1.036001e-08  0.000180  0.595214    0.5        0.833333   \n",
       "74      0.088750  4.709096e-09  0.000149  0.542871    0.5        0.833333   \n",
       "75      0.079500  1.177274e-09  0.000180  0.586241    0.5        0.833333   \n",
       "76      0.072250  4.002731e-09  0.000123  0.670987    0.5        0.833333   \n",
       "77      0.083550  1.765911e-09  0.000158  0.591725    0.5        0.833333   \n",
       "136     0.077275  9.535919e-09  0.000123  0.569791    0.5        0.833333   \n",
       "135     0.081075  2.707730e-09  0.000375  0.735294    0.5        0.833333   \n",
       "132     0.077500  9.418191e-09  0.000159  0.556830    0.5        0.833333   \n",
       "133     0.074725  1.024228e-08  0.000174  0.654038    0.5        0.833333   \n",
       "198     0.083100  7.652280e-09  0.000242  0.637089    0.5        0.833333   \n",
       "197     0.087400  1.471592e-09  0.000172  0.744766    0.5        0.833333   \n",
       "196     0.078550  1.554002e-09  0.000132  0.703888    0.5        0.833333   \n",
       "195     0.089950  3.178640e-09  0.000344  0.681306    0.5        0.833333   \n",
       "194     0.088075  6.357279e-09  0.000164  0.619641    0.5        0.833333   \n",
       "193     0.080300  1.883638e-09  0.000194  0.640778    0.5        0.833333   \n",
       "192     0.074850  8.476372e-09  0.000144  0.670489    0.5        0.833333   \n",
       "191     0.081425  2.825457e-09  0.000236  0.534895    0.5        0.833333   \n",
       "190     0.086550  6.239552e-09  0.000076  0.571785    0.5        0.833333   \n",
       "78      0.065525  7.063643e-10  0.000050  0.638584    0.5        0.833333   \n",
       "19      0.086025  4.591368e-08  0.000180  0.557328    0.5        0.833333   \n",
       "18      0.079800  4.261732e-09  0.000101  0.674477    0.5        0.833333   \n",
       "17      0.092300  4.320595e-09  0.000241  0.538385    0.5        0.833333   \n",
       "16      0.069975  2.119093e-09  0.000082  0.737288    0.5        0.833333   \n",
       "15      0.083500  4.473641e-09  0.000123  0.651545    0.5        0.833333   \n",
       "14      0.066250  7.063643e-10  0.000072  0.587338    0.5        0.833333   \n",
       "13      0.090700  6.475006e-09  0.000202  0.522433    0.5        0.833333   \n",
       "12      0.078350  4.709096e-10  0.000101  0.658524    0.5        0.833333   \n",
       "11      0.078225  1.436274e-08  0.000193  0.587737    0.5        0.833333   \n",
       "130     0.077375  2.236820e-10  0.000253  0.541874    0.5        0.833333   \n",
       "131     0.090175  2.707730e-10  0.000195  0.515454    0.5        0.833333   \n",
       "134     0.088550  1.059547e-09  0.000318  0.709372    0.5        0.833333   \n",
       "79      0.078950  1.589320e-09  0.000083  0.696909    0.5        0.833333   \n",
       "\n",
       "     Type  \n",
       "10      1  \n",
       "138     1  \n",
       "139     1  \n",
       "137     1  \n",
       "199     1  \n",
       "70      1  \n",
       "71      1  \n",
       "72      1  \n",
       "73      1  \n",
       "74      1  \n",
       "75      1  \n",
       "76      1  \n",
       "77      1  \n",
       "136     1  \n",
       "135     1  \n",
       "132     1  \n",
       "133     1  \n",
       "198     1  \n",
       "197     1  \n",
       "196     1  \n",
       "195     1  \n",
       "194     1  \n",
       "193     1  \n",
       "192     1  \n",
       "191     1  \n",
       "190     1  \n",
       "78      1  \n",
       "19      1  \n",
       "18      1  \n",
       "17      1  \n",
       "16      1  \n",
       "15      1  \n",
       "14      1  \n",
       "13      1  \n",
       "12      1  \n",
       "11      1  \n",
       "130     1  \n",
       "131     1  \n",
       "134     1  \n",
       "79      1  "
      ]
     },
     "metadata": {},
     "output_type": "display_data"
    },
    {
     "name": "stdout",
     "output_type": "stream",
     "text": [
      "<class 'pandas.core.frame.DataFrame'>\n",
      "Int64Index: 40 entries, 10 to 79\n",
      "Data columns (total 7 columns):\n",
      " #   Column          Non-Null Count  Dtype  \n",
      "---  ------          --------------  -----  \n",
      " 0   Temperature     40 non-null     float64\n",
      " 1   L               40 non-null     float64\n",
      " 2   R               40 non-null     float64\n",
      " 3   A_M             40 non-null     float64\n",
      " 4   Color           40 non-null     float64\n",
      " 5   Spectral_Class  40 non-null     float64\n",
      " 6   Type            40 non-null     int64  \n",
      "dtypes: float64(6), int64(1)\n",
      "memory usage: 2.5 KB\n"
     ]
    },
    {
     "data": {
      "text/html": [
       "<div>\n",
       "<style scoped>\n",
       "    .dataframe tbody tr th:only-of-type {\n",
       "        vertical-align: middle;\n",
       "    }\n",
       "\n",
       "    .dataframe tbody tr th {\n",
       "        vertical-align: top;\n",
       "    }\n",
       "\n",
       "    .dataframe thead th {\n",
       "        text-align: right;\n",
       "    }\n",
       "</style>\n",
       "<table border=\"1\" class=\"dataframe\">\n",
       "  <thead>\n",
       "    <tr style=\"text-align: right;\">\n",
       "      <th></th>\n",
       "      <th>Temperature</th>\n",
       "      <th>L</th>\n",
       "      <th>R</th>\n",
       "      <th>A_M</th>\n",
       "      <th>Color</th>\n",
       "      <th>Spectral_Class</th>\n",
       "      <th>Type</th>\n",
       "    </tr>\n",
       "  </thead>\n",
       "  <tbody>\n",
       "    <tr>\n",
       "      <th>count</th>\n",
       "      <td>40.000000</td>\n",
       "      <td>4.000000e+01</td>\n",
       "      <td>40.000000</td>\n",
       "      <td>40.000000</td>\n",
       "      <td>40.0</td>\n",
       "      <td>40.000000</td>\n",
       "      <td>40.0</td>\n",
       "    </tr>\n",
       "    <tr>\n",
       "      <th>mean</th>\n",
       "      <td>0.082096</td>\n",
       "      <td>6.364048e-09</td>\n",
       "      <td>0.000179</td>\n",
       "      <td>0.625123</td>\n",
       "      <td>0.5</td>\n",
       "      <td>0.833333</td>\n",
       "      <td>1.0</td>\n",
       "    </tr>\n",
       "    <tr>\n",
       "      <th>std</th>\n",
       "      <td>0.006741</td>\n",
       "      <td>8.629700e-09</td>\n",
       "      <td>0.000079</td>\n",
       "      <td>0.070928</td>\n",
       "      <td>0.0</td>\n",
       "      <td>0.000000</td>\n",
       "      <td>0.0</td>\n",
       "    </tr>\n",
       "    <tr>\n",
       "      <th>min</th>\n",
       "      <td>0.065525</td>\n",
       "      <td>2.236820e-10</td>\n",
       "      <td>0.000050</td>\n",
       "      <td>0.504487</td>\n",
       "      <td>0.5</td>\n",
       "      <td>0.833333</td>\n",
       "      <td>1.0</td>\n",
       "    </tr>\n",
       "    <tr>\n",
       "      <th>25%</th>\n",
       "      <td>0.078319</td>\n",
       "      <td>1.548115e-09</td>\n",
       "      <td>0.000123</td>\n",
       "      <td>0.566675</td>\n",
       "      <td>0.5</td>\n",
       "      <td>0.833333</td>\n",
       "      <td>1.0</td>\n",
       "    </tr>\n",
       "    <tr>\n",
       "      <th>50%</th>\n",
       "      <td>0.082850</td>\n",
       "      <td>3.708413e-09</td>\n",
       "      <td>0.000173</td>\n",
       "      <td>0.628365</td>\n",
       "      <td>0.5</td>\n",
       "      <td>0.833333</td>\n",
       "      <td>1.0</td>\n",
       "    </tr>\n",
       "    <tr>\n",
       "      <th>75%</th>\n",
       "      <td>0.088188</td>\n",
       "      <td>7.858303e-09</td>\n",
       "      <td>0.000210</td>\n",
       "      <td>0.676184</td>\n",
       "      <td>0.5</td>\n",
       "      <td>0.833333</td>\n",
       "      <td>1.0</td>\n",
       "    </tr>\n",
       "    <tr>\n",
       "      <th>max</th>\n",
       "      <td>0.092300</td>\n",
       "      <td>4.591368e-08</td>\n",
       "      <td>0.000375</td>\n",
       "      <td>0.744766</td>\n",
       "      <td>0.5</td>\n",
       "      <td>0.833333</td>\n",
       "      <td>1.0</td>\n",
       "    </tr>\n",
       "  </tbody>\n",
       "</table>\n",
       "</div>"
      ],
      "text/plain": [
       "       Temperature             L          R        A_M  Color  Spectral_Class  \\\n",
       "count    40.000000  4.000000e+01  40.000000  40.000000   40.0       40.000000   \n",
       "mean      0.082096  6.364048e-09   0.000179   0.625123    0.5        0.833333   \n",
       "std       0.006741  8.629700e-09   0.000079   0.070928    0.0        0.000000   \n",
       "min       0.065525  2.236820e-10   0.000050   0.504487    0.5        0.833333   \n",
       "25%       0.078319  1.548115e-09   0.000123   0.566675    0.5        0.833333   \n",
       "50%       0.082850  3.708413e-09   0.000173   0.628365    0.5        0.833333   \n",
       "75%       0.088188  7.858303e-09   0.000210   0.676184    0.5        0.833333   \n",
       "max       0.092300  4.591368e-08   0.000375   0.744766    0.5        0.833333   \n",
       "\n",
       "       Type  \n",
       "count  40.0  \n",
       "mean    1.0  \n",
       "std     0.0  \n",
       "min     1.0  \n",
       "25%     1.0  \n",
       "50%     1.0  \n",
       "75%     1.0  \n",
       "max     1.0  "
      ]
     },
     "metadata": {},
     "output_type": "display_data"
    },
    {
     "name": "stdout",
     "output_type": "stream",
     "text": [
      "========================================================================\n",
      "| Classe: 2 |\n"
     ]
    },
    {
     "data": {
      "text/html": [
       "<div>\n",
       "<style scoped>\n",
       "    .dataframe tbody tr th:only-of-type {\n",
       "        vertical-align: middle;\n",
       "    }\n",
       "\n",
       "    .dataframe tbody tr th {\n",
       "        vertical-align: top;\n",
       "    }\n",
       "\n",
       "    .dataframe thead th {\n",
       "        text-align: right;\n",
       "    }\n",
       "</style>\n",
       "<table border=\"1\" class=\"dataframe\">\n",
       "  <thead>\n",
       "    <tr style=\"text-align: right;\">\n",
       "      <th></th>\n",
       "      <th>Temperature</th>\n",
       "      <th>L</th>\n",
       "      <th>R</th>\n",
       "      <th>A_M</th>\n",
       "      <th>Color</th>\n",
       "      <th>Spectral_Class</th>\n",
       "      <th>Type</th>\n",
       "    </tr>\n",
       "  </thead>\n",
       "  <tbody>\n",
       "    <tr>\n",
       "      <th>148</th>\n",
       "      <td>0.193075</td>\n",
       "      <td>1.648183e-10</td>\n",
       "      <td>0.000005</td>\n",
       "      <td>0.738285</td>\n",
       "      <td>0.5625</td>\n",
       "      <td>0.000000</td>\n",
       "      <td>2</td>\n",
       "    </tr>\n",
       "    <tr>\n",
       "      <th>141</th>\n",
       "      <td>0.525500</td>\n",
       "      <td>1.765911e-09</td>\n",
       "      <td>0.000006</td>\n",
       "      <td>0.574277</td>\n",
       "      <td>0.0000</td>\n",
       "      <td>0.166667</td>\n",
       "      <td>2</td>\n",
       "    </tr>\n",
       "    <tr>\n",
       "      <th>205</th>\n",
       "      <td>0.498000</td>\n",
       "      <td>1.836547e-09</td>\n",
       "      <td>0.000007</td>\n",
       "      <td>0.565304</td>\n",
       "      <td>0.0000</td>\n",
       "      <td>0.166667</td>\n",
       "      <td>2</td>\n",
       "    </tr>\n",
       "    <tr>\n",
       "      <th>204</th>\n",
       "      <td>0.458500</td>\n",
       "      <td>1.577547e-09</td>\n",
       "      <td>0.000006</td>\n",
       "      <td>0.559322</td>\n",
       "      <td>0.0000</td>\n",
       "      <td>0.166667</td>\n",
       "      <td>2</td>\n",
       "    </tr>\n",
       "    <tr>\n",
       "      <th>203</th>\n",
       "      <td>0.333500</td>\n",
       "      <td>1.283229e-09</td>\n",
       "      <td>0.000006</td>\n",
       "      <td>0.643071</td>\n",
       "      <td>0.0000</td>\n",
       "      <td>0.166667</td>\n",
       "      <td>2</td>\n",
       "    </tr>\n",
       "    <tr>\n",
       "      <th>202</th>\n",
       "      <td>0.374550</td>\n",
       "      <td>1.389183e-09</td>\n",
       "      <td>0.000006</td>\n",
       "      <td>0.609671</td>\n",
       "      <td>0.0000</td>\n",
       "      <td>0.166667</td>\n",
       "      <td>2</td>\n",
       "    </tr>\n",
       "    <tr>\n",
       "      <th>201</th>\n",
       "      <td>0.392000</td>\n",
       "      <td>1.436274e-09</td>\n",
       "      <td>0.000006</td>\n",
       "      <td>0.594217</td>\n",
       "      <td>0.0000</td>\n",
       "      <td>0.166667</td>\n",
       "      <td>2</td>\n",
       "    </tr>\n",
       "    <tr>\n",
       "      <th>200</th>\n",
       "      <td>0.419750</td>\n",
       "      <td>1.648183e-09</td>\n",
       "      <td>0.000006</td>\n",
       "      <td>0.641575</td>\n",
       "      <td>0.0000</td>\n",
       "      <td>0.166667</td>\n",
       "      <td>2</td>\n",
       "    </tr>\n",
       "    <tr>\n",
       "      <th>208</th>\n",
       "      <td>0.448000</td>\n",
       "      <td>1.306774e-09</td>\n",
       "      <td>0.000005</td>\n",
       "      <td>0.581256</td>\n",
       "      <td>0.0000</td>\n",
       "      <td>0.166667</td>\n",
       "      <td>2</td>\n",
       "    </tr>\n",
       "    <tr>\n",
       "      <th>209</th>\n",
       "      <td>0.484000</td>\n",
       "      <td>1.471592e-09</td>\n",
       "      <td>0.000005</td>\n",
       "      <td>0.579262</td>\n",
       "      <td>0.0000</td>\n",
       "      <td>0.166667</td>\n",
       "      <td>2</td>\n",
       "    </tr>\n",
       "    <tr>\n",
       "      <th>149</th>\n",
       "      <td>0.324600</td>\n",
       "      <td>1.036001e-09</td>\n",
       "      <td>0.000005</td>\n",
       "      <td>0.559821</td>\n",
       "      <td>0.0625</td>\n",
       "      <td>0.166667</td>\n",
       "      <td>2</td>\n",
       "    </tr>\n",
       "    <tr>\n",
       "      <th>147</th>\n",
       "      <td>0.368300</td>\n",
       "      <td>1.295001e-10</td>\n",
       "      <td>0.000005</td>\n",
       "      <td>0.642572</td>\n",
       "      <td>0.8750</td>\n",
       "      <td>0.333333</td>\n",
       "      <td>2</td>\n",
       "    </tr>\n",
       "    <tr>\n",
       "      <th>146</th>\n",
       "      <td>0.322800</td>\n",
       "      <td>8.358645e-10</td>\n",
       "      <td>0.000005</td>\n",
       "      <td>0.639581</td>\n",
       "      <td>0.1250</td>\n",
       "      <td>0.166667</td>\n",
       "      <td>2</td>\n",
       "    </tr>\n",
       "    <tr>\n",
       "      <th>145</th>\n",
       "      <td>0.223100</td>\n",
       "      <td>3.296367e-10</td>\n",
       "      <td>0.000005</td>\n",
       "      <td>0.741276</td>\n",
       "      <td>0.1250</td>\n",
       "      <td>0.000000</td>\n",
       "      <td>2</td>\n",
       "    </tr>\n",
       "    <tr>\n",
       "      <th>144</th>\n",
       "      <td>0.297500</td>\n",
       "      <td>7.887735e-10</td>\n",
       "      <td>0.000005</td>\n",
       "      <td>0.567298</td>\n",
       "      <td>0.1250</td>\n",
       "      <td>0.166667</td>\n",
       "      <td>2</td>\n",
       "    </tr>\n",
       "    <tr>\n",
       "      <th>143</th>\n",
       "      <td>0.363000</td>\n",
       "      <td>9.653646e-10</td>\n",
       "      <td>0.000005</td>\n",
       "      <td>0.594217</td>\n",
       "      <td>0.0625</td>\n",
       "      <td>0.166667</td>\n",
       "      <td>2</td>\n",
       "    </tr>\n",
       "    <tr>\n",
       "      <th>142</th>\n",
       "      <td>0.457250</td>\n",
       "      <td>1.530456e-09</td>\n",
       "      <td>0.000005</td>\n",
       "      <td>0.637089</td>\n",
       "      <td>0.0000</td>\n",
       "      <td>0.166667</td>\n",
       "      <td>2</td>\n",
       "    </tr>\n",
       "    <tr>\n",
       "      <th>140</th>\n",
       "      <td>0.335500</td>\n",
       "      <td>6.945916e-10</td>\n",
       "      <td>0.000005</td>\n",
       "      <td>0.681456</td>\n",
       "      <td>0.0625</td>\n",
       "      <td>0.166667</td>\n",
       "      <td>2</td>\n",
       "    </tr>\n",
       "    <tr>\n",
       "      <th>206</th>\n",
       "      <td>0.600500</td>\n",
       "      <td>1.871866e-09</td>\n",
       "      <td>0.000007</td>\n",
       "      <td>0.525922</td>\n",
       "      <td>0.0000</td>\n",
       "      <td>0.166667</td>\n",
       "      <td>2</td>\n",
       "    </tr>\n",
       "    <tr>\n",
       "      <th>207</th>\n",
       "      <td>0.577300</td>\n",
       "      <td>1.554002e-09</td>\n",
       "      <td>0.000005</td>\n",
       "      <td>0.507478</td>\n",
       "      <td>0.0000</td>\n",
       "      <td>0.166667</td>\n",
       "      <td>2</td>\n",
       "    </tr>\n",
       "    <tr>\n",
       "      <th>83</th>\n",
       "      <td>0.430000</td>\n",
       "      <td>1.153728e-09</td>\n",
       "      <td>0.000008</td>\n",
       "      <td>0.620638</td>\n",
       "      <td>0.0625</td>\n",
       "      <td>0.166667</td>\n",
       "      <td>2</td>\n",
       "    </tr>\n",
       "    <tr>\n",
       "      <th>89</th>\n",
       "      <td>0.496500</td>\n",
       "      <td>1.295001e-09</td>\n",
       "      <td>0.000007</td>\n",
       "      <td>0.565304</td>\n",
       "      <td>0.0000</td>\n",
       "      <td>0.166667</td>\n",
       "      <td>2</td>\n",
       "    </tr>\n",
       "    <tr>\n",
       "      <th>80</th>\n",
       "      <td>0.177500</td>\n",
       "      <td>3.414094e-10</td>\n",
       "      <td>0.000006</td>\n",
       "      <td>0.702393</td>\n",
       "      <td>0.6250</td>\n",
       "      <td>0.333333</td>\n",
       "      <td>2</td>\n",
       "    </tr>\n",
       "    <tr>\n",
       "      <th>88</th>\n",
       "      <td>0.343000</td>\n",
       "      <td>2.119093e-10</td>\n",
       "      <td>0.000005</td>\n",
       "      <td>0.646560</td>\n",
       "      <td>0.8750</td>\n",
       "      <td>0.333333</td>\n",
       "      <td>2</td>\n",
       "    </tr>\n",
       "    <tr>\n",
       "      <th>87</th>\n",
       "      <td>0.274500</td>\n",
       "      <td>8.711827e-10</td>\n",
       "      <td>0.000004</td>\n",
       "      <td>0.557827</td>\n",
       "      <td>0.0625</td>\n",
       "      <td>0.166667</td>\n",
       "      <td>2</td>\n",
       "    </tr>\n",
       "    <tr>\n",
       "      <th>86</th>\n",
       "      <td>0.300250</td>\n",
       "      <td>9.182736e-10</td>\n",
       "      <td>0.000005</td>\n",
       "      <td>0.604686</td>\n",
       "      <td>0.0625</td>\n",
       "      <td>0.166667</td>\n",
       "      <td>2</td>\n",
       "    </tr>\n",
       "    <tr>\n",
       "      <th>85</th>\n",
       "      <td>0.241875</td>\n",
       "      <td>5.297733e-10</td>\n",
       "      <td>0.000006</td>\n",
       "      <td>0.696909</td>\n",
       "      <td>0.0625</td>\n",
       "      <td>0.000000</td>\n",
       "      <td>2</td>\n",
       "    </tr>\n",
       "    <tr>\n",
       "      <th>84</th>\n",
       "      <td>0.352500</td>\n",
       "      <td>7.887735e-10</td>\n",
       "      <td>0.000005</td>\n",
       "      <td>0.606680</td>\n",
       "      <td>0.0625</td>\n",
       "      <td>0.166667</td>\n",
       "      <td>2</td>\n",
       "    </tr>\n",
       "    <tr>\n",
       "      <th>82</th>\n",
       "      <td>0.223250</td>\n",
       "      <td>6.592734e-10</td>\n",
       "      <td>0.000005</td>\n",
       "      <td>0.686939</td>\n",
       "      <td>0.8750</td>\n",
       "      <td>0.000000</td>\n",
       "      <td>2</td>\n",
       "    </tr>\n",
       "    <tr>\n",
       "      <th>28</th>\n",
       "      <td>0.294750</td>\n",
       "      <td>1.765911e-10</td>\n",
       "      <td>0.000006</td>\n",
       "      <td>0.627617</td>\n",
       "      <td>0.8125</td>\n",
       "      <td>0.333333</td>\n",
       "      <td>2</td>\n",
       "    </tr>\n",
       "    <tr>\n",
       "      <th>29</th>\n",
       "      <td>0.180750</td>\n",
       "      <td>9.418191e-11</td>\n",
       "      <td>0.000007</td>\n",
       "      <td>0.701894</td>\n",
       "      <td>0.4375</td>\n",
       "      <td>0.333333</td>\n",
       "      <td>2</td>\n",
       "    </tr>\n",
       "    <tr>\n",
       "      <th>26</th>\n",
       "      <td>0.214250</td>\n",
       "      <td>9.535919e-10</td>\n",
       "      <td>0.000005</td>\n",
       "      <td>0.707876</td>\n",
       "      <td>0.1250</td>\n",
       "      <td>0.000000</td>\n",
       "      <td>2</td>\n",
       "    </tr>\n",
       "    <tr>\n",
       "      <th>25</th>\n",
       "      <td>0.324750</td>\n",
       "      <td>1.000683e-10</td>\n",
       "      <td>0.000005</td>\n",
       "      <td>0.609671</td>\n",
       "      <td>0.8125</td>\n",
       "      <td>0.333333</td>\n",
       "      <td>2</td>\n",
       "    </tr>\n",
       "    <tr>\n",
       "      <th>24</th>\n",
       "      <td>0.412500</td>\n",
       "      <td>1.530456e-08</td>\n",
       "      <td>0.000007</td>\n",
       "      <td>0.592722</td>\n",
       "      <td>0.0625</td>\n",
       "      <td>0.166667</td>\n",
       "      <td>2</td>\n",
       "    </tr>\n",
       "    <tr>\n",
       "      <th>23</th>\n",
       "      <td>0.212500</td>\n",
       "      <td>5.886370e-10</td>\n",
       "      <td>0.000005</td>\n",
       "      <td>0.722832</td>\n",
       "      <td>0.5625</td>\n",
       "      <td>0.000000</td>\n",
       "      <td>2</td>\n",
       "    </tr>\n",
       "    <tr>\n",
       "      <th>22</th>\n",
       "      <td>0.180500</td>\n",
       "      <td>2.001366e-10</td>\n",
       "      <td>0.000006</td>\n",
       "      <td>0.709372</td>\n",
       "      <td>0.5625</td>\n",
       "      <td>0.333333</td>\n",
       "      <td>2</td>\n",
       "    </tr>\n",
       "    <tr>\n",
       "      <th>81</th>\n",
       "      <td>0.264350</td>\n",
       "      <td>1.648183e-10</td>\n",
       "      <td>0.000005</td>\n",
       "      <td>0.599202</td>\n",
       "      <td>0.5625</td>\n",
       "      <td>0.333333</td>\n",
       "      <td>2</td>\n",
       "    </tr>\n",
       "    <tr>\n",
       "      <th>21</th>\n",
       "      <td>0.193500</td>\n",
       "      <td>5.768642e-10</td>\n",
       "      <td>0.000006</td>\n",
       "      <td>0.698903</td>\n",
       "      <td>0.5625</td>\n",
       "      <td>0.000000</td>\n",
       "      <td>2</td>\n",
       "    </tr>\n",
       "    <tr>\n",
       "      <th>20</th>\n",
       "      <td>0.625000</td>\n",
       "      <td>6.592734e-08</td>\n",
       "      <td>0.000004</td>\n",
       "      <td>0.527418</td>\n",
       "      <td>0.0625</td>\n",
       "      <td>0.166667</td>\n",
       "      <td>2</td>\n",
       "    </tr>\n",
       "    <tr>\n",
       "      <th>27</th>\n",
       "      <td>0.192500</td>\n",
       "      <td>1.295001e-10</td>\n",
       "      <td>0.000007</td>\n",
       "      <td>0.721336</td>\n",
       "      <td>0.8125</td>\n",
       "      <td>0.333333</td>\n",
       "      <td>2</td>\n",
       "    </tr>\n",
       "  </tbody>\n",
       "</table>\n",
       "</div>"
      ],
      "text/plain": [
       "     Temperature             L         R       A_M   Color  Spectral_Class  \\\n",
       "148     0.193075  1.648183e-10  0.000005  0.738285  0.5625        0.000000   \n",
       "141     0.525500  1.765911e-09  0.000006  0.574277  0.0000        0.166667   \n",
       "205     0.498000  1.836547e-09  0.000007  0.565304  0.0000        0.166667   \n",
       "204     0.458500  1.577547e-09  0.000006  0.559322  0.0000        0.166667   \n",
       "203     0.333500  1.283229e-09  0.000006  0.643071  0.0000        0.166667   \n",
       "202     0.374550  1.389183e-09  0.000006  0.609671  0.0000        0.166667   \n",
       "201     0.392000  1.436274e-09  0.000006  0.594217  0.0000        0.166667   \n",
       "200     0.419750  1.648183e-09  0.000006  0.641575  0.0000        0.166667   \n",
       "208     0.448000  1.306774e-09  0.000005  0.581256  0.0000        0.166667   \n",
       "209     0.484000  1.471592e-09  0.000005  0.579262  0.0000        0.166667   \n",
       "149     0.324600  1.036001e-09  0.000005  0.559821  0.0625        0.166667   \n",
       "147     0.368300  1.295001e-10  0.000005  0.642572  0.8750        0.333333   \n",
       "146     0.322800  8.358645e-10  0.000005  0.639581  0.1250        0.166667   \n",
       "145     0.223100  3.296367e-10  0.000005  0.741276  0.1250        0.000000   \n",
       "144     0.297500  7.887735e-10  0.000005  0.567298  0.1250        0.166667   \n",
       "143     0.363000  9.653646e-10  0.000005  0.594217  0.0625        0.166667   \n",
       "142     0.457250  1.530456e-09  0.000005  0.637089  0.0000        0.166667   \n",
       "140     0.335500  6.945916e-10  0.000005  0.681456  0.0625        0.166667   \n",
       "206     0.600500  1.871866e-09  0.000007  0.525922  0.0000        0.166667   \n",
       "207     0.577300  1.554002e-09  0.000005  0.507478  0.0000        0.166667   \n",
       "83      0.430000  1.153728e-09  0.000008  0.620638  0.0625        0.166667   \n",
       "89      0.496500  1.295001e-09  0.000007  0.565304  0.0000        0.166667   \n",
       "80      0.177500  3.414094e-10  0.000006  0.702393  0.6250        0.333333   \n",
       "88      0.343000  2.119093e-10  0.000005  0.646560  0.8750        0.333333   \n",
       "87      0.274500  8.711827e-10  0.000004  0.557827  0.0625        0.166667   \n",
       "86      0.300250  9.182736e-10  0.000005  0.604686  0.0625        0.166667   \n",
       "85      0.241875  5.297733e-10  0.000006  0.696909  0.0625        0.000000   \n",
       "84      0.352500  7.887735e-10  0.000005  0.606680  0.0625        0.166667   \n",
       "82      0.223250  6.592734e-10  0.000005  0.686939  0.8750        0.000000   \n",
       "28      0.294750  1.765911e-10  0.000006  0.627617  0.8125        0.333333   \n",
       "29      0.180750  9.418191e-11  0.000007  0.701894  0.4375        0.333333   \n",
       "26      0.214250  9.535919e-10  0.000005  0.707876  0.1250        0.000000   \n",
       "25      0.324750  1.000683e-10  0.000005  0.609671  0.8125        0.333333   \n",
       "24      0.412500  1.530456e-08  0.000007  0.592722  0.0625        0.166667   \n",
       "23      0.212500  5.886370e-10  0.000005  0.722832  0.5625        0.000000   \n",
       "22      0.180500  2.001366e-10  0.000006  0.709372  0.5625        0.333333   \n",
       "81      0.264350  1.648183e-10  0.000005  0.599202  0.5625        0.333333   \n",
       "21      0.193500  5.768642e-10  0.000006  0.698903  0.5625        0.000000   \n",
       "20      0.625000  6.592734e-08  0.000004  0.527418  0.0625        0.166667   \n",
       "27      0.192500  1.295001e-10  0.000007  0.721336  0.8125        0.333333   \n",
       "\n",
       "     Type  \n",
       "148     2  \n",
       "141     2  \n",
       "205     2  \n",
       "204     2  \n",
       "203     2  \n",
       "202     2  \n",
       "201     2  \n",
       "200     2  \n",
       "208     2  \n",
       "209     2  \n",
       "149     2  \n",
       "147     2  \n",
       "146     2  \n",
       "145     2  \n",
       "144     2  \n",
       "143     2  \n",
       "142     2  \n",
       "140     2  \n",
       "206     2  \n",
       "207     2  \n",
       "83      2  \n",
       "89      2  \n",
       "80      2  \n",
       "88      2  \n",
       "87      2  \n",
       "86      2  \n",
       "85      2  \n",
       "84      2  \n",
       "82      2  \n",
       "28      2  \n",
       "29      2  \n",
       "26      2  \n",
       "25      2  \n",
       "24      2  \n",
       "23      2  \n",
       "22      2  \n",
       "81      2  \n",
       "21      2  \n",
       "20      2  \n",
       "27      2  "
      ]
     },
     "metadata": {},
     "output_type": "display_data"
    },
    {
     "name": "stdout",
     "output_type": "stream",
     "text": [
      "<class 'pandas.core.frame.DataFrame'>\n",
      "Int64Index: 40 entries, 148 to 27\n",
      "Data columns (total 7 columns):\n",
      " #   Column          Non-Null Count  Dtype  \n",
      "---  ------          --------------  -----  \n",
      " 0   Temperature     40 non-null     float64\n",
      " 1   L               40 non-null     float64\n",
      " 2   R               40 non-null     float64\n",
      " 3   A_M             40 non-null     float64\n",
      " 4   Color           40 non-null     float64\n",
      " 5   Spectral_Class  40 non-null     float64\n",
      " 6   Type            40 non-null     int64  \n",
      "dtypes: float64(6), int64(1)\n",
      "memory usage: 2.5 KB\n"
     ]
    },
    {
     "data": {
      "text/html": [
       "<div>\n",
       "<style scoped>\n",
       "    .dataframe tbody tr th:only-of-type {\n",
       "        vertical-align: middle;\n",
       "    }\n",
       "\n",
       "    .dataframe tbody tr th {\n",
       "        vertical-align: top;\n",
       "    }\n",
       "\n",
       "    .dataframe thead th {\n",
       "        text-align: right;\n",
       "    }\n",
       "</style>\n",
       "<table border=\"1\" class=\"dataframe\">\n",
       "  <thead>\n",
       "    <tr style=\"text-align: right;\">\n",
       "      <th></th>\n",
       "      <th>Temperature</th>\n",
       "      <th>L</th>\n",
       "      <th>R</th>\n",
       "      <th>A_M</th>\n",
       "      <th>Color</th>\n",
       "      <th>Spectral_Class</th>\n",
       "      <th>Type</th>\n",
       "    </tr>\n",
       "  </thead>\n",
       "  <tbody>\n",
       "    <tr>\n",
       "      <th>count</th>\n",
       "      <td>40.000000</td>\n",
       "      <td>4.000000e+01</td>\n",
       "      <td>4.000000e+01</td>\n",
       "      <td>40.000000</td>\n",
       "      <td>40.000000</td>\n",
       "      <td>40.000000</td>\n",
       "      <td>40.0</td>\n",
       "    </tr>\n",
       "    <tr>\n",
       "      <th>mean</th>\n",
       "      <td>0.348286</td>\n",
       "      <td>2.865043e-09</td>\n",
       "      <td>5.505902e-06</td>\n",
       "      <td>0.627243</td>\n",
       "      <td>0.251563</td>\n",
       "      <td>0.175000</td>\n",
       "      <td>2.0</td>\n",
       "    </tr>\n",
       "    <tr>\n",
       "      <th>std</th>\n",
       "      <td>0.123941</td>\n",
       "      <td>1.049245e-08</td>\n",
       "      <td>8.854039e-07</td>\n",
       "      <td>0.063728</td>\n",
       "      <td>0.320721</td>\n",
       "      <td>0.106418</td>\n",
       "      <td>0.0</td>\n",
       "    </tr>\n",
       "    <tr>\n",
       "      <th>min</th>\n",
       "      <td>0.177500</td>\n",
       "      <td>9.418191e-11</td>\n",
       "      <td>4.311008e-06</td>\n",
       "      <td>0.507478</td>\n",
       "      <td>0.000000</td>\n",
       "      <td>0.000000</td>\n",
       "      <td>2.0</td>\n",
       "    </tr>\n",
       "    <tr>\n",
       "      <th>25%</th>\n",
       "      <td>0.237219</td>\n",
       "      <td>3.384662e-10</td>\n",
       "      <td>4.775468e-06</td>\n",
       "      <td>0.578016</td>\n",
       "      <td>0.000000</td>\n",
       "      <td>0.166667</td>\n",
       "      <td>2.0</td>\n",
       "    </tr>\n",
       "    <tr>\n",
       "      <th>50%</th>\n",
       "      <td>0.334500</td>\n",
       "      <td>8.947282e-10</td>\n",
       "      <td>5.234796e-06</td>\n",
       "      <td>0.615155</td>\n",
       "      <td>0.062500</td>\n",
       "      <td>0.166667</td>\n",
       "      <td>2.0</td>\n",
       "    </tr>\n",
       "    <tr>\n",
       "      <th>75%</th>\n",
       "      <td>0.434500</td>\n",
       "      <td>1.445104e-09</td>\n",
       "      <td>6.171414e-06</td>\n",
       "      <td>0.689432</td>\n",
       "      <td>0.562500</td>\n",
       "      <td>0.166667</td>\n",
       "      <td>2.0</td>\n",
       "    </tr>\n",
       "    <tr>\n",
       "      <th>max</th>\n",
       "      <td>0.625000</td>\n",
       "      <td>6.592734e-08</td>\n",
       "      <td>7.698229e-06</td>\n",
       "      <td>0.741276</td>\n",
       "      <td>0.875000</td>\n",
       "      <td>0.333333</td>\n",
       "      <td>2.0</td>\n",
       "    </tr>\n",
       "  </tbody>\n",
       "</table>\n",
       "</div>"
      ],
      "text/plain": [
       "       Temperature             L             R        A_M      Color  \\\n",
       "count    40.000000  4.000000e+01  4.000000e+01  40.000000  40.000000   \n",
       "mean      0.348286  2.865043e-09  5.505902e-06   0.627243   0.251563   \n",
       "std       0.123941  1.049245e-08  8.854039e-07   0.063728   0.320721   \n",
       "min       0.177500  9.418191e-11  4.311008e-06   0.507478   0.000000   \n",
       "25%       0.237219  3.384662e-10  4.775468e-06   0.578016   0.000000   \n",
       "50%       0.334500  8.947282e-10  5.234796e-06   0.615155   0.062500   \n",
       "75%       0.434500  1.445104e-09  6.171414e-06   0.689432   0.562500   \n",
       "max       0.625000  6.592734e-08  7.698229e-06   0.741276   0.875000   \n",
       "\n",
       "       Spectral_Class  Type  \n",
       "count       40.000000  40.0  \n",
       "mean         0.175000   2.0  \n",
       "std          0.106418   0.0  \n",
       "min          0.000000   2.0  \n",
       "25%          0.166667   2.0  \n",
       "50%          0.166667   2.0  \n",
       "75%          0.166667   2.0  \n",
       "max          0.333333   2.0  "
      ]
     },
     "metadata": {},
     "output_type": "display_data"
    },
    {
     "name": "stdout",
     "output_type": "stream",
     "text": [
      "========================================================================\n",
      "| Classe: 3 |\n"
     ]
    },
    {
     "data": {
      "text/html": [
       "<div>\n",
       "<style scoped>\n",
       "    .dataframe tbody tr th:only-of-type {\n",
       "        vertical-align: middle;\n",
       "    }\n",
       "\n",
       "    .dataframe tbody tr th {\n",
       "        vertical-align: top;\n",
       "    }\n",
       "\n",
       "    .dataframe thead th {\n",
       "        text-align: right;\n",
       "    }\n",
       "</style>\n",
       "<table border=\"1\" class=\"dataframe\">\n",
       "  <thead>\n",
       "    <tr style=\"text-align: right;\">\n",
       "      <th></th>\n",
       "      <th>Temperature</th>\n",
       "      <th>L</th>\n",
       "      <th>R</th>\n",
       "      <th>A_M</th>\n",
       "      <th>Color</th>\n",
       "      <th>Spectral_Class</th>\n",
       "      <th>Type</th>\n",
       "    </tr>\n",
       "  </thead>\n",
       "  <tbody>\n",
       "    <tr>\n",
       "      <th>151</th>\n",
       "      <td>0.223625</td>\n",
       "      <td>4.473641e-05</td>\n",
       "      <td>0.001276</td>\n",
       "      <td>0.005982</td>\n",
       "      <td>0.1875</td>\n",
       "      <td>0.000000</td>\n",
       "      <td>3</td>\n",
       "    </tr>\n",
       "    <tr>\n",
       "      <th>39</th>\n",
       "      <td>0.139675</td>\n",
       "      <td>9.641873e-07</td>\n",
       "      <td>0.000508</td>\n",
       "      <td>0.250748</td>\n",
       "      <td>0.9375</td>\n",
       "      <td>0.333333</td>\n",
       "      <td>3</td>\n",
       "    </tr>\n",
       "    <tr>\n",
       "      <th>150</th>\n",
       "      <td>0.739000</td>\n",
       "      <td>2.213275e-01</td>\n",
       "      <td>0.003090</td>\n",
       "      <td>-0.199900</td>\n",
       "      <td>0.2500</td>\n",
       "      <td>0.166667</td>\n",
       "      <td>3</td>\n",
       "    </tr>\n",
       "    <tr>\n",
       "      <th>152</th>\n",
       "      <td>0.351500</td>\n",
       "      <td>1.285583e-03</td>\n",
       "      <td>0.002948</td>\n",
       "      <td>-0.101695</td>\n",
       "      <td>0.2500</td>\n",
       "      <td>0.000000</td>\n",
       "      <td>3</td>\n",
       "    </tr>\n",
       "    <tr>\n",
       "      <th>158</th>\n",
       "      <td>0.325575</td>\n",
       "      <td>1.174919e-03</td>\n",
       "      <td>0.003187</td>\n",
       "      <td>-0.068794</td>\n",
       "      <td>0.2500</td>\n",
       "      <td>0.000000</td>\n",
       "      <td>3</td>\n",
       "    </tr>\n",
       "    <tr>\n",
       "      <th>154</th>\n",
       "      <td>0.626750</td>\n",
       "      <td>1.707047e-02</td>\n",
       "      <td>0.003038</td>\n",
       "      <td>-0.198405</td>\n",
       "      <td>0.2500</td>\n",
       "      <td>0.166667</td>\n",
       "      <td>3</td>\n",
       "    </tr>\n",
       "    <tr>\n",
       "      <th>155</th>\n",
       "      <td>0.717500</td>\n",
       "      <td>1.976643e-02</td>\n",
       "      <td>0.003285</td>\n",
       "      <td>-0.203888</td>\n",
       "      <td>0.2500</td>\n",
       "      <td>0.166667</td>\n",
       "      <td>3</td>\n",
       "    </tr>\n",
       "    <tr>\n",
       "      <th>156</th>\n",
       "      <td>0.653500</td>\n",
       "      <td>1.709402e-02</td>\n",
       "      <td>0.002818</td>\n",
       "      <td>-0.189432</td>\n",
       "      <td>0.2500</td>\n",
       "      <td>0.166667</td>\n",
       "      <td>3</td>\n",
       "    </tr>\n",
       "    <tr>\n",
       "      <th>157</th>\n",
       "      <td>0.503000</td>\n",
       "      <td>5.556733e-03</td>\n",
       "      <td>0.003480</td>\n",
       "      <td>-0.169492</td>\n",
       "      <td>0.2500</td>\n",
       "      <td>0.166667</td>\n",
       "      <td>3</td>\n",
       "    </tr>\n",
       "    <tr>\n",
       "      <th>159</th>\n",
       "      <td>0.945000</td>\n",
       "      <td>2.388689e-01</td>\n",
       "      <td>0.003521</td>\n",
       "      <td>-0.227318</td>\n",
       "      <td>0.0000</td>\n",
       "      <td>1.000000</td>\n",
       "      <td>3</td>\n",
       "    </tr>\n",
       "    <tr>\n",
       "      <th>210</th>\n",
       "      <td>0.558750</td>\n",
       "      <td>1.465706e-02</td>\n",
       "      <td>0.003264</td>\n",
       "      <td>-0.182951</td>\n",
       "      <td>0.2500</td>\n",
       "      <td>0.166667</td>\n",
       "      <td>3</td>\n",
       "    </tr>\n",
       "    <tr>\n",
       "      <th>211</th>\n",
       "      <td>0.250300</td>\n",
       "      <td>6.498552e-04</td>\n",
       "      <td>0.003005</td>\n",
       "      <td>0.000648</td>\n",
       "      <td>0.2500</td>\n",
       "      <td>0.000000</td>\n",
       "      <td>3</td>\n",
       "    </tr>\n",
       "    <tr>\n",
       "      <th>212</th>\n",
       "      <td>0.327225</td>\n",
       "      <td>9.276918e-04</td>\n",
       "      <td>0.003075</td>\n",
       "      <td>-0.005982</td>\n",
       "      <td>0.2500</td>\n",
       "      <td>0.000000</td>\n",
       "      <td>3</td>\n",
       "    </tr>\n",
       "    <tr>\n",
       "      <th>213</th>\n",
       "      <td>0.550300</td>\n",
       "      <td>7.944244e-03</td>\n",
       "      <td>0.003408</td>\n",
       "      <td>-0.127119</td>\n",
       "      <td>0.2500</td>\n",
       "      <td>0.166667</td>\n",
       "      <td>3</td>\n",
       "    </tr>\n",
       "    <tr>\n",
       "      <th>214</th>\n",
       "      <td>0.854750</td>\n",
       "      <td>2.333357e-01</td>\n",
       "      <td>0.003279</td>\n",
       "      <td>-0.227817</td>\n",
       "      <td>0.0000</td>\n",
       "      <td>1.000000</td>\n",
       "      <td>3</td>\n",
       "    </tr>\n",
       "    <tr>\n",
       "      <th>215</th>\n",
       "      <td>0.811500</td>\n",
       "      <td>2.046102e-01</td>\n",
       "      <td>0.003201</td>\n",
       "      <td>-0.217348</td>\n",
       "      <td>0.0000</td>\n",
       "      <td>1.000000</td>\n",
       "      <td>3</td>\n",
       "    </tr>\n",
       "    <tr>\n",
       "      <th>216</th>\n",
       "      <td>0.233000</td>\n",
       "      <td>3.414094e-05</td>\n",
       "      <td>0.000980</td>\n",
       "      <td>0.061615</td>\n",
       "      <td>0.2500</td>\n",
       "      <td>0.000000</td>\n",
       "      <td>3</td>\n",
       "    </tr>\n",
       "    <tr>\n",
       "      <th>99</th>\n",
       "      <td>0.902700</td>\n",
       "      <td>2.331002e-01</td>\n",
       "      <td>0.005235</td>\n",
       "      <td>-0.219342</td>\n",
       "      <td>0.0000</td>\n",
       "      <td>1.000000</td>\n",
       "      <td>3</td>\n",
       "    </tr>\n",
       "    <tr>\n",
       "      <th>38</th>\n",
       "      <td>0.148400</td>\n",
       "      <td>1.597561e-06</td>\n",
       "      <td>0.000568</td>\n",
       "      <td>0.222333</td>\n",
       "      <td>0.9375</td>\n",
       "      <td>0.333333</td>\n",
       "      <td>3</td>\n",
       "    </tr>\n",
       "    <tr>\n",
       "      <th>153</th>\n",
       "      <td>0.409750</td>\n",
       "      <td>1.504556e-03</td>\n",
       "      <td>0.002915</td>\n",
       "      <td>-0.165503</td>\n",
       "      <td>0.2500</td>\n",
       "      <td>0.166667</td>\n",
       "      <td>3</td>\n",
       "    </tr>\n",
       "    <tr>\n",
       "      <th>36</th>\n",
       "      <td>0.168925</td>\n",
       "      <td>1.683502e-06</td>\n",
       "      <td>0.000575</td>\n",
       "      <td>0.120140</td>\n",
       "      <td>0.9375</td>\n",
       "      <td>0.333333</td>\n",
       "      <td>3</td>\n",
       "    </tr>\n",
       "    <tr>\n",
       "      <th>98</th>\n",
       "      <td>0.302450</td>\n",
       "      <td>8.111417e-04</td>\n",
       "      <td>0.003598</td>\n",
       "      <td>0.000997</td>\n",
       "      <td>0.2500</td>\n",
       "      <td>0.000000</td>\n",
       "      <td>3</td>\n",
       "    </tr>\n",
       "    <tr>\n",
       "      <th>30</th>\n",
       "      <td>0.975000</td>\n",
       "      <td>2.401639e-01</td>\n",
       "      <td>0.005440</td>\n",
       "      <td>-0.234297</td>\n",
       "      <td>0.0000</td>\n",
       "      <td>1.000000</td>\n",
       "      <td>3</td>\n",
       "    </tr>\n",
       "    <tr>\n",
       "      <th>31</th>\n",
       "      <td>0.750000</td>\n",
       "      <td>3.395258e-02</td>\n",
       "      <td>0.003233</td>\n",
       "      <td>-0.209372</td>\n",
       "      <td>0.2500</td>\n",
       "      <td>0.166667</td>\n",
       "      <td>3</td>\n",
       "    </tr>\n",
       "    <tr>\n",
       "      <th>32</th>\n",
       "      <td>0.381900</td>\n",
       "      <td>1.337383e-03</td>\n",
       "      <td>0.003695</td>\n",
       "      <td>-0.098205</td>\n",
       "      <td>0.2500</td>\n",
       "      <td>0.166667</td>\n",
       "      <td>3</td>\n",
       "    </tr>\n",
       "    <tr>\n",
       "      <th>33</th>\n",
       "      <td>0.242500</td>\n",
       "      <td>8.711827e-05</td>\n",
       "      <td>0.001483</td>\n",
       "      <td>0.007976</td>\n",
       "      <td>0.6875</td>\n",
       "      <td>0.166667</td>\n",
       "      <td>3</td>\n",
       "    </tr>\n",
       "    <tr>\n",
       "      <th>34</th>\n",
       "      <td>0.145000</td>\n",
       "      <td>9.535919e-07</td>\n",
       "      <td>0.000462</td>\n",
       "      <td>0.251745</td>\n",
       "      <td>0.9375</td>\n",
       "      <td>0.333333</td>\n",
       "      <td>3</td>\n",
       "    </tr>\n",
       "    <tr>\n",
       "      <th>35</th>\n",
       "      <td>0.201300</td>\n",
       "      <td>1.024228e-05</td>\n",
       "      <td>0.000924</td>\n",
       "      <td>0.120638</td>\n",
       "      <td>0.6875</td>\n",
       "      <td>0.000000</td>\n",
       "      <td>3</td>\n",
       "    </tr>\n",
       "    <tr>\n",
       "      <th>219</th>\n",
       "      <td>0.206250</td>\n",
       "      <td>1.088978e-05</td>\n",
       "      <td>0.000991</td>\n",
       "      <td>-0.048853</td>\n",
       "      <td>0.9375</td>\n",
       "      <td>0.333333</td>\n",
       "      <td>3</td>\n",
       "    </tr>\n",
       "    <tr>\n",
       "      <th>218</th>\n",
       "      <td>0.428500</td>\n",
       "      <td>1.039533e-03</td>\n",
       "      <td>0.002901</td>\n",
       "      <td>-0.131605</td>\n",
       "      <td>0.2500</td>\n",
       "      <td>0.166667</td>\n",
       "      <td>3</td>\n",
       "    </tr>\n",
       "    <tr>\n",
       "      <th>97</th>\n",
       "      <td>0.193000</td>\n",
       "      <td>9.324009e-06</td>\n",
       "      <td>0.000688</td>\n",
       "      <td>0.121635</td>\n",
       "      <td>0.9375</td>\n",
       "      <td>0.333333</td>\n",
       "      <td>3</td>\n",
       "    </tr>\n",
       "    <tr>\n",
       "      <th>96</th>\n",
       "      <td>0.127800</td>\n",
       "      <td>7.416826e-07</td>\n",
       "      <td>0.000450</td>\n",
       "      <td>0.233300</td>\n",
       "      <td>0.3750</td>\n",
       "      <td>0.666667</td>\n",
       "      <td>3</td>\n",
       "    </tr>\n",
       "    <tr>\n",
       "      <th>95</th>\n",
       "      <td>0.281250</td>\n",
       "      <td>7.911281e-04</td>\n",
       "      <td>0.003582</td>\n",
       "      <td>-0.114656</td>\n",
       "      <td>0.2500</td>\n",
       "      <td>0.000000</td>\n",
       "      <td>3</td>\n",
       "    </tr>\n",
       "    <tr>\n",
       "      <th>37</th>\n",
       "      <td>0.159500</td>\n",
       "      <td>1.589320e-06</td>\n",
       "      <td>0.000503</td>\n",
       "      <td>0.146062</td>\n",
       "      <td>0.9375</td>\n",
       "      <td>0.333333</td>\n",
       "      <td>3</td>\n",
       "    </tr>\n",
       "    <tr>\n",
       "      <th>94</th>\n",
       "      <td>0.225750</td>\n",
       "      <td>5.297733e-05</td>\n",
       "      <td>0.001350</td>\n",
       "      <td>0.072283</td>\n",
       "      <td>0.2500</td>\n",
       "      <td>0.000000</td>\n",
       "      <td>3</td>\n",
       "    </tr>\n",
       "    <tr>\n",
       "      <th>92</th>\n",
       "      <td>0.101925</td>\n",
       "      <td>1.000683e-07</td>\n",
       "      <td>0.000408</td>\n",
       "      <td>0.310469</td>\n",
       "      <td>1.0000</td>\n",
       "      <td>0.666667</td>\n",
       "      <td>3</td>\n",
       "    </tr>\n",
       "    <tr>\n",
       "      <th>91</th>\n",
       "      <td>0.113150</td>\n",
       "      <td>1.801229e-07</td>\n",
       "      <td>0.000444</td>\n",
       "      <td>0.324327</td>\n",
       "      <td>1.0000</td>\n",
       "      <td>0.666667</td>\n",
       "      <td>3</td>\n",
       "    </tr>\n",
       "    <tr>\n",
       "      <th>90</th>\n",
       "      <td>0.132500</td>\n",
       "      <td>6.945916e-07</td>\n",
       "      <td>0.000467</td>\n",
       "      <td>0.273679</td>\n",
       "      <td>0.9375</td>\n",
       "      <td>0.333333</td>\n",
       "      <td>3</td>\n",
       "    </tr>\n",
       "    <tr>\n",
       "      <th>217</th>\n",
       "      <td>0.485000</td>\n",
       "      <td>1.285583e-02</td>\n",
       "      <td>0.003095</td>\n",
       "      <td>-0.153539</td>\n",
       "      <td>0.2500</td>\n",
       "      <td>0.166667</td>\n",
       "      <td>3</td>\n",
       "    </tr>\n",
       "    <tr>\n",
       "      <th>93</th>\n",
       "      <td>0.124500</td>\n",
       "      <td>4.202868e-07</td>\n",
       "      <td>0.000580</td>\n",
       "      <td>0.238285</td>\n",
       "      <td>0.7500</td>\n",
       "      <td>0.666667</td>\n",
       "      <td>3</td>\n",
       "    </tr>\n",
       "  </tbody>\n",
       "</table>\n",
       "</div>"
      ],
      "text/plain": [
       "     Temperature             L         R       A_M   Color  Spectral_Class  \\\n",
       "151     0.223625  4.473641e-05  0.001276  0.005982  0.1875        0.000000   \n",
       "39      0.139675  9.641873e-07  0.000508  0.250748  0.9375        0.333333   \n",
       "150     0.739000  2.213275e-01  0.003090 -0.199900  0.2500        0.166667   \n",
       "152     0.351500  1.285583e-03  0.002948 -0.101695  0.2500        0.000000   \n",
       "158     0.325575  1.174919e-03  0.003187 -0.068794  0.2500        0.000000   \n",
       "154     0.626750  1.707047e-02  0.003038 -0.198405  0.2500        0.166667   \n",
       "155     0.717500  1.976643e-02  0.003285 -0.203888  0.2500        0.166667   \n",
       "156     0.653500  1.709402e-02  0.002818 -0.189432  0.2500        0.166667   \n",
       "157     0.503000  5.556733e-03  0.003480 -0.169492  0.2500        0.166667   \n",
       "159     0.945000  2.388689e-01  0.003521 -0.227318  0.0000        1.000000   \n",
       "210     0.558750  1.465706e-02  0.003264 -0.182951  0.2500        0.166667   \n",
       "211     0.250300  6.498552e-04  0.003005  0.000648  0.2500        0.000000   \n",
       "212     0.327225  9.276918e-04  0.003075 -0.005982  0.2500        0.000000   \n",
       "213     0.550300  7.944244e-03  0.003408 -0.127119  0.2500        0.166667   \n",
       "214     0.854750  2.333357e-01  0.003279 -0.227817  0.0000        1.000000   \n",
       "215     0.811500  2.046102e-01  0.003201 -0.217348  0.0000        1.000000   \n",
       "216     0.233000  3.414094e-05  0.000980  0.061615  0.2500        0.000000   \n",
       "99      0.902700  2.331002e-01  0.005235 -0.219342  0.0000        1.000000   \n",
       "38      0.148400  1.597561e-06  0.000568  0.222333  0.9375        0.333333   \n",
       "153     0.409750  1.504556e-03  0.002915 -0.165503  0.2500        0.166667   \n",
       "36      0.168925  1.683502e-06  0.000575  0.120140  0.9375        0.333333   \n",
       "98      0.302450  8.111417e-04  0.003598  0.000997  0.2500        0.000000   \n",
       "30      0.975000  2.401639e-01  0.005440 -0.234297  0.0000        1.000000   \n",
       "31      0.750000  3.395258e-02  0.003233 -0.209372  0.2500        0.166667   \n",
       "32      0.381900  1.337383e-03  0.003695 -0.098205  0.2500        0.166667   \n",
       "33      0.242500  8.711827e-05  0.001483  0.007976  0.6875        0.166667   \n",
       "34      0.145000  9.535919e-07  0.000462  0.251745  0.9375        0.333333   \n",
       "35      0.201300  1.024228e-05  0.000924  0.120638  0.6875        0.000000   \n",
       "219     0.206250  1.088978e-05  0.000991 -0.048853  0.9375        0.333333   \n",
       "218     0.428500  1.039533e-03  0.002901 -0.131605  0.2500        0.166667   \n",
       "97      0.193000  9.324009e-06  0.000688  0.121635  0.9375        0.333333   \n",
       "96      0.127800  7.416826e-07  0.000450  0.233300  0.3750        0.666667   \n",
       "95      0.281250  7.911281e-04  0.003582 -0.114656  0.2500        0.000000   \n",
       "37      0.159500  1.589320e-06  0.000503  0.146062  0.9375        0.333333   \n",
       "94      0.225750  5.297733e-05  0.001350  0.072283  0.2500        0.000000   \n",
       "92      0.101925  1.000683e-07  0.000408  0.310469  1.0000        0.666667   \n",
       "91      0.113150  1.801229e-07  0.000444  0.324327  1.0000        0.666667   \n",
       "90      0.132500  6.945916e-07  0.000467  0.273679  0.9375        0.333333   \n",
       "217     0.485000  1.285583e-02  0.003095 -0.153539  0.2500        0.166667   \n",
       "93      0.124500  4.202868e-07  0.000580  0.238285  0.7500        0.666667   \n",
       "\n",
       "     Type  \n",
       "151     3  \n",
       "39      3  \n",
       "150     3  \n",
       "152     3  \n",
       "158     3  \n",
       "154     3  \n",
       "155     3  \n",
       "156     3  \n",
       "157     3  \n",
       "159     3  \n",
       "210     3  \n",
       "211     3  \n",
       "212     3  \n",
       "213     3  \n",
       "214     3  \n",
       "215     3  \n",
       "216     3  \n",
       "99      3  \n",
       "38      3  \n",
       "153     3  \n",
       "36      3  \n",
       "98      3  \n",
       "30      3  \n",
       "31      3  \n",
       "32      3  \n",
       "33      3  \n",
       "34      3  \n",
       "35      3  \n",
       "219     3  \n",
       "218     3  \n",
       "97      3  \n",
       "96      3  \n",
       "95      3  \n",
       "37      3  \n",
       "94      3  \n",
       "92      3  \n",
       "91      3  \n",
       "90      3  \n",
       "217     3  \n",
       "93      3  "
      ]
     },
     "metadata": {},
     "output_type": "display_data"
    },
    {
     "name": "stdout",
     "output_type": "stream",
     "text": [
      "<class 'pandas.core.frame.DataFrame'>\n",
      "Int64Index: 40 entries, 151 to 93\n",
      "Data columns (total 7 columns):\n",
      " #   Column          Non-Null Count  Dtype  \n",
      "---  ------          --------------  -----  \n",
      " 0   Temperature     40 non-null     float64\n",
      " 1   L               40 non-null     float64\n",
      " 2   R               40 non-null     float64\n",
      " 3   A_M             40 non-null     float64\n",
      " 4   Color           40 non-null     float64\n",
      " 5   Spectral_Class  40 non-null     float64\n",
      " 6   Type            40 non-null     int64  \n",
      "dtypes: float64(6), int64(1)\n",
      "memory usage: 2.5 KB\n"
     ]
    },
    {
     "data": {
      "text/html": [
       "<div>\n",
       "<style scoped>\n",
       "    .dataframe tbody tr th:only-of-type {\n",
       "        vertical-align: middle;\n",
       "    }\n",
       "\n",
       "    .dataframe tbody tr th {\n",
       "        vertical-align: top;\n",
       "    }\n",
       "\n",
       "    .dataframe thead th {\n",
       "        text-align: right;\n",
       "    }\n",
       "</style>\n",
       "<table border=\"1\" class=\"dataframe\">\n",
       "  <thead>\n",
       "    <tr style=\"text-align: right;\">\n",
       "      <th></th>\n",
       "      <th>Temperature</th>\n",
       "      <th>L</th>\n",
       "      <th>R</th>\n",
       "      <th>A_M</th>\n",
       "      <th>Color</th>\n",
       "      <th>Spectral_Class</th>\n",
       "      <th>Type</th>\n",
       "    </tr>\n",
       "  </thead>\n",
       "  <tbody>\n",
       "    <tr>\n",
       "      <th>count</th>\n",
       "      <td>40.000000</td>\n",
       "      <td>4.000000e+01</td>\n",
       "      <td>40.000000</td>\n",
       "      <td>40.000000</td>\n",
       "      <td>40.000000</td>\n",
       "      <td>40.000000</td>\n",
       "      <td>40.0</td>\n",
       "    </tr>\n",
       "    <tr>\n",
       "      <th>mean</th>\n",
       "      <td>0.400450</td>\n",
       "      <td>3.775210e-02</td>\n",
       "      <td>0.002274</td>\n",
       "      <td>-0.018316</td>\n",
       "      <td>0.429688</td>\n",
       "      <td>0.312500</td>\n",
       "      <td>3.0</td>\n",
       "    </tr>\n",
       "    <tr>\n",
       "      <th>std</th>\n",
       "      <td>0.266531</td>\n",
       "      <td>8.164535e-02</td>\n",
       "      <td>0.001438</td>\n",
       "      <td>0.180139</td>\n",
       "      <td>0.342674</td>\n",
       "      <td>0.325085</td>\n",
       "      <td>0.0</td>\n",
       "    </tr>\n",
       "    <tr>\n",
       "      <th>min</th>\n",
       "      <td>0.101925</td>\n",
       "      <td>1.000683e-07</td>\n",
       "      <td>0.000408</td>\n",
       "      <td>-0.234297</td>\n",
       "      <td>0.000000</td>\n",
       "      <td>0.000000</td>\n",
       "      <td>3.0</td>\n",
       "    </tr>\n",
       "    <tr>\n",
       "      <th>25%</th>\n",
       "      <td>0.186981</td>\n",
       "      <td>7.413882e-06</td>\n",
       "      <td>0.000661</td>\n",
       "      <td>-0.184571</td>\n",
       "      <td>0.250000</td>\n",
       "      <td>0.125000</td>\n",
       "      <td>3.0</td>\n",
       "    </tr>\n",
       "    <tr>\n",
       "      <th>50%</th>\n",
       "      <td>0.314013</td>\n",
       "      <td>8.694168e-04</td>\n",
       "      <td>0.002932</td>\n",
       "      <td>-0.058824</td>\n",
       "      <td>0.250000</td>\n",
       "      <td>0.166667</td>\n",
       "      <td>3.0</td>\n",
       "    </tr>\n",
       "    <tr>\n",
       "      <th>75%</th>\n",
       "      <td>0.575750</td>\n",
       "      <td>1.526041e-02</td>\n",
       "      <td>0.003268</td>\n",
       "      <td>0.120887</td>\n",
       "      <td>0.796875</td>\n",
       "      <td>0.333333</td>\n",
       "      <td>3.0</td>\n",
       "    </tr>\n",
       "    <tr>\n",
       "      <th>max</th>\n",
       "      <td>0.975000</td>\n",
       "      <td>2.401639e-01</td>\n",
       "      <td>0.005440</td>\n",
       "      <td>0.324327</td>\n",
       "      <td>1.000000</td>\n",
       "      <td>1.000000</td>\n",
       "      <td>3.0</td>\n",
       "    </tr>\n",
       "  </tbody>\n",
       "</table>\n",
       "</div>"
      ],
      "text/plain": [
       "       Temperature             L          R        A_M      Color  \\\n",
       "count    40.000000  4.000000e+01  40.000000  40.000000  40.000000   \n",
       "mean      0.400450  3.775210e-02   0.002274  -0.018316   0.429688   \n",
       "std       0.266531  8.164535e-02   0.001438   0.180139   0.342674   \n",
       "min       0.101925  1.000683e-07   0.000408  -0.234297   0.000000   \n",
       "25%       0.186981  7.413882e-06   0.000661  -0.184571   0.250000   \n",
       "50%       0.314013  8.694168e-04   0.002932  -0.058824   0.250000   \n",
       "75%       0.575750  1.526041e-02   0.003268   0.120887   0.796875   \n",
       "max       0.975000  2.401639e-01   0.005440   0.324327   1.000000   \n",
       "\n",
       "       Spectral_Class  Type  \n",
       "count       40.000000  40.0  \n",
       "mean         0.312500   3.0  \n",
       "std          0.325085   0.0  \n",
       "min          0.000000   3.0  \n",
       "25%          0.125000   3.0  \n",
       "50%          0.166667   3.0  \n",
       "75%          0.333333   3.0  \n",
       "max          1.000000   3.0  "
      ]
     },
     "metadata": {},
     "output_type": "display_data"
    },
    {
     "name": "stdout",
     "output_type": "stream",
     "text": [
      "========================================================================\n",
      "| Classe: 4 |\n"
     ]
    },
    {
     "data": {
      "text/html": [
       "<div>\n",
       "<style scoped>\n",
       "    .dataframe tbody tr th:only-of-type {\n",
       "        vertical-align: middle;\n",
       "    }\n",
       "\n",
       "    .dataframe tbody tr th {\n",
       "        vertical-align: top;\n",
       "    }\n",
       "\n",
       "    .dataframe thead th {\n",
       "        text-align: right;\n",
       "    }\n",
       "</style>\n",
       "<table border=\"1\" class=\"dataframe\">\n",
       "  <thead>\n",
       "    <tr style=\"text-align: right;\">\n",
       "      <th></th>\n",
       "      <th>Temperature</th>\n",
       "      <th>L</th>\n",
       "      <th>R</th>\n",
       "      <th>A_M</th>\n",
       "      <th>Color</th>\n",
       "      <th>Spectral_Class</th>\n",
       "      <th>Type</th>\n",
       "    </tr>\n",
       "  </thead>\n",
       "  <tbody>\n",
       "    <tr>\n",
       "      <th>47</th>\n",
       "      <td>0.089350</td>\n",
       "      <td>0.235455</td>\n",
       "      <td>0.045676</td>\n",
       "      <td>-0.261216</td>\n",
       "      <td>0.5</td>\n",
       "      <td>0.833333</td>\n",
       "      <td>4</td>\n",
       "    </tr>\n",
       "    <tr>\n",
       "      <th>46</th>\n",
       "      <td>0.089375</td>\n",
       "      <td>0.144805</td>\n",
       "      <td>0.023095</td>\n",
       "      <td>-0.337986</td>\n",
       "      <td>0.5</td>\n",
       "      <td>0.833333</td>\n",
       "      <td>4</td>\n",
       "    </tr>\n",
       "    <tr>\n",
       "      <th>45</th>\n",
       "      <td>0.090000</td>\n",
       "      <td>0.376728</td>\n",
       "      <td>0.014883</td>\n",
       "      <td>-0.329013</td>\n",
       "      <td>0.5</td>\n",
       "      <td>0.833333</td>\n",
       "      <td>4</td>\n",
       "    </tr>\n",
       "    <tr>\n",
       "      <th>44</th>\n",
       "      <td>0.075200</td>\n",
       "      <td>0.329637</td>\n",
       "      <td>0.012830</td>\n",
       "      <td>-0.299103</td>\n",
       "      <td>0.5</td>\n",
       "      <td>0.833333</td>\n",
       "      <td>4</td>\n",
       "    </tr>\n",
       "    <tr>\n",
       "      <th>43</th>\n",
       "      <td>0.080000</td>\n",
       "      <td>0.229568</td>\n",
       "      <td>0.008725</td>\n",
       "      <td>-0.359920</td>\n",
       "      <td>0.5</td>\n",
       "      <td>0.833333</td>\n",
       "      <td>4</td>\n",
       "    </tr>\n",
       "    <tr>\n",
       "      <th>42</th>\n",
       "      <td>0.081750</td>\n",
       "      <td>0.176591</td>\n",
       "      <td>0.045163</td>\n",
       "      <td>-0.300100</td>\n",
       "      <td>0.5</td>\n",
       "      <td>0.833333</td>\n",
       "      <td>4</td>\n",
       "    </tr>\n",
       "    <tr>\n",
       "      <th>41</th>\n",
       "      <td>0.084125</td>\n",
       "      <td>0.400273</td>\n",
       "      <td>0.011804</td>\n",
       "      <td>-0.309073</td>\n",
       "      <td>0.5</td>\n",
       "      <td>0.833333</td>\n",
       "      <td>4</td>\n",
       "    </tr>\n",
       "    <tr>\n",
       "      <th>40</th>\n",
       "      <td>0.095650</td>\n",
       "      <td>0.235455</td>\n",
       "      <td>0.009751</td>\n",
       "      <td>-0.345464</td>\n",
       "      <td>0.5</td>\n",
       "      <td>0.833333</td>\n",
       "      <td>4</td>\n",
       "    </tr>\n",
       "    <tr>\n",
       "      <th>169</th>\n",
       "      <td>0.234325</td>\n",
       "      <td>0.499776</td>\n",
       "      <td>0.012317</td>\n",
       "      <td>-0.298604</td>\n",
       "      <td>0.0</td>\n",
       "      <td>1.000000</td>\n",
       "      <td>4</td>\n",
       "    </tr>\n",
       "    <tr>\n",
       "      <th>100</th>\n",
       "      <td>0.832500</td>\n",
       "      <td>0.282546</td>\n",
       "      <td>0.006159</td>\n",
       "      <td>-0.324028</td>\n",
       "      <td>0.0</td>\n",
       "      <td>0.166667</td>\n",
       "      <td>4</td>\n",
       "    </tr>\n",
       "    <tr>\n",
       "      <th>167</th>\n",
       "      <td>0.659325</td>\n",
       "      <td>0.233100</td>\n",
       "      <td>0.020015</td>\n",
       "      <td>-0.290628</td>\n",
       "      <td>0.0</td>\n",
       "      <td>1.000000</td>\n",
       "      <td>4</td>\n",
       "    </tr>\n",
       "    <tr>\n",
       "      <th>221</th>\n",
       "      <td>0.318725</td>\n",
       "      <td>0.391467</td>\n",
       "      <td>0.039004</td>\n",
       "      <td>-0.349950</td>\n",
       "      <td>0.0</td>\n",
       "      <td>1.000000</td>\n",
       "      <td>4</td>\n",
       "    </tr>\n",
       "    <tr>\n",
       "      <th>222</th>\n",
       "      <td>0.234575</td>\n",
       "      <td>0.403734</td>\n",
       "      <td>0.050295</td>\n",
       "      <td>-0.347956</td>\n",
       "      <td>0.0</td>\n",
       "      <td>1.000000</td>\n",
       "      <td>4</td>\n",
       "    </tr>\n",
       "    <tr>\n",
       "      <th>223</th>\n",
       "      <td>0.586000</td>\n",
       "      <td>0.632702</td>\n",
       "      <td>0.041570</td>\n",
       "      <td>-0.297856</td>\n",
       "      <td>0.0</td>\n",
       "      <td>1.000000</td>\n",
       "      <td>4</td>\n",
       "    </tr>\n",
       "    <tr>\n",
       "      <th>224</th>\n",
       "      <td>0.419675</td>\n",
       "      <td>0.290469</td>\n",
       "      <td>0.031819</td>\n",
       "      <td>-0.316550</td>\n",
       "      <td>0.0</td>\n",
       "      <td>1.000000</td>\n",
       "      <td>4</td>\n",
       "    </tr>\n",
       "    <tr>\n",
       "      <th>225</th>\n",
       "      <td>0.468350</td>\n",
       "      <td>0.264628</td>\n",
       "      <td>0.023608</td>\n",
       "      <td>-0.371386</td>\n",
       "      <td>0.0</td>\n",
       "      <td>1.000000</td>\n",
       "      <td>4</td>\n",
       "    </tr>\n",
       "    <tr>\n",
       "      <th>226</th>\n",
       "      <td>0.247300</td>\n",
       "      <td>0.699183</td>\n",
       "      <td>0.041057</td>\n",
       "      <td>-0.362014</td>\n",
       "      <td>0.0</td>\n",
       "      <td>1.000000</td>\n",
       "      <td>4</td>\n",
       "    </tr>\n",
       "    <tr>\n",
       "      <th>227</th>\n",
       "      <td>0.273250</td>\n",
       "      <td>0.922900</td>\n",
       "      <td>0.012830</td>\n",
       "      <td>-0.310269</td>\n",
       "      <td>0.0</td>\n",
       "      <td>1.000000</td>\n",
       "      <td>4</td>\n",
       "    </tr>\n",
       "    <tr>\n",
       "      <th>109</th>\n",
       "      <td>0.835525</td>\n",
       "      <td>0.414400</td>\n",
       "      <td>0.034385</td>\n",
       "      <td>-0.288634</td>\n",
       "      <td>0.0</td>\n",
       "      <td>1.000000</td>\n",
       "      <td>4</td>\n",
       "    </tr>\n",
       "    <tr>\n",
       "      <th>108</th>\n",
       "      <td>0.608625</td>\n",
       "      <td>0.167173</td>\n",
       "      <td>0.029253</td>\n",
       "      <td>-0.311067</td>\n",
       "      <td>0.0</td>\n",
       "      <td>1.000000</td>\n",
       "      <td>4</td>\n",
       "    </tr>\n",
       "    <tr>\n",
       "      <th>107</th>\n",
       "      <td>0.322325</td>\n",
       "      <td>0.216618</td>\n",
       "      <td>0.018476</td>\n",
       "      <td>-0.316052</td>\n",
       "      <td>0.0</td>\n",
       "      <td>1.000000</td>\n",
       "      <td>4</td>\n",
       "    </tr>\n",
       "    <tr>\n",
       "      <th>106</th>\n",
       "      <td>0.615750</td>\n",
       "      <td>0.427350</td>\n",
       "      <td>0.032333</td>\n",
       "      <td>-0.290628</td>\n",
       "      <td>0.0</td>\n",
       "      <td>1.000000</td>\n",
       "      <td>4</td>\n",
       "    </tr>\n",
       "    <tr>\n",
       "      <th>105</th>\n",
       "      <td>0.356125</td>\n",
       "      <td>0.271950</td>\n",
       "      <td>0.021555</td>\n",
       "      <td>-0.305085</td>\n",
       "      <td>0.0</td>\n",
       "      <td>1.000000</td>\n",
       "      <td>4</td>\n",
       "    </tr>\n",
       "    <tr>\n",
       "      <th>104</th>\n",
       "      <td>0.277400</td>\n",
       "      <td>0.131855</td>\n",
       "      <td>0.006159</td>\n",
       "      <td>-0.294616</td>\n",
       "      <td>0.0</td>\n",
       "      <td>1.000000</td>\n",
       "      <td>4</td>\n",
       "    </tr>\n",
       "    <tr>\n",
       "      <th>102</th>\n",
       "      <td>0.575000</td>\n",
       "      <td>0.149514</td>\n",
       "      <td>0.018476</td>\n",
       "      <td>-0.287139</td>\n",
       "      <td>0.0</td>\n",
       "      <td>1.000000</td>\n",
       "      <td>4</td>\n",
       "    </tr>\n",
       "    <tr>\n",
       "      <th>101</th>\n",
       "      <td>1.000000</td>\n",
       "      <td>0.957124</td>\n",
       "      <td>0.007185</td>\n",
       "      <td>-0.310568</td>\n",
       "      <td>0.0</td>\n",
       "      <td>1.000000</td>\n",
       "      <td>4</td>\n",
       "    </tr>\n",
       "    <tr>\n",
       "      <th>220</th>\n",
       "      <td>0.591950</td>\n",
       "      <td>0.287596</td>\n",
       "      <td>0.017963</td>\n",
       "      <td>-0.312562</td>\n",
       "      <td>0.0</td>\n",
       "      <td>1.000000</td>\n",
       "      <td>4</td>\n",
       "    </tr>\n",
       "    <tr>\n",
       "      <th>228</th>\n",
       "      <td>0.577375</td>\n",
       "      <td>0.409479</td>\n",
       "      <td>0.044137</td>\n",
       "      <td>-0.294367</td>\n",
       "      <td>0.0</td>\n",
       "      <td>1.000000</td>\n",
       "      <td>4</td>\n",
       "    </tr>\n",
       "    <tr>\n",
       "      <th>229</th>\n",
       "      <td>0.543450</td>\n",
       "      <td>0.881649</td>\n",
       "      <td>0.047216</td>\n",
       "      <td>-0.366201</td>\n",
       "      <td>0.0</td>\n",
       "      <td>1.000000</td>\n",
       "      <td>4</td>\n",
       "    </tr>\n",
       "    <tr>\n",
       "      <th>48</th>\n",
       "      <td>0.090625</td>\n",
       "      <td>0.216618</td>\n",
       "      <td>0.043110</td>\n",
       "      <td>-0.335992</td>\n",
       "      <td>0.5</td>\n",
       "      <td>0.833333</td>\n",
       "      <td>4</td>\n",
       "    </tr>\n",
       "    <tr>\n",
       "      <th>166</th>\n",
       "      <td>0.498075</td>\n",
       "      <td>0.178946</td>\n",
       "      <td>0.037465</td>\n",
       "      <td>-0.283649</td>\n",
       "      <td>0.0</td>\n",
       "      <td>1.000000</td>\n",
       "      <td>4</td>\n",
       "    </tr>\n",
       "    <tr>\n",
       "      <th>165</th>\n",
       "      <td>0.182050</td>\n",
       "      <td>0.154223</td>\n",
       "      <td>0.012317</td>\n",
       "      <td>-0.359920</td>\n",
       "      <td>0.0</td>\n",
       "      <td>1.000000</td>\n",
       "      <td>4</td>\n",
       "    </tr>\n",
       "    <tr>\n",
       "      <th>164</th>\n",
       "      <td>0.223175</td>\n",
       "      <td>0.281368</td>\n",
       "      <td>0.017963</td>\n",
       "      <td>-0.365902</td>\n",
       "      <td>0.0</td>\n",
       "      <td>1.000000</td>\n",
       "      <td>4</td>\n",
       "    </tr>\n",
       "    <tr>\n",
       "      <th>163</th>\n",
       "      <td>0.143800</td>\n",
       "      <td>0.288432</td>\n",
       "      <td>0.049782</td>\n",
       "      <td>-0.330508</td>\n",
       "      <td>0.0</td>\n",
       "      <td>1.000000</td>\n",
       "      <td>4</td>\n",
       "    </tr>\n",
       "    <tr>\n",
       "      <th>162</th>\n",
       "      <td>0.316875</td>\n",
       "      <td>0.532128</td>\n",
       "      <td>0.042597</td>\n",
       "      <td>-0.280160</td>\n",
       "      <td>0.0</td>\n",
       "      <td>1.000000</td>\n",
       "      <td>4</td>\n",
       "    </tr>\n",
       "    <tr>\n",
       "      <th>161</th>\n",
       "      <td>0.289175</td>\n",
       "      <td>0.295496</td>\n",
       "      <td>0.018476</td>\n",
       "      <td>-0.311316</td>\n",
       "      <td>0.0</td>\n",
       "      <td>1.000000</td>\n",
       "      <td>4</td>\n",
       "    </tr>\n",
       "    <tr>\n",
       "      <th>160</th>\n",
       "      <td>0.634750</td>\n",
       "      <td>0.262532</td>\n",
       "      <td>0.029253</td>\n",
       "      <td>-0.295115</td>\n",
       "      <td>0.0</td>\n",
       "      <td>1.000000</td>\n",
       "      <td>4</td>\n",
       "    </tr>\n",
       "    <tr>\n",
       "      <th>168</th>\n",
       "      <td>0.434575</td>\n",
       "      <td>0.403687</td>\n",
       "      <td>0.015396</td>\n",
       "      <td>-0.303589</td>\n",
       "      <td>0.0</td>\n",
       "      <td>1.000000</td>\n",
       "      <td>4</td>\n",
       "    </tr>\n",
       "    <tr>\n",
       "      <th>103</th>\n",
       "      <td>0.428000</td>\n",
       "      <td>0.276659</td>\n",
       "      <td>0.042597</td>\n",
       "      <td>-0.343470</td>\n",
       "      <td>0.0</td>\n",
       "      <td>1.000000</td>\n",
       "      <td>4</td>\n",
       "    </tr>\n",
       "    <tr>\n",
       "      <th>49</th>\n",
       "      <td>0.843750</td>\n",
       "      <td>0.259000</td>\n",
       "      <td>0.013344</td>\n",
       "      <td>-0.304088</td>\n",
       "      <td>0.0</td>\n",
       "      <td>0.166667</td>\n",
       "      <td>4</td>\n",
       "    </tr>\n",
       "  </tbody>\n",
       "</table>\n",
       "</div>"
      ],
      "text/plain": [
       "     Temperature         L         R       A_M  Color  Spectral_Class  Type\n",
       "47      0.089350  0.235455  0.045676 -0.261216    0.5        0.833333     4\n",
       "46      0.089375  0.144805  0.023095 -0.337986    0.5        0.833333     4\n",
       "45      0.090000  0.376728  0.014883 -0.329013    0.5        0.833333     4\n",
       "44      0.075200  0.329637  0.012830 -0.299103    0.5        0.833333     4\n",
       "43      0.080000  0.229568  0.008725 -0.359920    0.5        0.833333     4\n",
       "42      0.081750  0.176591  0.045163 -0.300100    0.5        0.833333     4\n",
       "41      0.084125  0.400273  0.011804 -0.309073    0.5        0.833333     4\n",
       "40      0.095650  0.235455  0.009751 -0.345464    0.5        0.833333     4\n",
       "169     0.234325  0.499776  0.012317 -0.298604    0.0        1.000000     4\n",
       "100     0.832500  0.282546  0.006159 -0.324028    0.0        0.166667     4\n",
       "167     0.659325  0.233100  0.020015 -0.290628    0.0        1.000000     4\n",
       "221     0.318725  0.391467  0.039004 -0.349950    0.0        1.000000     4\n",
       "222     0.234575  0.403734  0.050295 -0.347956    0.0        1.000000     4\n",
       "223     0.586000  0.632702  0.041570 -0.297856    0.0        1.000000     4\n",
       "224     0.419675  0.290469  0.031819 -0.316550    0.0        1.000000     4\n",
       "225     0.468350  0.264628  0.023608 -0.371386    0.0        1.000000     4\n",
       "226     0.247300  0.699183  0.041057 -0.362014    0.0        1.000000     4\n",
       "227     0.273250  0.922900  0.012830 -0.310269    0.0        1.000000     4\n",
       "109     0.835525  0.414400  0.034385 -0.288634    0.0        1.000000     4\n",
       "108     0.608625  0.167173  0.029253 -0.311067    0.0        1.000000     4\n",
       "107     0.322325  0.216618  0.018476 -0.316052    0.0        1.000000     4\n",
       "106     0.615750  0.427350  0.032333 -0.290628    0.0        1.000000     4\n",
       "105     0.356125  0.271950  0.021555 -0.305085    0.0        1.000000     4\n",
       "104     0.277400  0.131855  0.006159 -0.294616    0.0        1.000000     4\n",
       "102     0.575000  0.149514  0.018476 -0.287139    0.0        1.000000     4\n",
       "101     1.000000  0.957124  0.007185 -0.310568    0.0        1.000000     4\n",
       "220     0.591950  0.287596  0.017963 -0.312562    0.0        1.000000     4\n",
       "228     0.577375  0.409479  0.044137 -0.294367    0.0        1.000000     4\n",
       "229     0.543450  0.881649  0.047216 -0.366201    0.0        1.000000     4\n",
       "48      0.090625  0.216618  0.043110 -0.335992    0.5        0.833333     4\n",
       "166     0.498075  0.178946  0.037465 -0.283649    0.0        1.000000     4\n",
       "165     0.182050  0.154223  0.012317 -0.359920    0.0        1.000000     4\n",
       "164     0.223175  0.281368  0.017963 -0.365902    0.0        1.000000     4\n",
       "163     0.143800  0.288432  0.049782 -0.330508    0.0        1.000000     4\n",
       "162     0.316875  0.532128  0.042597 -0.280160    0.0        1.000000     4\n",
       "161     0.289175  0.295496  0.018476 -0.311316    0.0        1.000000     4\n",
       "160     0.634750  0.262532  0.029253 -0.295115    0.0        1.000000     4\n",
       "168     0.434575  0.403687  0.015396 -0.303589    0.0        1.000000     4\n",
       "103     0.428000  0.276659  0.042597 -0.343470    0.0        1.000000     4\n",
       "49      0.843750  0.259000  0.013344 -0.304088    0.0        0.166667     4"
      ]
     },
     "metadata": {},
     "output_type": "display_data"
    },
    {
     "name": "stdout",
     "output_type": "stream",
     "text": [
      "<class 'pandas.core.frame.DataFrame'>\n",
      "Int64Index: 40 entries, 47 to 49\n",
      "Data columns (total 7 columns):\n",
      " #   Column          Non-Null Count  Dtype  \n",
      "---  ------          --------------  -----  \n",
      " 0   Temperature     40 non-null     float64\n",
      " 1   L               40 non-null     float64\n",
      " 2   R               40 non-null     float64\n",
      " 3   A_M             40 non-null     float64\n",
      " 4   Color           40 non-null     float64\n",
      " 5   Spectral_Class  40 non-null     float64\n",
      " 6   Type            40 non-null     int64  \n",
      "dtypes: float64(6), int64(1)\n",
      "memory usage: 2.5 KB\n"
     ]
    },
    {
     "data": {
      "text/html": [
       "<div>\n",
       "<style scoped>\n",
       "    .dataframe tbody tr th:only-of-type {\n",
       "        vertical-align: middle;\n",
       "    }\n",
       "\n",
       "    .dataframe tbody tr th {\n",
       "        vertical-align: top;\n",
       "    }\n",
       "\n",
       "    .dataframe thead th {\n",
       "        text-align: right;\n",
       "    }\n",
       "</style>\n",
       "<table border=\"1\" class=\"dataframe\">\n",
       "  <thead>\n",
       "    <tr style=\"text-align: right;\">\n",
       "      <th></th>\n",
       "      <th>Temperature</th>\n",
       "      <th>L</th>\n",
       "      <th>R</th>\n",
       "      <th>A_M</th>\n",
       "      <th>Color</th>\n",
       "      <th>Spectral_Class</th>\n",
       "      <th>Type</th>\n",
       "    </tr>\n",
       "  </thead>\n",
       "  <tbody>\n",
       "    <tr>\n",
       "      <th>count</th>\n",
       "      <td>40.000000</td>\n",
       "      <td>40.000000</td>\n",
       "      <td>40.000000</td>\n",
       "      <td>40.000000</td>\n",
       "      <td>40.000000</td>\n",
       "      <td>40.000000</td>\n",
       "      <td>40.0</td>\n",
       "    </tr>\n",
       "    <tr>\n",
       "      <th>mean</th>\n",
       "      <td>0.383696</td>\n",
       "      <td>0.355320</td>\n",
       "      <td>0.026251</td>\n",
       "      <td>-0.317544</td>\n",
       "      <td>0.112500</td>\n",
       "      <td>0.920833</td>\n",
       "      <td>4.0</td>\n",
       "    </tr>\n",
       "    <tr>\n",
       "      <th>std</th>\n",
       "      <td>0.252170</td>\n",
       "      <td>0.206913</td>\n",
       "      <td>0.014194</td>\n",
       "      <td>0.027919</td>\n",
       "      <td>0.211451</td>\n",
       "      <td>0.188666</td>\n",
       "      <td>0.0</td>\n",
       "    </tr>\n",
       "    <tr>\n",
       "      <th>min</th>\n",
       "      <td>0.075200</td>\n",
       "      <td>0.131855</td>\n",
       "      <td>0.006159</td>\n",
       "      <td>-0.371386</td>\n",
       "      <td>0.000000</td>\n",
       "      <td>0.166667</td>\n",
       "      <td>4.0</td>\n",
       "    </tr>\n",
       "    <tr>\n",
       "      <th>25%</th>\n",
       "      <td>0.172487</td>\n",
       "      <td>0.232217</td>\n",
       "      <td>0.013215</td>\n",
       "      <td>-0.339357</td>\n",
       "      <td>0.000000</td>\n",
       "      <td>0.833333</td>\n",
       "      <td>4.0</td>\n",
       "    </tr>\n",
       "    <tr>\n",
       "      <th>50%</th>\n",
       "      <td>0.320525</td>\n",
       "      <td>0.285071</td>\n",
       "      <td>0.022325</td>\n",
       "      <td>-0.310818</td>\n",
       "      <td>0.000000</td>\n",
       "      <td>1.000000</td>\n",
       "      <td>4.0</td>\n",
       "    </tr>\n",
       "    <tr>\n",
       "      <th>75%</th>\n",
       "      <td>0.579531</td>\n",
       "      <td>0.405171</td>\n",
       "      <td>0.041186</td>\n",
       "      <td>-0.297171</td>\n",
       "      <td>0.000000</td>\n",
       "      <td>1.000000</td>\n",
       "      <td>4.0</td>\n",
       "    </tr>\n",
       "    <tr>\n",
       "      <th>max</th>\n",
       "      <td>1.000000</td>\n",
       "      <td>0.957124</td>\n",
       "      <td>0.050295</td>\n",
       "      <td>-0.261216</td>\n",
       "      <td>0.500000</td>\n",
       "      <td>1.000000</td>\n",
       "      <td>4.0</td>\n",
       "    </tr>\n",
       "  </tbody>\n",
       "</table>\n",
       "</div>"
      ],
      "text/plain": [
       "       Temperature          L          R        A_M      Color  \\\n",
       "count    40.000000  40.000000  40.000000  40.000000  40.000000   \n",
       "mean      0.383696   0.355320   0.026251  -0.317544   0.112500   \n",
       "std       0.252170   0.206913   0.014194   0.027919   0.211451   \n",
       "min       0.075200   0.131855   0.006159  -0.371386   0.000000   \n",
       "25%       0.172487   0.232217   0.013215  -0.339357   0.000000   \n",
       "50%       0.320525   0.285071   0.022325  -0.310818   0.000000   \n",
       "75%       0.579531   0.405171   0.041186  -0.297171   0.000000   \n",
       "max       1.000000   0.957124   0.050295  -0.261216   0.500000   \n",
       "\n",
       "       Spectral_Class  Type  \n",
       "count       40.000000  40.0  \n",
       "mean         0.920833   4.0  \n",
       "std          0.188666   0.0  \n",
       "min          0.166667   4.0  \n",
       "25%          0.833333   4.0  \n",
       "50%          1.000000   4.0  \n",
       "75%          1.000000   4.0  \n",
       "max          1.000000   4.0  "
      ]
     },
     "metadata": {},
     "output_type": "display_data"
    },
    {
     "name": "stdout",
     "output_type": "stream",
     "text": [
      "========================================================================\n",
      "| Classe: 5 |\n"
     ]
    },
    {
     "data": {
      "text/html": [
       "<div>\n",
       "<style scoped>\n",
       "    .dataframe tbody tr th:only-of-type {\n",
       "        vertical-align: middle;\n",
       "    }\n",
       "\n",
       "    .dataframe tbody tr th {\n",
       "        vertical-align: top;\n",
       "    }\n",
       "\n",
       "    .dataframe thead th {\n",
       "        text-align: right;\n",
       "    }\n",
       "</style>\n",
       "<table border=\"1\" class=\"dataframe\">\n",
       "  <thead>\n",
       "    <tr style=\"text-align: right;\">\n",
       "      <th></th>\n",
       "      <th>Temperature</th>\n",
       "      <th>L</th>\n",
       "      <th>R</th>\n",
       "      <th>A_M</th>\n",
       "      <th>Color</th>\n",
       "      <th>Spectral_Class</th>\n",
       "      <th>Type</th>\n",
       "    </tr>\n",
       "  </thead>\n",
       "  <tbody>\n",
       "    <tr>\n",
       "      <th>237</th>\n",
       "      <td>0.220725</td>\n",
       "      <td>0.632776</td>\n",
       "      <td>0.730305</td>\n",
       "      <td>-0.534895</td>\n",
       "      <td>0.5625</td>\n",
       "      <td>0.000000</td>\n",
       "      <td>5</td>\n",
       "    </tr>\n",
       "    <tr>\n",
       "      <th>236</th>\n",
       "      <td>0.770975</td>\n",
       "      <td>0.981896</td>\n",
       "      <td>0.612779</td>\n",
       "      <td>-0.529910</td>\n",
       "      <td>0.0000</td>\n",
       "      <td>1.000000</td>\n",
       "      <td>5</td>\n",
       "    </tr>\n",
       "    <tr>\n",
       "      <th>235</th>\n",
       "      <td>0.973500</td>\n",
       "      <td>0.441278</td>\n",
       "      <td>0.695920</td>\n",
       "      <td>-0.495015</td>\n",
       "      <td>0.0000</td>\n",
       "      <td>1.000000</td>\n",
       "      <td>5</td>\n",
       "    </tr>\n",
       "    <tr>\n",
       "      <th>234</th>\n",
       "      <td>0.547600</td>\n",
       "      <td>0.881178</td>\n",
       "      <td>0.579933</td>\n",
       "      <td>-0.382353</td>\n",
       "      <td>0.2500</td>\n",
       "      <td>0.166667</td>\n",
       "      <td>5</td>\n",
       "    </tr>\n",
       "    <tr>\n",
       "      <th>233</th>\n",
       "      <td>0.693475</td>\n",
       "      <td>1.000000</td>\n",
       "      <td>0.642546</td>\n",
       "      <td>-0.378365</td>\n",
       "      <td>0.2500</td>\n",
       "      <td>0.166667</td>\n",
       "      <td>5</td>\n",
       "    </tr>\n",
       "    <tr>\n",
       "      <th>232</th>\n",
       "      <td>0.812225</td>\n",
       "      <td>0.763380</td>\n",
       "      <td>1.000000</td>\n",
       "      <td>-0.540379</td>\n",
       "      <td>0.0000</td>\n",
       "      <td>1.000000</td>\n",
       "      <td>5</td>\n",
       "    </tr>\n",
       "    <tr>\n",
       "      <th>231</th>\n",
       "      <td>0.955850</td>\n",
       "      <td>0.321196</td>\n",
       "      <td>0.695920</td>\n",
       "      <td>-0.463111</td>\n",
       "      <td>0.0000</td>\n",
       "      <td>1.000000</td>\n",
       "      <td>5</td>\n",
       "    </tr>\n",
       "    <tr>\n",
       "      <th>230</th>\n",
       "      <td>0.603625</td>\n",
       "      <td>0.450888</td>\n",
       "      <td>0.766744</td>\n",
       "      <td>-0.440678</td>\n",
       "      <td>0.2500</td>\n",
       "      <td>0.166667</td>\n",
       "      <td>5</td>\n",
       "    </tr>\n",
       "    <tr>\n",
       "      <th>119</th>\n",
       "      <td>0.094500</td>\n",
       "      <td>0.235455</td>\n",
       "      <td>0.679497</td>\n",
       "      <td>-0.533400</td>\n",
       "      <td>0.5000</td>\n",
       "      <td>0.833333</td>\n",
       "      <td>5</td>\n",
       "    </tr>\n",
       "    <tr>\n",
       "      <th>178</th>\n",
       "      <td>0.302500</td>\n",
       "      <td>0.141273</td>\n",
       "      <td>0.363818</td>\n",
       "      <td>-0.390828</td>\n",
       "      <td>0.2500</td>\n",
       "      <td>0.166667</td>\n",
       "      <td>5</td>\n",
       "    </tr>\n",
       "    <tr>\n",
       "      <th>50</th>\n",
       "      <td>0.087250</td>\n",
       "      <td>0.317864</td>\n",
       "      <td>0.780087</td>\n",
       "      <td>-0.468594</td>\n",
       "      <td>0.5000</td>\n",
       "      <td>0.833333</td>\n",
       "      <td>5</td>\n",
       "    </tr>\n",
       "    <tr>\n",
       "      <th>51</th>\n",
       "      <td>0.093750</td>\n",
       "      <td>0.333169</td>\n",
       "      <td>0.646651</td>\n",
       "      <td>-0.380359</td>\n",
       "      <td>0.5000</td>\n",
       "      <td>0.833333</td>\n",
       "      <td>5</td>\n",
       "    </tr>\n",
       "    <tr>\n",
       "      <th>52</th>\n",
       "      <td>0.095850</td>\n",
       "      <td>0.320219</td>\n",
       "      <td>0.607134</td>\n",
       "      <td>-0.458624</td>\n",
       "      <td>0.5000</td>\n",
       "      <td>0.833333</td>\n",
       "      <td>5</td>\n",
       "    </tr>\n",
       "    <tr>\n",
       "      <th>53</th>\n",
       "      <td>0.093725</td>\n",
       "      <td>0.647501</td>\n",
       "      <td>0.845779</td>\n",
       "      <td>-0.401296</td>\n",
       "      <td>0.3125</td>\n",
       "      <td>0.833333</td>\n",
       "      <td>5</td>\n",
       "    </tr>\n",
       "    <tr>\n",
       "      <th>54</th>\n",
       "      <td>0.091250</td>\n",
       "      <td>0.364955</td>\n",
       "      <td>0.679497</td>\n",
       "      <td>-0.388335</td>\n",
       "      <td>0.5000</td>\n",
       "      <td>0.833333</td>\n",
       "      <td>5</td>\n",
       "    </tr>\n",
       "    <tr>\n",
       "      <th>55</th>\n",
       "      <td>0.086250</td>\n",
       "      <td>0.309623</td>\n",
       "      <td>0.692327</td>\n",
       "      <td>-0.585743</td>\n",
       "      <td>0.5000</td>\n",
       "      <td>0.833333</td>\n",
       "      <td>5</td>\n",
       "    </tr>\n",
       "    <tr>\n",
       "      <th>56</th>\n",
       "      <td>0.091500</td>\n",
       "      <td>0.427350</td>\n",
       "      <td>0.858609</td>\n",
       "      <td>-0.594217</td>\n",
       "      <td>0.5000</td>\n",
       "      <td>0.833333</td>\n",
       "      <td>5</td>\n",
       "    </tr>\n",
       "    <tr>\n",
       "      <th>57</th>\n",
       "      <td>0.086250</td>\n",
       "      <td>0.204846</td>\n",
       "      <td>0.658968</td>\n",
       "      <td>-0.562313</td>\n",
       "      <td>0.5000</td>\n",
       "      <td>0.833333</td>\n",
       "      <td>5</td>\n",
       "    </tr>\n",
       "    <tr>\n",
       "      <th>58</th>\n",
       "      <td>0.093800</td>\n",
       "      <td>0.246050</td>\n",
       "      <td>0.490121</td>\n",
       "      <td>-0.560319</td>\n",
       "      <td>0.5000</td>\n",
       "      <td>0.833333</td>\n",
       "      <td>5</td>\n",
       "    </tr>\n",
       "    <tr>\n",
       "      <th>59</th>\n",
       "      <td>0.088375</td>\n",
       "      <td>0.229568</td>\n",
       "      <td>0.793431</td>\n",
       "      <td>-0.566301</td>\n",
       "      <td>0.5000</td>\n",
       "      <td>0.833333</td>\n",
       "      <td>5</td>\n",
       "    </tr>\n",
       "    <tr>\n",
       "      <th>110</th>\n",
       "      <td>0.086475</td>\n",
       "      <td>0.117727</td>\n",
       "      <td>0.661535</td>\n",
       "      <td>-0.533400</td>\n",
       "      <td>0.5000</td>\n",
       "      <td>0.833333</td>\n",
       "      <td>5</td>\n",
       "    </tr>\n",
       "    <tr>\n",
       "      <th>111</th>\n",
       "      <td>0.090125</td>\n",
       "      <td>0.148337</td>\n",
       "      <td>0.576854</td>\n",
       "      <td>-0.538883</td>\n",
       "      <td>0.5000</td>\n",
       "      <td>0.833333</td>\n",
       "      <td>5</td>\n",
       "    </tr>\n",
       "    <tr>\n",
       "      <th>112</th>\n",
       "      <td>0.090375</td>\n",
       "      <td>0.235455</td>\n",
       "      <td>0.839107</td>\n",
       "      <td>-0.564806</td>\n",
       "      <td>0.5000</td>\n",
       "      <td>0.833333</td>\n",
       "      <td>5</td>\n",
       "    </tr>\n",
       "    <tr>\n",
       "      <th>179</th>\n",
       "      <td>0.612250</td>\n",
       "      <td>0.292541</td>\n",
       "      <td>0.582243</td>\n",
       "      <td>-0.410768</td>\n",
       "      <td>0.2500</td>\n",
       "      <td>0.166667</td>\n",
       "      <td>5</td>\n",
       "    </tr>\n",
       "    <tr>\n",
       "      <th>113</th>\n",
       "      <td>0.084975</td>\n",
       "      <td>0.137741</td>\n",
       "      <td>0.762638</td>\n",
       "      <td>-0.544367</td>\n",
       "      <td>0.5000</td>\n",
       "      <td>0.833333</td>\n",
       "      <td>5</td>\n",
       "    </tr>\n",
       "    <tr>\n",
       "      <th>115</th>\n",
       "      <td>0.088825</td>\n",
       "      <td>0.170705</td>\n",
       "      <td>0.679497</td>\n",
       "      <td>-0.549850</td>\n",
       "      <td>0.5000</td>\n",
       "      <td>0.833333</td>\n",
       "      <td>5</td>\n",
       "    </tr>\n",
       "    <tr>\n",
       "      <th>116</th>\n",
       "      <td>0.100375</td>\n",
       "      <td>0.331991</td>\n",
       "      <td>0.787272</td>\n",
       "      <td>-0.567797</td>\n",
       "      <td>0.5000</td>\n",
       "      <td>0.666667</td>\n",
       "      <td>5</td>\n",
       "    </tr>\n",
       "    <tr>\n",
       "      <th>117</th>\n",
       "      <td>0.090625</td>\n",
       "      <td>0.087118</td>\n",
       "      <td>0.449577</td>\n",
       "      <td>-0.510967</td>\n",
       "      <td>0.5000</td>\n",
       "      <td>0.833333</td>\n",
       "      <td>5</td>\n",
       "    </tr>\n",
       "    <tr>\n",
       "      <th>118</th>\n",
       "      <td>0.171250</td>\n",
       "      <td>0.269596</td>\n",
       "      <td>0.752887</td>\n",
       "      <td>-0.501994</td>\n",
       "      <td>0.5000</td>\n",
       "      <td>0.500000</td>\n",
       "      <td>5</td>\n",
       "    </tr>\n",
       "    <tr>\n",
       "      <th>238</th>\n",
       "      <td>0.230875</td>\n",
       "      <td>0.476725</td>\n",
       "      <td>0.570695</td>\n",
       "      <td>-0.559821</td>\n",
       "      <td>0.5625</td>\n",
       "      <td>0.000000</td>\n",
       "      <td>5</td>\n",
       "    </tr>\n",
       "    <tr>\n",
       "      <th>170</th>\n",
       "      <td>0.089250</td>\n",
       "      <td>0.376728</td>\n",
       "      <td>0.759559</td>\n",
       "      <td>-0.377866</td>\n",
       "      <td>0.5000</td>\n",
       "      <td>0.833333</td>\n",
       "      <td>5</td>\n",
       "    </tr>\n",
       "    <tr>\n",
       "      <th>171</th>\n",
       "      <td>0.087500</td>\n",
       "      <td>0.162464</td>\n",
       "      <td>0.728766</td>\n",
       "      <td>-0.407777</td>\n",
       "      <td>0.5000</td>\n",
       "      <td>0.833333</td>\n",
       "      <td>5</td>\n",
       "    </tr>\n",
       "    <tr>\n",
       "      <th>172</th>\n",
       "      <td>0.107175</td>\n",
       "      <td>0.741683</td>\n",
       "      <td>0.674878</td>\n",
       "      <td>-0.458624</td>\n",
       "      <td>0.3125</td>\n",
       "      <td>0.666667</td>\n",
       "      <td>5</td>\n",
       "    </tr>\n",
       "    <tr>\n",
       "      <th>173</th>\n",
       "      <td>0.650000</td>\n",
       "      <td>0.372019</td>\n",
       "      <td>0.861688</td>\n",
       "      <td>-0.453639</td>\n",
       "      <td>0.0000</td>\n",
       "      <td>0.166667</td>\n",
       "      <td>5</td>\n",
       "    </tr>\n",
       "    <tr>\n",
       "      <th>174</th>\n",
       "      <td>0.090000</td>\n",
       "      <td>0.282546</td>\n",
       "      <td>0.610726</td>\n",
       "      <td>-0.393320</td>\n",
       "      <td>0.5000</td>\n",
       "      <td>0.833333</td>\n",
       "      <td>5</td>\n",
       "    </tr>\n",
       "    <tr>\n",
       "      <th>175</th>\n",
       "      <td>0.090350</td>\n",
       "      <td>0.170705</td>\n",
       "      <td>0.797023</td>\n",
       "      <td>-0.384347</td>\n",
       "      <td>0.5000</td>\n",
       "      <td>0.833333</td>\n",
       "      <td>5</td>\n",
       "    </tr>\n",
       "    <tr>\n",
       "      <th>176</th>\n",
       "      <td>0.450000</td>\n",
       "      <td>0.235455</td>\n",
       "      <td>0.536310</td>\n",
       "      <td>-0.413759</td>\n",
       "      <td>0.0000</td>\n",
       "      <td>1.000000</td>\n",
       "      <td>5</td>\n",
       "    </tr>\n",
       "    <tr>\n",
       "      <th>177</th>\n",
       "      <td>0.275000</td>\n",
       "      <td>0.200137</td>\n",
       "      <td>0.913010</td>\n",
       "      <td>-0.493519</td>\n",
       "      <td>0.2500</td>\n",
       "      <td>0.166667</td>\n",
       "      <td>5</td>\n",
       "    </tr>\n",
       "    <tr>\n",
       "      <th>114</th>\n",
       "      <td>0.090250</td>\n",
       "      <td>0.155400</td>\n",
       "      <td>0.781114</td>\n",
       "      <td>-0.541376</td>\n",
       "      <td>0.5000</td>\n",
       "      <td>0.833333</td>\n",
       "      <td>5</td>\n",
       "    </tr>\n",
       "    <tr>\n",
       "      <th>239</th>\n",
       "      <td>0.947050</td>\n",
       "      <td>0.347182</td>\n",
       "      <td>0.915063</td>\n",
       "      <td>-0.388833</td>\n",
       "      <td>0.0000</td>\n",
       "      <td>1.000000</td>\n",
       "      <td>5</td>\n",
       "    </tr>\n",
       "  </tbody>\n",
       "</table>\n",
       "</div>"
      ],
      "text/plain": [
       "     Temperature         L         R       A_M   Color  Spectral_Class  Type\n",
       "237     0.220725  0.632776  0.730305 -0.534895  0.5625        0.000000     5\n",
       "236     0.770975  0.981896  0.612779 -0.529910  0.0000        1.000000     5\n",
       "235     0.973500  0.441278  0.695920 -0.495015  0.0000        1.000000     5\n",
       "234     0.547600  0.881178  0.579933 -0.382353  0.2500        0.166667     5\n",
       "233     0.693475  1.000000  0.642546 -0.378365  0.2500        0.166667     5\n",
       "232     0.812225  0.763380  1.000000 -0.540379  0.0000        1.000000     5\n",
       "231     0.955850  0.321196  0.695920 -0.463111  0.0000        1.000000     5\n",
       "230     0.603625  0.450888  0.766744 -0.440678  0.2500        0.166667     5\n",
       "119     0.094500  0.235455  0.679497 -0.533400  0.5000        0.833333     5\n",
       "178     0.302500  0.141273  0.363818 -0.390828  0.2500        0.166667     5\n",
       "50      0.087250  0.317864  0.780087 -0.468594  0.5000        0.833333     5\n",
       "51      0.093750  0.333169  0.646651 -0.380359  0.5000        0.833333     5\n",
       "52      0.095850  0.320219  0.607134 -0.458624  0.5000        0.833333     5\n",
       "53      0.093725  0.647501  0.845779 -0.401296  0.3125        0.833333     5\n",
       "54      0.091250  0.364955  0.679497 -0.388335  0.5000        0.833333     5\n",
       "55      0.086250  0.309623  0.692327 -0.585743  0.5000        0.833333     5\n",
       "56      0.091500  0.427350  0.858609 -0.594217  0.5000        0.833333     5\n",
       "57      0.086250  0.204846  0.658968 -0.562313  0.5000        0.833333     5\n",
       "58      0.093800  0.246050  0.490121 -0.560319  0.5000        0.833333     5\n",
       "59      0.088375  0.229568  0.793431 -0.566301  0.5000        0.833333     5\n",
       "110     0.086475  0.117727  0.661535 -0.533400  0.5000        0.833333     5\n",
       "111     0.090125  0.148337  0.576854 -0.538883  0.5000        0.833333     5\n",
       "112     0.090375  0.235455  0.839107 -0.564806  0.5000        0.833333     5\n",
       "179     0.612250  0.292541  0.582243 -0.410768  0.2500        0.166667     5\n",
       "113     0.084975  0.137741  0.762638 -0.544367  0.5000        0.833333     5\n",
       "115     0.088825  0.170705  0.679497 -0.549850  0.5000        0.833333     5\n",
       "116     0.100375  0.331991  0.787272 -0.567797  0.5000        0.666667     5\n",
       "117     0.090625  0.087118  0.449577 -0.510967  0.5000        0.833333     5\n",
       "118     0.171250  0.269596  0.752887 -0.501994  0.5000        0.500000     5\n",
       "238     0.230875  0.476725  0.570695 -0.559821  0.5625        0.000000     5\n",
       "170     0.089250  0.376728  0.759559 -0.377866  0.5000        0.833333     5\n",
       "171     0.087500  0.162464  0.728766 -0.407777  0.5000        0.833333     5\n",
       "172     0.107175  0.741683  0.674878 -0.458624  0.3125        0.666667     5\n",
       "173     0.650000  0.372019  0.861688 -0.453639  0.0000        0.166667     5\n",
       "174     0.090000  0.282546  0.610726 -0.393320  0.5000        0.833333     5\n",
       "175     0.090350  0.170705  0.797023 -0.384347  0.5000        0.833333     5\n",
       "176     0.450000  0.235455  0.536310 -0.413759  0.0000        1.000000     5\n",
       "177     0.275000  0.200137  0.913010 -0.493519  0.2500        0.166667     5\n",
       "114     0.090250  0.155400  0.781114 -0.541376  0.5000        0.833333     5\n",
       "239     0.947050  0.347182  0.915063 -0.388833  0.0000        1.000000     5"
      ]
     },
     "metadata": {},
     "output_type": "display_data"
    },
    {
     "name": "stdout",
     "output_type": "stream",
     "text": [
      "<class 'pandas.core.frame.DataFrame'>\n",
      "Int64Index: 40 entries, 237 to 239\n",
      "Data columns (total 7 columns):\n",
      " #   Column          Non-Null Count  Dtype  \n",
      "---  ------          --------------  -----  \n",
      " 0   Temperature     40 non-null     float64\n",
      " 1   L               40 non-null     float64\n",
      " 2   R               40 non-null     float64\n",
      " 3   A_M             40 non-null     float64\n",
      " 4   Color           40 non-null     float64\n",
      " 5   Spectral_Class  40 non-null     float64\n",
      " 6   Type            40 non-null     int64  \n",
      "dtypes: float64(6), int64(1)\n",
      "memory usage: 2.5 KB\n"
     ]
    },
    {
     "data": {
      "text/html": [
       "<div>\n",
       "<style scoped>\n",
       "    .dataframe tbody tr th:only-of-type {\n",
       "        vertical-align: middle;\n",
       "    }\n",
       "\n",
       "    .dataframe tbody tr th {\n",
       "        vertical-align: top;\n",
       "    }\n",
       "\n",
       "    .dataframe thead th {\n",
       "        text-align: right;\n",
       "    }\n",
       "</style>\n",
       "<table border=\"1\" class=\"dataframe\">\n",
       "  <thead>\n",
       "    <tr style=\"text-align: right;\">\n",
       "      <th></th>\n",
       "      <th>Temperature</th>\n",
       "      <th>L</th>\n",
       "      <th>R</th>\n",
       "      <th>A_M</th>\n",
       "      <th>Color</th>\n",
       "      <th>Spectral_Class</th>\n",
       "      <th>Type</th>\n",
       "    </tr>\n",
       "  </thead>\n",
       "  <tbody>\n",
       "    <tr>\n",
       "      <th>count</th>\n",
       "      <td>40.000000</td>\n",
       "      <td>40.000000</td>\n",
       "      <td>40.000000</td>\n",
       "      <td>40.000000</td>\n",
       "      <td>40.000000</td>\n",
       "      <td>40.000000</td>\n",
       "      <td>40.0</td>\n",
       "    </tr>\n",
       "    <tr>\n",
       "      <th>mean</th>\n",
       "      <td>0.285142</td>\n",
       "      <td>0.364068</td>\n",
       "      <td>0.701513</td>\n",
       "      <td>-0.481269</td>\n",
       "      <td>0.368750</td>\n",
       "      <td>0.683333</td>\n",
       "      <td>5.0</td>\n",
       "    </tr>\n",
       "    <tr>\n",
       "      <th>std</th>\n",
       "      <td>0.295425</td>\n",
       "      <td>0.234682</td>\n",
       "      <td>0.131158</td>\n",
       "      <td>0.072463</td>\n",
       "      <td>0.197033</td>\n",
       "      <td>0.317576</td>\n",
       "      <td>0.0</td>\n",
       "    </tr>\n",
       "    <tr>\n",
       "      <th>min</th>\n",
       "      <td>0.084975</td>\n",
       "      <td>0.087118</td>\n",
       "      <td>0.363818</td>\n",
       "      <td>-0.594217</td>\n",
       "      <td>0.000000</td>\n",
       "      <td>0.000000</td>\n",
       "      <td>5.0</td>\n",
       "    </tr>\n",
       "    <tr>\n",
       "      <th>25%</th>\n",
       "      <td>0.090094</td>\n",
       "      <td>0.203668</td>\n",
       "      <td>0.612266</td>\n",
       "      <td>-0.542124</td>\n",
       "      <td>0.250000</td>\n",
       "      <td>0.625000</td>\n",
       "      <td>5.0</td>\n",
       "    </tr>\n",
       "    <tr>\n",
       "      <th>50%</th>\n",
       "      <td>0.094150</td>\n",
       "      <td>0.313743</td>\n",
       "      <td>0.694124</td>\n",
       "      <td>-0.494267</td>\n",
       "      <td>0.500000</td>\n",
       "      <td>0.833333</td>\n",
       "      <td>5.0</td>\n",
       "    </tr>\n",
       "    <tr>\n",
       "      <th>75%</th>\n",
       "      <td>0.474400</td>\n",
       "      <td>0.430832</td>\n",
       "      <td>0.782653</td>\n",
       "      <td>-0.406157</td>\n",
       "      <td>0.500000</td>\n",
       "      <td>0.833333</td>\n",
       "      <td>5.0</td>\n",
       "    </tr>\n",
       "    <tr>\n",
       "      <th>max</th>\n",
       "      <td>0.973500</td>\n",
       "      <td>1.000000</td>\n",
       "      <td>1.000000</td>\n",
       "      <td>-0.377866</td>\n",
       "      <td>0.562500</td>\n",
       "      <td>1.000000</td>\n",
       "      <td>5.0</td>\n",
       "    </tr>\n",
       "  </tbody>\n",
       "</table>\n",
       "</div>"
      ],
      "text/plain": [
       "       Temperature          L          R        A_M      Color  \\\n",
       "count    40.000000  40.000000  40.000000  40.000000  40.000000   \n",
       "mean      0.285142   0.364068   0.701513  -0.481269   0.368750   \n",
       "std       0.295425   0.234682   0.131158   0.072463   0.197033   \n",
       "min       0.084975   0.087118   0.363818  -0.594217   0.000000   \n",
       "25%       0.090094   0.203668   0.612266  -0.542124   0.250000   \n",
       "50%       0.094150   0.313743   0.694124  -0.494267   0.500000   \n",
       "75%       0.474400   0.430832   0.782653  -0.406157   0.500000   \n",
       "max       0.973500   1.000000   1.000000  -0.377866   0.562500   \n",
       "\n",
       "       Spectral_Class  Type  \n",
       "count       40.000000  40.0  \n",
       "mean         0.683333   5.0  \n",
       "std          0.317576   0.0  \n",
       "min          0.000000   5.0  \n",
       "25%          0.625000   5.0  \n",
       "50%          0.833333   5.0  \n",
       "75%          0.833333   5.0  \n",
       "max          1.000000   5.0  "
      ]
     },
     "metadata": {},
     "output_type": "display_data"
    },
    {
     "name": "stdout",
     "output_type": "stream",
     "text": [
      "========================================================================\n"
     ]
    }
   ],
   "source": [
    "for class_ in range(df['Type'].max()+1):\n",
    "\n",
    "    df_class = df[df.Type == class_]\n",
    "\n",
    "    print(f'| Classe: {class_} |')\n",
    "\n",
    "    display(df_class)\n",
    "\n",
    "    df_class.info()\n",
    "\n",
    "    display(df_class.describe(include='all'))    \n",
    "         \n",
    "    print('='*72)"
   ]
  },
  {
   "attachments": {},
   "cell_type": "markdown",
   "metadata": {},
   "source": [
    "##### Tanto os gráficos, quanto os dados das classes, quando avaliados se mostraram com excelente qualidade, sem dados nulos ou repetidos, com quantidade identica de dados por tipo de estrela, dados bem distribuidos e cujas dimensões disponiveis, quando agrupadas, visivelmente representavam cada classe, de forma que entendi que o algoritmo conseguiria identificar os padrões sem necessidade de outras manipulações nos dados. \n",
    "\n",
    "##### Não identifiquei a necessidade de remoção de outliers."
   ]
  },
  {
   "attachments": {},
   "cell_type": "markdown",
   "metadata": {},
   "source": [
    "##### Com os dados prontos, segui para a preparação final dos dados que serão usados para treinar e testar. Feito abaixo a crianção do X - Dados sem a coluna 'type', e y - dados so com a coluna 'type', já os transformo em array numpy e por fim transformo meu y utilizando a função to_categorical, de forma a que cada classe vire um array, com o qual meu algoritmo, que tera 6 neuronios de saída conseguira categorizar e identificar se a saída esta correta."
   ]
  },
  {
   "cell_type": "code",
   "execution_count": 19,
   "metadata": {},
   "outputs": [],
   "source": [
    "x = df.drop('Type', axis = 1 )\n",
    "x = np.array(x)"
   ]
  },
  {
   "cell_type": "code",
   "execution_count": 20,
   "metadata": {},
   "outputs": [],
   "source": [
    "y = df.drop(df.columns[:-1], axis = 1)\n",
    "y = np.array(y)"
   ]
  },
  {
   "cell_type": "code",
   "execution_count": 21,
   "metadata": {},
   "outputs": [],
   "source": [
    " y = to_categorical(y, 6)"
   ]
  },
  {
   "attachments": {},
   "cell_type": "markdown",
   "metadata": {},
   "source": [
    "##### Fiz alguns testes, com mais e menos neuronios em ambas as camadas ocultas, com o intuito de chegar em uma quantidade minima que traga uma boa acuracia e baixo erro. Com mais neuronios, 100 na primeira camada e 50 na segunda, o treinamento retornou um baixo loss - 0.0032, e acuracia 1.0, e com menos 30 na primeira e 15 na segunda, ele apresentou resultados que variavam, conforme os testes, chegando a ter acuracia minima de 0.93. Com um unico neuronio, os testes também variaram, porém com loss maior, usando 100 neuronios, o loss ficou com 0.056. \n",
    "\n",
    "##### Optei por manter duas camadas, com a segunda tendo metade da quantidade de neuronios da primeira. E como 60 trouxe um bom resultado, em todos os testes, mantive esse como final. "
   ]
  },
  {
   "cell_type": "code",
   "execution_count": 22,
   "metadata": {},
   "outputs": [],
   "source": [
    "x_train, x_test, y_train , y_test = train_test_split(x, y, test_size=0.2)\n"
   ]
  },
  {
   "cell_type": "code",
   "execution_count": 23,
   "metadata": {},
   "outputs": [
    {
     "name": "stderr",
     "output_type": "stream",
     "text": [
      "2023-02-06 01:22:44.631263: W tensorflow/compiler/xla/stream_executor/platform/default/dso_loader.cc:64] Could not load dynamic library 'libcuda.so.1'; dlerror: libcuda.so.1: cannot open shared object file: No such file or directory\n",
      "2023-02-06 01:22:44.631308: W tensorflow/compiler/xla/stream_executor/cuda/cuda_driver.cc:265] failed call to cuInit: UNKNOWN ERROR (303)\n",
      "2023-02-06 01:22:44.631348: I tensorflow/compiler/xla/stream_executor/cuda/cuda_diagnostics.cc:156] kernel driver does not appear to be running on this host (pop-os): /proc/driver/nvidia/version does not exist\n",
      "2023-02-06 01:22:44.631830: I tensorflow/core/platform/cpu_feature_guard.cc:193] This TensorFlow binary is optimized with oneAPI Deep Neural Network Library (oneDNN) to use the following CPU instructions in performance-critical operations:  AVX2 FMA\n",
      "To enable them in other operations, rebuild TensorFlow with the appropriate compiler flags.\n"
     ]
    }
   ],
   "source": [
    "model = Sequential()\n",
    "\n",
    "model.add(Dense(60, activation = 'relu'))\n",
    "model.add(Dense(30, activation = 'relu'))\n",
    "model.add(Dense(6, activation = 'softmax'))\n",
    "\n",
    "model.compile(optimizer = 'adam', loss = 'categorical_crossentropy', metrics=['accuracy'])"
   ]
  },
  {
   "attachments": {},
   "cell_type": "markdown",
   "metadata": {},
   "source": [
    "##### 100 epochs, pois este o valor que me trouxe um bom loss, com acuracia 1.0, valores maiores trazem um loss muito proximo de 0, e menores trazem maior que 0.5, minha intenção era chegar em um loss próximo a 0.01. \n",
    "\n",
    "##### O batch_size foi escolhido a partir de testes, a ideia é utilizar um número, cuja divisão pelos dados de treino retorne um inteiro, exemplo: 192 dados de treino / 12 =  16 periodos de treino e correção de erros... batch_size = 12 me trouxe um bom resultado e desempenho. "
   ]
  },
  {
   "cell_type": "code",
   "execution_count": 24,
   "metadata": {},
   "outputs": [
    {
     "name": "stdout",
     "output_type": "stream",
     "text": [
      "Epoch 1/100\n",
      "16/16 [==============================] - 1s 2ms/step - loss: 1.7328 - accuracy: 0.4062\n",
      "Epoch 2/100\n",
      "16/16 [==============================] - 0s 2ms/step - loss: 1.6113 - accuracy: 0.6354\n",
      "Epoch 3/100\n",
      "16/16 [==============================] - 0s 2ms/step - loss: 1.4888 - accuracy: 0.7865\n",
      "Epoch 4/100\n",
      "16/16 [==============================] - 0s 2ms/step - loss: 1.3560 - accuracy: 0.7552\n",
      "Epoch 5/100\n",
      "16/16 [==============================] - 0s 2ms/step - loss: 1.2123 - accuracy: 0.7708\n",
      "Epoch 6/100\n",
      "16/16 [==============================] - 0s 2ms/step - loss: 1.0638 - accuracy: 0.7917\n",
      "Epoch 7/100\n",
      "16/16 [==============================] - 0s 2ms/step - loss: 0.9258 - accuracy: 0.7917\n",
      "Epoch 8/100\n",
      "16/16 [==============================] - 0s 2ms/step - loss: 0.8040 - accuracy: 0.7865\n",
      "Epoch 9/100\n",
      "16/16 [==============================] - 0s 2ms/step - loss: 0.7003 - accuracy: 0.7969\n",
      "Epoch 10/100\n",
      "16/16 [==============================] - 0s 2ms/step - loss: 0.6094 - accuracy: 0.8125\n",
      "Epoch 11/100\n",
      "16/16 [==============================] - 0s 2ms/step - loss: 0.5350 - accuracy: 0.8125\n",
      "Epoch 12/100\n",
      "16/16 [==============================] - 0s 2ms/step - loss: 0.4774 - accuracy: 0.8698\n",
      "Epoch 13/100\n",
      "16/16 [==============================] - 0s 2ms/step - loss: 0.4268 - accuracy: 0.9010\n",
      "Epoch 14/100\n",
      "16/16 [==============================] - 0s 2ms/step - loss: 0.3852 - accuracy: 0.9219\n",
      "Epoch 15/100\n",
      "16/16 [==============================] - 0s 2ms/step - loss: 0.3530 - accuracy: 0.9219\n",
      "Epoch 16/100\n",
      "16/16 [==============================] - 0s 2ms/step - loss: 0.3257 - accuracy: 0.9479\n",
      "Epoch 17/100\n",
      "16/16 [==============================] - 0s 2ms/step - loss: 0.3073 - accuracy: 0.9062\n",
      "Epoch 18/100\n",
      "16/16 [==============================] - 0s 2ms/step - loss: 0.2888 - accuracy: 0.9479\n",
      "Epoch 19/100\n",
      "16/16 [==============================] - 0s 2ms/step - loss: 0.2645 - accuracy: 0.9271\n",
      "Epoch 20/100\n",
      "16/16 [==============================] - 0s 2ms/step - loss: 0.2483 - accuracy: 0.9323\n",
      "Epoch 21/100\n",
      "16/16 [==============================] - 0s 2ms/step - loss: 0.2385 - accuracy: 0.9479\n",
      "Epoch 22/100\n",
      "16/16 [==============================] - 0s 2ms/step - loss: 0.2229 - accuracy: 0.9375\n",
      "Epoch 23/100\n",
      "16/16 [==============================] - 0s 2ms/step - loss: 0.2117 - accuracy: 0.9531\n",
      "Epoch 24/100\n",
      "16/16 [==============================] - 0s 2ms/step - loss: 0.1975 - accuracy: 0.9479\n",
      "Epoch 25/100\n",
      "16/16 [==============================] - 0s 2ms/step - loss: 0.1889 - accuracy: 0.9479\n",
      "Epoch 26/100\n",
      "16/16 [==============================] - 0s 2ms/step - loss: 0.1803 - accuracy: 0.9531\n",
      "Epoch 27/100\n",
      "16/16 [==============================] - 0s 3ms/step - loss: 0.1721 - accuracy: 0.9479\n",
      "Epoch 28/100\n",
      "16/16 [==============================] - 0s 2ms/step - loss: 0.1631 - accuracy: 0.9635\n",
      "Epoch 29/100\n",
      "16/16 [==============================] - 0s 2ms/step - loss: 0.1564 - accuracy: 0.9531\n",
      "Epoch 30/100\n",
      "16/16 [==============================] - 0s 2ms/step - loss: 0.1507 - accuracy: 0.9583\n",
      "Epoch 31/100\n",
      "16/16 [==============================] - 0s 2ms/step - loss: 0.1439 - accuracy: 0.9531\n",
      "Epoch 32/100\n",
      "16/16 [==============================] - 0s 2ms/step - loss: 0.1405 - accuracy: 0.9635\n",
      "Epoch 33/100\n",
      "16/16 [==============================] - 0s 2ms/step - loss: 0.1408 - accuracy: 0.9427\n",
      "Epoch 34/100\n",
      "16/16 [==============================] - 0s 2ms/step - loss: 0.1298 - accuracy: 0.9688\n",
      "Epoch 35/100\n",
      "16/16 [==============================] - 0s 2ms/step - loss: 0.1226 - accuracy: 0.9792\n",
      "Epoch 36/100\n",
      "16/16 [==============================] - 0s 2ms/step - loss: 0.1184 - accuracy: 0.9635\n",
      "Epoch 37/100\n",
      "16/16 [==============================] - 0s 2ms/step - loss: 0.1164 - accuracy: 0.9635\n",
      "Epoch 38/100\n",
      "16/16 [==============================] - 0s 2ms/step - loss: 0.1125 - accuracy: 0.9844\n",
      "Epoch 39/100\n",
      "16/16 [==============================] - 0s 2ms/step - loss: 0.1103 - accuracy: 0.9583\n",
      "Epoch 40/100\n",
      "16/16 [==============================] - 0s 2ms/step - loss: 0.1079 - accuracy: 0.9688\n",
      "Epoch 41/100\n",
      "16/16 [==============================] - 0s 2ms/step - loss: 0.1036 - accuracy: 0.9688\n",
      "Epoch 42/100\n",
      "16/16 [==============================] - 0s 2ms/step - loss: 0.0993 - accuracy: 0.9844\n",
      "Epoch 43/100\n",
      "16/16 [==============================] - 0s 2ms/step - loss: 0.0991 - accuracy: 0.9688\n",
      "Epoch 44/100\n",
      "16/16 [==============================] - 0s 2ms/step - loss: 0.0924 - accuracy: 0.9844\n",
      "Epoch 45/100\n",
      "16/16 [==============================] - 0s 2ms/step - loss: 0.0886 - accuracy: 0.9844\n",
      "Epoch 46/100\n",
      "16/16 [==============================] - 0s 2ms/step - loss: 0.0890 - accuracy: 0.9792\n",
      "Epoch 47/100\n",
      "16/16 [==============================] - 0s 2ms/step - loss: 0.0884 - accuracy: 0.9740\n",
      "Epoch 48/100\n",
      "16/16 [==============================] - 0s 2ms/step - loss: 0.0842 - accuracy: 0.9844\n",
      "Epoch 49/100\n",
      "16/16 [==============================] - 0s 2ms/step - loss: 0.0782 - accuracy: 0.9896\n",
      "Epoch 50/100\n",
      "16/16 [==============================] - 0s 2ms/step - loss: 0.0790 - accuracy: 0.9740\n",
      "Epoch 51/100\n",
      "16/16 [==============================] - 0s 2ms/step - loss: 0.0756 - accuracy: 0.9844\n",
      "Epoch 52/100\n",
      "16/16 [==============================] - 0s 2ms/step - loss: 0.0764 - accuracy: 0.9844\n",
      "Epoch 53/100\n",
      "16/16 [==============================] - 0s 2ms/step - loss: 0.0704 - accuracy: 0.9844\n",
      "Epoch 54/100\n",
      "16/16 [==============================] - 0s 3ms/step - loss: 0.0697 - accuracy: 0.9896\n",
      "Epoch 55/100\n",
      "16/16 [==============================] - 0s 2ms/step - loss: 0.0677 - accuracy: 0.9844\n",
      "Epoch 56/100\n",
      "16/16 [==============================] - 0s 2ms/step - loss: 0.0665 - accuracy: 0.9896\n",
      "Epoch 57/100\n",
      "16/16 [==============================] - 0s 2ms/step - loss: 0.0717 - accuracy: 0.9792\n",
      "Epoch 58/100\n",
      "16/16 [==============================] - 0s 2ms/step - loss: 0.0617 - accuracy: 0.9948\n",
      "Epoch 59/100\n",
      "16/16 [==============================] - 0s 2ms/step - loss: 0.0613 - accuracy: 0.9896\n",
      "Epoch 60/100\n",
      "16/16 [==============================] - 0s 2ms/step - loss: 0.0618 - accuracy: 0.9948\n",
      "Epoch 61/100\n",
      "16/16 [==============================] - 0s 2ms/step - loss: 0.0581 - accuracy: 0.9948\n",
      "Epoch 62/100\n",
      "16/16 [==============================] - 0s 2ms/step - loss: 0.0562 - accuracy: 0.9948\n",
      "Epoch 63/100\n",
      "16/16 [==============================] - 0s 2ms/step - loss: 0.0548 - accuracy: 0.9948\n",
      "Epoch 64/100\n",
      "16/16 [==============================] - 0s 2ms/step - loss: 0.0574 - accuracy: 0.9896\n",
      "Epoch 65/100\n",
      "16/16 [==============================] - 0s 2ms/step - loss: 0.0517 - accuracy: 0.9948\n",
      "Epoch 66/100\n",
      "16/16 [==============================] - 0s 2ms/step - loss: 0.0527 - accuracy: 1.0000\n",
      "Epoch 67/100\n",
      "16/16 [==============================] - 0s 2ms/step - loss: 0.0514 - accuracy: 1.0000\n",
      "Epoch 68/100\n",
      "16/16 [==============================] - 0s 2ms/step - loss: 0.0480 - accuracy: 0.9948\n",
      "Epoch 69/100\n",
      "16/16 [==============================] - 0s 2ms/step - loss: 0.0475 - accuracy: 0.9948\n",
      "Epoch 70/100\n",
      "16/16 [==============================] - 0s 2ms/step - loss: 0.0470 - accuracy: 1.0000\n",
      "Epoch 71/100\n",
      "16/16 [==============================] - 0s 2ms/step - loss: 0.0453 - accuracy: 1.0000\n",
      "Epoch 72/100\n",
      "16/16 [==============================] - 0s 2ms/step - loss: 0.0434 - accuracy: 1.0000\n",
      "Epoch 73/100\n",
      "16/16 [==============================] - 0s 2ms/step - loss: 0.0436 - accuracy: 1.0000\n",
      "Epoch 74/100\n",
      "16/16 [==============================] - 0s 2ms/step - loss: 0.0404 - accuracy: 1.0000\n",
      "Epoch 75/100\n",
      "16/16 [==============================] - 0s 2ms/step - loss: 0.0405 - accuracy: 1.0000\n",
      "Epoch 76/100\n",
      "16/16 [==============================] - 0s 2ms/step - loss: 0.0410 - accuracy: 0.9948\n",
      "Epoch 77/100\n",
      "16/16 [==============================] - 0s 2ms/step - loss: 0.0397 - accuracy: 1.0000\n",
      "Epoch 78/100\n",
      "16/16 [==============================] - 0s 2ms/step - loss: 0.0401 - accuracy: 0.9948\n",
      "Epoch 79/100\n",
      "16/16 [==============================] - 0s 2ms/step - loss: 0.0395 - accuracy: 1.0000\n",
      "Epoch 80/100\n",
      "16/16 [==============================] - 0s 2ms/step - loss: 0.0393 - accuracy: 1.0000\n",
      "Epoch 81/100\n",
      "16/16 [==============================] - 0s 2ms/step - loss: 0.0357 - accuracy: 1.0000\n",
      "Epoch 82/100\n",
      "16/16 [==============================] - 0s 2ms/step - loss: 0.0347 - accuracy: 1.0000\n",
      "Epoch 83/100\n",
      "16/16 [==============================] - 0s 2ms/step - loss: 0.0334 - accuracy: 1.0000\n",
      "Epoch 84/100\n",
      "16/16 [==============================] - 0s 2ms/step - loss: 0.0324 - accuracy: 1.0000\n",
      "Epoch 85/100\n",
      "16/16 [==============================] - 0s 3ms/step - loss: 0.0328 - accuracy: 1.0000\n",
      "Epoch 86/100\n",
      "16/16 [==============================] - 0s 2ms/step - loss: 0.0310 - accuracy: 1.0000\n",
      "Epoch 87/100\n",
      "16/16 [==============================] - 0s 2ms/step - loss: 0.0308 - accuracy: 1.0000\n",
      "Epoch 88/100\n",
      "16/16 [==============================] - 0s 2ms/step - loss: 0.0309 - accuracy: 1.0000\n",
      "Epoch 89/100\n",
      "16/16 [==============================] - 0s 2ms/step - loss: 0.0298 - accuracy: 1.0000\n",
      "Epoch 90/100\n",
      "16/16 [==============================] - 0s 2ms/step - loss: 0.0297 - accuracy: 1.0000\n",
      "Epoch 91/100\n",
      "16/16 [==============================] - 0s 2ms/step - loss: 0.0296 - accuracy: 1.0000\n",
      "Epoch 92/100\n",
      "16/16 [==============================] - 0s 2ms/step - loss: 0.0286 - accuracy: 1.0000\n",
      "Epoch 93/100\n",
      "16/16 [==============================] - 0s 2ms/step - loss: 0.0276 - accuracy: 1.0000\n",
      "Epoch 94/100\n",
      "16/16 [==============================] - 0s 2ms/step - loss: 0.0291 - accuracy: 1.0000\n",
      "Epoch 95/100\n",
      "16/16 [==============================] - 0s 2ms/step - loss: 0.0264 - accuracy: 1.0000\n",
      "Epoch 96/100\n",
      "16/16 [==============================] - 0s 2ms/step - loss: 0.0255 - accuracy: 1.0000\n",
      "Epoch 97/100\n",
      "16/16 [==============================] - 0s 2ms/step - loss: 0.0264 - accuracy: 1.0000\n",
      "Epoch 98/100\n",
      "16/16 [==============================] - 0s 2ms/step - loss: 0.0245 - accuracy: 1.0000\n",
      "Epoch 99/100\n",
      "16/16 [==============================] - 0s 2ms/step - loss: 0.0242 - accuracy: 1.0000\n",
      "Epoch 100/100\n",
      "16/16 [==============================] - 0s 2ms/step - loss: 0.0240 - accuracy: 1.0000\n"
     ]
    },
    {
     "data": {
      "text/plain": [
       "<keras.callbacks.History at 0x7fac9c2dd810>"
      ]
     },
     "execution_count": 24,
     "metadata": {},
     "output_type": "execute_result"
    }
   ],
   "source": [
    "model.fit(x_train, y_train, epochs= 100, batch_size= 12)"
   ]
  },
  {
   "cell_type": "code",
   "execution_count": 25,
   "metadata": {},
   "outputs": [
    {
     "name": "stdout",
     "output_type": "stream",
     "text": [
      "2/2 [==============================] - 0s 2ms/step\n",
      "1.0\n"
     ]
    }
   ],
   "source": [
    "y_predict = model.predict(x_test)\n",
    "\n",
    "y_predict = np.argmax(y_predict, axis = 1)\n",
    "y_test = np.argmax(y_test, axis = 1)\n",
    "\n",
    "acurace =  accuracy_score(y_test, y_predict)\n",
    "\n",
    "print(acurace)"
   ]
  },
  {
   "attachments": {},
   "cell_type": "markdown",
   "metadata": {},
   "source": [
    "##### Para simples visualização dos resultados trouxe a classification_report e matriz de confusão, ambas funções sklearn que permitem a visualização dos resultados do teste."
   ]
  },
  {
   "cell_type": "code",
   "execution_count": 26,
   "metadata": {},
   "outputs": [
    {
     "name": "stdout",
     "output_type": "stream",
     "text": [
      "              precision    recall  f1-score   support\n",
      "\n",
      "           0       1.00      1.00      1.00         6\n",
      "           1       1.00      1.00      1.00        11\n",
      "           2       1.00      1.00      1.00        11\n",
      "           3       1.00      1.00      1.00         5\n",
      "           4       1.00      1.00      1.00         8\n",
      "           5       1.00      1.00      1.00         7\n",
      "\n",
      "    accuracy                           1.00        48\n",
      "   macro avg       1.00      1.00      1.00        48\n",
      "weighted avg       1.00      1.00      1.00        48\n",
      "\n"
     ]
    }
   ],
   "source": [
    "y_predict = pd.DataFrame(y_predict)\n",
    "\n",
    "y_predict = y_predict.astype(int)\n",
    "\n",
    "print(classification_report(y_predict, y_test))"
   ]
  },
  {
   "cell_type": "code",
   "execution_count": 38,
   "metadata": {},
   "outputs": [
    {
     "data": {
      "text/plain": [
       "<AxesSubplot:>"
      ]
     },
     "execution_count": 38,
     "metadata": {},
     "output_type": "execute_result"
    },
    {
     "data": {
      "image/png": "[encoded data removed]",
      "text/plain": [
       "<Figure size 720x288 with 2 Axes>"
      ]
     },
     "metadata": {
      "needs_background": "light"
     },
     "output_type": "display_data"
    }
   ],
   "source": [
    "matriz = confusion_matrix(y_predict, y_test)\n",
    "\n",
    "class_ = [\"Anão Vermelho\", \"Anã Marrom \",\"Anã Branca\", \"Sequência Principal\", \"Supergigantes\",\"Hipergigantes\"]\n",
    "\n",
    "fig = plt.figure(figsize=(10,4))\n",
    "\n",
    "fig.suptitle(f'Matriz de Confusão ', fontsize=14, fontweight='bold')\n",
    "\n",
    "sns.heatmap(matriz, annot=True, cmap = 'YlOrBr', xticklabels= class_, yticklabels= class_)\n"
   ]
  },
  {
   "cell_type": "code",
   "execution_count": 72,
   "metadata": {},
   "outputs": [
    {
     "data": {
      "text/plain": [
       "array([[10,  0,  0,  0,  0,  0],\n",
       "       [ 0,  9,  0,  0,  0,  0],\n",
       "       [ 0,  0,  8,  0,  0,  0],\n",
       "       [ 0,  0,  0,  5,  0,  0],\n",
       "       [ 0,  0,  0,  0,  8,  0],\n",
       "       [ 0,  0,  0,  0,  0,  8]])"
      ]
     },
     "execution_count": 72,
     "metadata": {},
     "output_type": "execute_result"
    }
   ],
   "source": [
    "matriz"
   ]
  }
 ],
 "metadata": {
  "kernelspec": {
   "display_name": "Python 3",
   "language": "python",
   "name": "python3"
  },
  "language_info": {
   "codemirror_mode": {
    "name": "ipython",
    "version": 3
   },
   "file_extension": ".py",
   "mimetype": "text/x-python",
   "name": "python",
   "nbconvert_exporter": "python",
   "pygments_lexer": "ipython3",
   "version": "3.10.6"
  },
  "orig_nbformat": 4,
  "vscode": {
   "interpreter": {
    "hash": "31f2aee4e71d21fbe5cf8b01ff0e069b9275f58929596ceb00d14d90e3e16cd6"
   }
  }
 },
 "nbformat": 4,
 "nbformat_minor": 2
}
